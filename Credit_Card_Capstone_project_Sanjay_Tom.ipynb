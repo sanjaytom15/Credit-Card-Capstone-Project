{
  "nbformat": 4,
  "nbformat_minor": 0,
  "metadata": {
    "colab": {
      "name": "Credit_Card_Capstone_project_Sanjay_Tom.ipynb",
      "provenance": [],
      "collapsed_sections": []
    },
    "kernelspec": {
      "name": "python3",
      "display_name": "Python 3"
    },
    "language_info": {
      "name": "python"
    }
  },
  "cells": [
    {
      "cell_type": "markdown",
      "source": [
        "# **Capstone Project: Credit Card Fraud Detection**\n"
      ],
      "metadata": {
        "id": "XfAbs2UTUJks"
      }
    },
    {
      "cell_type": "code",
      "execution_count": 1,
      "metadata": {
        "id": "xJ7iqXpAI-KB"
      },
      "outputs": [],
      "source": [
        "from google.colab import drive"
      ]
    },
    {
      "cell_type": "code",
      "source": [
        "# Importing required libraries\n",
        "\n",
        "import numpy as np\n",
        "import pandas as pd\n",
        "import matplotlib.pyplot as plt\n",
        "import seaborn as sns\n",
        "import datetime as dt\n",
        "\n",
        "#import libraries\n",
        "from sklearn.model_selection import StratifiedKFold\n",
        "from sklearn.model_selection import RandomizedSearchCV\n",
        "\n",
        "from sklearn.linear_model import LogisticRegression\n",
        "from sklearn.tree import DecisionTreeClassifier\n",
        "from sklearn.ensemble import RandomForestClassifier\n",
        "from xgboost import XGBClassifier\n",
        "from sklearn import metrics\n",
        "from sklearn.metrics import roc_auc_score\n",
        "\n",
        "import warnings\n",
        "warnings.filterwarnings('ignore')\n",
        "\n",
        "%matplotlib inline\n",
        "\n",
        "pd.set_option('display.max_columns', 500)"
      ],
      "metadata": {
        "id": "ycehDAScJH56"
      },
      "execution_count": 2,
      "outputs": []
    },
    {
      "cell_type": "markdown",
      "source": [
        "**Importing data into the dataframe**"
      ],
      "metadata": {
        "id": "RoWwacSgJUhm"
      }
    },
    {
      "cell_type": "code",
      "source": [
        "# Reading the train dataset\n",
        "df_train =pd.read_csv('/content/drive/MyDrive/fraudTrain.csv/fraudTrain.csv')\n",
        "df_train.head()"
      ],
      "metadata": {
        "id": "t0CUHzfoJPW5",
        "colab": {
          "base_uri": "https://localhost:8080/",
          "height": 565
        },
        "outputId": "b93fc795-d189-472d-f851-aa062622db85"
      },
      "execution_count": 3,
      "outputs": [
        {
          "output_type": "execute_result",
          "data": {
            "text/plain": [
              "   Unnamed: 0 trans_date_trans_time            cc_num  \\\n",
              "0           0   2019-01-01 00:00:18  2703186189652095   \n",
              "1           1   2019-01-01 00:00:44      630423337322   \n",
              "2           2   2019-01-01 00:00:51    38859492057661   \n",
              "3           3   2019-01-01 00:01:16  3534093764340240   \n",
              "4           4   2019-01-01 00:03:06   375534208663984   \n",
              "\n",
              "                             merchant       category     amt      first  \\\n",
              "0          fraud_Rippin, Kub and Mann       misc_net    4.97   Jennifer   \n",
              "1     fraud_Heller, Gutmann and Zieme    grocery_pos  107.23  Stephanie   \n",
              "2                fraud_Lind-Buckridge  entertainment  220.11     Edward   \n",
              "3  fraud_Kutch, Hermiston and Farrell  gas_transport   45.00     Jeremy   \n",
              "4                 fraud_Keeling-Crist       misc_pos   41.96      Tyler   \n",
              "\n",
              "      last gender                        street            city state    zip  \\\n",
              "0    Banks      F                561 Perry Cove  Moravian Falls    NC  28654   \n",
              "1     Gill      F  43039 Riley Greens Suite 393          Orient    WA  99160   \n",
              "2  Sanchez      M      594 White Dale Suite 530      Malad City    ID  83252   \n",
              "3    White      M   9443 Cynthia Court Apt. 038         Boulder    MT  59632   \n",
              "4   Garcia      M              408 Bradley Rest        Doe Hill    VA  24433   \n",
              "\n",
              "       lat      long  city_pop                                job         dob  \\\n",
              "0  36.0788  -81.1781      3495          Psychologist, counselling  1988-03-09   \n",
              "1  48.8878 -118.2105       149  Special educational needs teacher  1978-06-21   \n",
              "2  42.1808 -112.2620      4154        Nature conservation officer  1962-01-19   \n",
              "3  46.2306 -112.1138      1939                    Patent attorney  1967-01-12   \n",
              "4  38.4207  -79.4629        99     Dance movement psychotherapist  1986-03-28   \n",
              "\n",
              "                          trans_num   unix_time  merch_lat  merch_long  \\\n",
              "0  0b242abb623afc578575680df30655b9  1325376018  36.011293  -82.048315   \n",
              "1  1f76529f8574734946361c461b024d99  1325376044  49.159047 -118.186462   \n",
              "2  a1a22d70485983eac12b5b88dad1cf95  1325376051  43.150704 -112.154481   \n",
              "3  6b849c168bdad6f867558c3793159a81  1325376076  47.034331 -112.561071   \n",
              "4  a41d7549acf90789359a9aa5346dcb46  1325376186  38.674999  -78.632459   \n",
              "\n",
              "   is_fraud  \n",
              "0         0  \n",
              "1         0  \n",
              "2         0  \n",
              "3         0  \n",
              "4         0  "
            ],
            "text/html": [
              "\n",
              "  <div id=\"df-01a24632-3329-415c-8f00-72aad7993615\">\n",
              "    <div class=\"colab-df-container\">\n",
              "      <div>\n",
              "<style scoped>\n",
              "    .dataframe tbody tr th:only-of-type {\n",
              "        vertical-align: middle;\n",
              "    }\n",
              "\n",
              "    .dataframe tbody tr th {\n",
              "        vertical-align: top;\n",
              "    }\n",
              "\n",
              "    .dataframe thead th {\n",
              "        text-align: right;\n",
              "    }\n",
              "</style>\n",
              "<table border=\"1\" class=\"dataframe\">\n",
              "  <thead>\n",
              "    <tr style=\"text-align: right;\">\n",
              "      <th></th>\n",
              "      <th>Unnamed: 0</th>\n",
              "      <th>trans_date_trans_time</th>\n",
              "      <th>cc_num</th>\n",
              "      <th>merchant</th>\n",
              "      <th>category</th>\n",
              "      <th>amt</th>\n",
              "      <th>first</th>\n",
              "      <th>last</th>\n",
              "      <th>gender</th>\n",
              "      <th>street</th>\n",
              "      <th>city</th>\n",
              "      <th>state</th>\n",
              "      <th>zip</th>\n",
              "      <th>lat</th>\n",
              "      <th>long</th>\n",
              "      <th>city_pop</th>\n",
              "      <th>job</th>\n",
              "      <th>dob</th>\n",
              "      <th>trans_num</th>\n",
              "      <th>unix_time</th>\n",
              "      <th>merch_lat</th>\n",
              "      <th>merch_long</th>\n",
              "      <th>is_fraud</th>\n",
              "    </tr>\n",
              "  </thead>\n",
              "  <tbody>\n",
              "    <tr>\n",
              "      <th>0</th>\n",
              "      <td>0</td>\n",
              "      <td>2019-01-01 00:00:18</td>\n",
              "      <td>2703186189652095</td>\n",
              "      <td>fraud_Rippin, Kub and Mann</td>\n",
              "      <td>misc_net</td>\n",
              "      <td>4.97</td>\n",
              "      <td>Jennifer</td>\n",
              "      <td>Banks</td>\n",
              "      <td>F</td>\n",
              "      <td>561 Perry Cove</td>\n",
              "      <td>Moravian Falls</td>\n",
              "      <td>NC</td>\n",
              "      <td>28654</td>\n",
              "      <td>36.0788</td>\n",
              "      <td>-81.1781</td>\n",
              "      <td>3495</td>\n",
              "      <td>Psychologist, counselling</td>\n",
              "      <td>1988-03-09</td>\n",
              "      <td>0b242abb623afc578575680df30655b9</td>\n",
              "      <td>1325376018</td>\n",
              "      <td>36.011293</td>\n",
              "      <td>-82.048315</td>\n",
              "      <td>0</td>\n",
              "    </tr>\n",
              "    <tr>\n",
              "      <th>1</th>\n",
              "      <td>1</td>\n",
              "      <td>2019-01-01 00:00:44</td>\n",
              "      <td>630423337322</td>\n",
              "      <td>fraud_Heller, Gutmann and Zieme</td>\n",
              "      <td>grocery_pos</td>\n",
              "      <td>107.23</td>\n",
              "      <td>Stephanie</td>\n",
              "      <td>Gill</td>\n",
              "      <td>F</td>\n",
              "      <td>43039 Riley Greens Suite 393</td>\n",
              "      <td>Orient</td>\n",
              "      <td>WA</td>\n",
              "      <td>99160</td>\n",
              "      <td>48.8878</td>\n",
              "      <td>-118.2105</td>\n",
              "      <td>149</td>\n",
              "      <td>Special educational needs teacher</td>\n",
              "      <td>1978-06-21</td>\n",
              "      <td>1f76529f8574734946361c461b024d99</td>\n",
              "      <td>1325376044</td>\n",
              "      <td>49.159047</td>\n",
              "      <td>-118.186462</td>\n",
              "      <td>0</td>\n",
              "    </tr>\n",
              "    <tr>\n",
              "      <th>2</th>\n",
              "      <td>2</td>\n",
              "      <td>2019-01-01 00:00:51</td>\n",
              "      <td>38859492057661</td>\n",
              "      <td>fraud_Lind-Buckridge</td>\n",
              "      <td>entertainment</td>\n",
              "      <td>220.11</td>\n",
              "      <td>Edward</td>\n",
              "      <td>Sanchez</td>\n",
              "      <td>M</td>\n",
              "      <td>594 White Dale Suite 530</td>\n",
              "      <td>Malad City</td>\n",
              "      <td>ID</td>\n",
              "      <td>83252</td>\n",
              "      <td>42.1808</td>\n",
              "      <td>-112.2620</td>\n",
              "      <td>4154</td>\n",
              "      <td>Nature conservation officer</td>\n",
              "      <td>1962-01-19</td>\n",
              "      <td>a1a22d70485983eac12b5b88dad1cf95</td>\n",
              "      <td>1325376051</td>\n",
              "      <td>43.150704</td>\n",
              "      <td>-112.154481</td>\n",
              "      <td>0</td>\n",
              "    </tr>\n",
              "    <tr>\n",
              "      <th>3</th>\n",
              "      <td>3</td>\n",
              "      <td>2019-01-01 00:01:16</td>\n",
              "      <td>3534093764340240</td>\n",
              "      <td>fraud_Kutch, Hermiston and Farrell</td>\n",
              "      <td>gas_transport</td>\n",
              "      <td>45.00</td>\n",
              "      <td>Jeremy</td>\n",
              "      <td>White</td>\n",
              "      <td>M</td>\n",
              "      <td>9443 Cynthia Court Apt. 038</td>\n",
              "      <td>Boulder</td>\n",
              "      <td>MT</td>\n",
              "      <td>59632</td>\n",
              "      <td>46.2306</td>\n",
              "      <td>-112.1138</td>\n",
              "      <td>1939</td>\n",
              "      <td>Patent attorney</td>\n",
              "      <td>1967-01-12</td>\n",
              "      <td>6b849c168bdad6f867558c3793159a81</td>\n",
              "      <td>1325376076</td>\n",
              "      <td>47.034331</td>\n",
              "      <td>-112.561071</td>\n",
              "      <td>0</td>\n",
              "    </tr>\n",
              "    <tr>\n",
              "      <th>4</th>\n",
              "      <td>4</td>\n",
              "      <td>2019-01-01 00:03:06</td>\n",
              "      <td>375534208663984</td>\n",
              "      <td>fraud_Keeling-Crist</td>\n",
              "      <td>misc_pos</td>\n",
              "      <td>41.96</td>\n",
              "      <td>Tyler</td>\n",
              "      <td>Garcia</td>\n",
              "      <td>M</td>\n",
              "      <td>408 Bradley Rest</td>\n",
              "      <td>Doe Hill</td>\n",
              "      <td>VA</td>\n",
              "      <td>24433</td>\n",
              "      <td>38.4207</td>\n",
              "      <td>-79.4629</td>\n",
              "      <td>99</td>\n",
              "      <td>Dance movement psychotherapist</td>\n",
              "      <td>1986-03-28</td>\n",
              "      <td>a41d7549acf90789359a9aa5346dcb46</td>\n",
              "      <td>1325376186</td>\n",
              "      <td>38.674999</td>\n",
              "      <td>-78.632459</td>\n",
              "      <td>0</td>\n",
              "    </tr>\n",
              "  </tbody>\n",
              "</table>\n",
              "</div>\n",
              "      <button class=\"colab-df-convert\" onclick=\"convertToInteractive('df-01a24632-3329-415c-8f00-72aad7993615')\"\n",
              "              title=\"Convert this dataframe to an interactive table.\"\n",
              "              style=\"display:none;\">\n",
              "        \n",
              "  <svg xmlns=\"http://www.w3.org/2000/svg\" height=\"24px\"viewBox=\"0 0 24 24\"\n",
              "       width=\"24px\">\n",
              "    <path d=\"M0 0h24v24H0V0z\" fill=\"none\"/>\n",
              "    <path d=\"M18.56 5.44l.94 2.06.94-2.06 2.06-.94-2.06-.94-.94-2.06-.94 2.06-2.06.94zm-11 1L8.5 8.5l.94-2.06 2.06-.94-2.06-.94L8.5 2.5l-.94 2.06-2.06.94zm10 10l.94 2.06.94-2.06 2.06-.94-2.06-.94-.94-2.06-.94 2.06-2.06.94z\"/><path d=\"M17.41 7.96l-1.37-1.37c-.4-.4-.92-.59-1.43-.59-.52 0-1.04.2-1.43.59L10.3 9.45l-7.72 7.72c-.78.78-.78 2.05 0 2.83L4 21.41c.39.39.9.59 1.41.59.51 0 1.02-.2 1.41-.59l7.78-7.78 2.81-2.81c.8-.78.8-2.07 0-2.86zM5.41 20L4 18.59l7.72-7.72 1.47 1.35L5.41 20z\"/>\n",
              "  </svg>\n",
              "      </button>\n",
              "      \n",
              "  <style>\n",
              "    .colab-df-container {\n",
              "      display:flex;\n",
              "      flex-wrap:wrap;\n",
              "      gap: 12px;\n",
              "    }\n",
              "\n",
              "    .colab-df-convert {\n",
              "      background-color: #E8F0FE;\n",
              "      border: none;\n",
              "      border-radius: 50%;\n",
              "      cursor: pointer;\n",
              "      display: none;\n",
              "      fill: #1967D2;\n",
              "      height: 32px;\n",
              "      padding: 0 0 0 0;\n",
              "      width: 32px;\n",
              "    }\n",
              "\n",
              "    .colab-df-convert:hover {\n",
              "      background-color: #E2EBFA;\n",
              "      box-shadow: 0px 1px 2px rgba(60, 64, 67, 0.3), 0px 1px 3px 1px rgba(60, 64, 67, 0.15);\n",
              "      fill: #174EA6;\n",
              "    }\n",
              "\n",
              "    [theme=dark] .colab-df-convert {\n",
              "      background-color: #3B4455;\n",
              "      fill: #D2E3FC;\n",
              "    }\n",
              "\n",
              "    [theme=dark] .colab-df-convert:hover {\n",
              "      background-color: #434B5C;\n",
              "      box-shadow: 0px 1px 3px 1px rgba(0, 0, 0, 0.15);\n",
              "      filter: drop-shadow(0px 1px 2px rgba(0, 0, 0, 0.3));\n",
              "      fill: #FFFFFF;\n",
              "    }\n",
              "  </style>\n",
              "\n",
              "      <script>\n",
              "        const buttonEl =\n",
              "          document.querySelector('#df-01a24632-3329-415c-8f00-72aad7993615 button.colab-df-convert');\n",
              "        buttonEl.style.display =\n",
              "          google.colab.kernel.accessAllowed ? 'block' : 'none';\n",
              "\n",
              "        async function convertToInteractive(key) {\n",
              "          const element = document.querySelector('#df-01a24632-3329-415c-8f00-72aad7993615');\n",
              "          const dataTable =\n",
              "            await google.colab.kernel.invokeFunction('convertToInteractive',\n",
              "                                                     [key], {});\n",
              "          if (!dataTable) return;\n",
              "\n",
              "          const docLinkHtml = 'Like what you see? Visit the ' +\n",
              "            '<a target=\"_blank\" href=https://colab.research.google.com/notebooks/data_table.ipynb>data table notebook</a>'\n",
              "            + ' to learn more about interactive tables.';\n",
              "          element.innerHTML = '';\n",
              "          dataTable['output_type'] = 'display_data';\n",
              "          await google.colab.output.renderOutput(dataTable, element);\n",
              "          const docLink = document.createElement('div');\n",
              "          docLink.innerHTML = docLinkHtml;\n",
              "          element.appendChild(docLink);\n",
              "        }\n",
              "      </script>\n",
              "    </div>\n",
              "  </div>\n",
              "  "
            ]
          },
          "metadata": {},
          "execution_count": 3
        }
      ]
    },
    {
      "cell_type": "code",
      "source": [
        "# Reading the test dataset\n",
        "df_test =pd.read_csv('/content/drive/MyDrive/fraudTest.csv/fraudTest.csv')\n",
        "df_test.head()"
      ],
      "metadata": {
        "id": "eBnpLWOEJrah",
        "colab": {
          "base_uri": "https://localhost:8080/",
          "height": 496
        },
        "outputId": "2182ba16-c849-437e-a8ef-060f6917520c"
      },
      "execution_count": 4,
      "outputs": [
        {
          "output_type": "execute_result",
          "data": {
            "text/plain": [
              "   Unnamed: 0 trans_date_trans_time            cc_num  \\\n",
              "0           0   2020-06-21 12:14:25  2291163933867244   \n",
              "1           1   2020-06-21 12:14:33  3573030041201292   \n",
              "2           2   2020-06-21 12:14:53  3598215285024754   \n",
              "3           3   2020-06-21 12:15:15  3591919803438423   \n",
              "4           4   2020-06-21 12:15:17  3526826139003047   \n",
              "\n",
              "                               merchant        category    amt   first  \\\n",
              "0                 fraud_Kirlin and Sons   personal_care   2.86    Jeff   \n",
              "1                  fraud_Sporer-Keebler   personal_care  29.84  Joanne   \n",
              "2  fraud_Swaniawski, Nitzsche and Welch  health_fitness  41.28  Ashley   \n",
              "3                     fraud_Haley Group        misc_pos  60.05   Brian   \n",
              "4                 fraud_Johnston-Casper          travel   3.19  Nathan   \n",
              "\n",
              "       last gender                       street        city state    zip  \\\n",
              "0   Elliott      M            351 Darlene Green    Columbia    SC  29209   \n",
              "1  Williams      F             3638 Marsh Union     Altonah    UT  84002   \n",
              "2     Lopez      F         9333 Valentine Point    Bellmore    NY  11710   \n",
              "3  Williams      M  32941 Krystal Mill Apt. 552  Titusville    FL  32780   \n",
              "4    Massey      M     5783 Evan Roads Apt. 465    Falmouth    MI  49632   \n",
              "\n",
              "       lat      long  city_pop                     job         dob  \\\n",
              "0  33.9659  -80.9355    333497     Mechanical engineer  1968-03-19   \n",
              "1  40.3207 -110.4360       302  Sales professional, IT  1990-01-17   \n",
              "2  40.6729  -73.5365     34496       Librarian, public  1970-10-21   \n",
              "3  28.5697  -80.8191     54767            Set designer  1987-07-25   \n",
              "4  44.2529  -85.0170      1126      Furniture designer  1955-07-06   \n",
              "\n",
              "                          trans_num   unix_time  merch_lat  merch_long  \\\n",
              "0  2da90c7d74bd46a0caf3777415b3ebd3  1371816865  33.986391  -81.200714   \n",
              "1  324cc204407e99f51b0d6ca0055005e7  1371816873  39.450498 -109.960431   \n",
              "2  c81755dbbbea9d5c77f094348a7579be  1371816893  40.495810  -74.196111   \n",
              "3  2159175b9efe66dc301f149d3d5abf8c  1371816915  28.812398  -80.883061   \n",
              "4  57ff021bd3f328f8738bb535c302a31b  1371816917  44.959148  -85.884734   \n",
              "\n",
              "   is_fraud  \n",
              "0         0  \n",
              "1         0  \n",
              "2         0  \n",
              "3         0  \n",
              "4         0  "
            ],
            "text/html": [
              "\n",
              "  <div id=\"df-4aad69d5-2db6-4a91-a2ce-1dc505cad1c5\">\n",
              "    <div class=\"colab-df-container\">\n",
              "      <div>\n",
              "<style scoped>\n",
              "    .dataframe tbody tr th:only-of-type {\n",
              "        vertical-align: middle;\n",
              "    }\n",
              "\n",
              "    .dataframe tbody tr th {\n",
              "        vertical-align: top;\n",
              "    }\n",
              "\n",
              "    .dataframe thead th {\n",
              "        text-align: right;\n",
              "    }\n",
              "</style>\n",
              "<table border=\"1\" class=\"dataframe\">\n",
              "  <thead>\n",
              "    <tr style=\"text-align: right;\">\n",
              "      <th></th>\n",
              "      <th>Unnamed: 0</th>\n",
              "      <th>trans_date_trans_time</th>\n",
              "      <th>cc_num</th>\n",
              "      <th>merchant</th>\n",
              "      <th>category</th>\n",
              "      <th>amt</th>\n",
              "      <th>first</th>\n",
              "      <th>last</th>\n",
              "      <th>gender</th>\n",
              "      <th>street</th>\n",
              "      <th>city</th>\n",
              "      <th>state</th>\n",
              "      <th>zip</th>\n",
              "      <th>lat</th>\n",
              "      <th>long</th>\n",
              "      <th>city_pop</th>\n",
              "      <th>job</th>\n",
              "      <th>dob</th>\n",
              "      <th>trans_num</th>\n",
              "      <th>unix_time</th>\n",
              "      <th>merch_lat</th>\n",
              "      <th>merch_long</th>\n",
              "      <th>is_fraud</th>\n",
              "    </tr>\n",
              "  </thead>\n",
              "  <tbody>\n",
              "    <tr>\n",
              "      <th>0</th>\n",
              "      <td>0</td>\n",
              "      <td>2020-06-21 12:14:25</td>\n",
              "      <td>2291163933867244</td>\n",
              "      <td>fraud_Kirlin and Sons</td>\n",
              "      <td>personal_care</td>\n",
              "      <td>2.86</td>\n",
              "      <td>Jeff</td>\n",
              "      <td>Elliott</td>\n",
              "      <td>M</td>\n",
              "      <td>351 Darlene Green</td>\n",
              "      <td>Columbia</td>\n",
              "      <td>SC</td>\n",
              "      <td>29209</td>\n",
              "      <td>33.9659</td>\n",
              "      <td>-80.9355</td>\n",
              "      <td>333497</td>\n",
              "      <td>Mechanical engineer</td>\n",
              "      <td>1968-03-19</td>\n",
              "      <td>2da90c7d74bd46a0caf3777415b3ebd3</td>\n",
              "      <td>1371816865</td>\n",
              "      <td>33.986391</td>\n",
              "      <td>-81.200714</td>\n",
              "      <td>0</td>\n",
              "    </tr>\n",
              "    <tr>\n",
              "      <th>1</th>\n",
              "      <td>1</td>\n",
              "      <td>2020-06-21 12:14:33</td>\n",
              "      <td>3573030041201292</td>\n",
              "      <td>fraud_Sporer-Keebler</td>\n",
              "      <td>personal_care</td>\n",
              "      <td>29.84</td>\n",
              "      <td>Joanne</td>\n",
              "      <td>Williams</td>\n",
              "      <td>F</td>\n",
              "      <td>3638 Marsh Union</td>\n",
              "      <td>Altonah</td>\n",
              "      <td>UT</td>\n",
              "      <td>84002</td>\n",
              "      <td>40.3207</td>\n",
              "      <td>-110.4360</td>\n",
              "      <td>302</td>\n",
              "      <td>Sales professional, IT</td>\n",
              "      <td>1990-01-17</td>\n",
              "      <td>324cc204407e99f51b0d6ca0055005e7</td>\n",
              "      <td>1371816873</td>\n",
              "      <td>39.450498</td>\n",
              "      <td>-109.960431</td>\n",
              "      <td>0</td>\n",
              "    </tr>\n",
              "    <tr>\n",
              "      <th>2</th>\n",
              "      <td>2</td>\n",
              "      <td>2020-06-21 12:14:53</td>\n",
              "      <td>3598215285024754</td>\n",
              "      <td>fraud_Swaniawski, Nitzsche and Welch</td>\n",
              "      <td>health_fitness</td>\n",
              "      <td>41.28</td>\n",
              "      <td>Ashley</td>\n",
              "      <td>Lopez</td>\n",
              "      <td>F</td>\n",
              "      <td>9333 Valentine Point</td>\n",
              "      <td>Bellmore</td>\n",
              "      <td>NY</td>\n",
              "      <td>11710</td>\n",
              "      <td>40.6729</td>\n",
              "      <td>-73.5365</td>\n",
              "      <td>34496</td>\n",
              "      <td>Librarian, public</td>\n",
              "      <td>1970-10-21</td>\n",
              "      <td>c81755dbbbea9d5c77f094348a7579be</td>\n",
              "      <td>1371816893</td>\n",
              "      <td>40.495810</td>\n",
              "      <td>-74.196111</td>\n",
              "      <td>0</td>\n",
              "    </tr>\n",
              "    <tr>\n",
              "      <th>3</th>\n",
              "      <td>3</td>\n",
              "      <td>2020-06-21 12:15:15</td>\n",
              "      <td>3591919803438423</td>\n",
              "      <td>fraud_Haley Group</td>\n",
              "      <td>misc_pos</td>\n",
              "      <td>60.05</td>\n",
              "      <td>Brian</td>\n",
              "      <td>Williams</td>\n",
              "      <td>M</td>\n",
              "      <td>32941 Krystal Mill Apt. 552</td>\n",
              "      <td>Titusville</td>\n",
              "      <td>FL</td>\n",
              "      <td>32780</td>\n",
              "      <td>28.5697</td>\n",
              "      <td>-80.8191</td>\n",
              "      <td>54767</td>\n",
              "      <td>Set designer</td>\n",
              "      <td>1987-07-25</td>\n",
              "      <td>2159175b9efe66dc301f149d3d5abf8c</td>\n",
              "      <td>1371816915</td>\n",
              "      <td>28.812398</td>\n",
              "      <td>-80.883061</td>\n",
              "      <td>0</td>\n",
              "    </tr>\n",
              "    <tr>\n",
              "      <th>4</th>\n",
              "      <td>4</td>\n",
              "      <td>2020-06-21 12:15:17</td>\n",
              "      <td>3526826139003047</td>\n",
              "      <td>fraud_Johnston-Casper</td>\n",
              "      <td>travel</td>\n",
              "      <td>3.19</td>\n",
              "      <td>Nathan</td>\n",
              "      <td>Massey</td>\n",
              "      <td>M</td>\n",
              "      <td>5783 Evan Roads Apt. 465</td>\n",
              "      <td>Falmouth</td>\n",
              "      <td>MI</td>\n",
              "      <td>49632</td>\n",
              "      <td>44.2529</td>\n",
              "      <td>-85.0170</td>\n",
              "      <td>1126</td>\n",
              "      <td>Furniture designer</td>\n",
              "      <td>1955-07-06</td>\n",
              "      <td>57ff021bd3f328f8738bb535c302a31b</td>\n",
              "      <td>1371816917</td>\n",
              "      <td>44.959148</td>\n",
              "      <td>-85.884734</td>\n",
              "      <td>0</td>\n",
              "    </tr>\n",
              "  </tbody>\n",
              "</table>\n",
              "</div>\n",
              "      <button class=\"colab-df-convert\" onclick=\"convertToInteractive('df-4aad69d5-2db6-4a91-a2ce-1dc505cad1c5')\"\n",
              "              title=\"Convert this dataframe to an interactive table.\"\n",
              "              style=\"display:none;\">\n",
              "        \n",
              "  <svg xmlns=\"http://www.w3.org/2000/svg\" height=\"24px\"viewBox=\"0 0 24 24\"\n",
              "       width=\"24px\">\n",
              "    <path d=\"M0 0h24v24H0V0z\" fill=\"none\"/>\n",
              "    <path d=\"M18.56 5.44l.94 2.06.94-2.06 2.06-.94-2.06-.94-.94-2.06-.94 2.06-2.06.94zm-11 1L8.5 8.5l.94-2.06 2.06-.94-2.06-.94L8.5 2.5l-.94 2.06-2.06.94zm10 10l.94 2.06.94-2.06 2.06-.94-2.06-.94-.94-2.06-.94 2.06-2.06.94z\"/><path d=\"M17.41 7.96l-1.37-1.37c-.4-.4-.92-.59-1.43-.59-.52 0-1.04.2-1.43.59L10.3 9.45l-7.72 7.72c-.78.78-.78 2.05 0 2.83L4 21.41c.39.39.9.59 1.41.59.51 0 1.02-.2 1.41-.59l7.78-7.78 2.81-2.81c.8-.78.8-2.07 0-2.86zM5.41 20L4 18.59l7.72-7.72 1.47 1.35L5.41 20z\"/>\n",
              "  </svg>\n",
              "      </button>\n",
              "      \n",
              "  <style>\n",
              "    .colab-df-container {\n",
              "      display:flex;\n",
              "      flex-wrap:wrap;\n",
              "      gap: 12px;\n",
              "    }\n",
              "\n",
              "    .colab-df-convert {\n",
              "      background-color: #E8F0FE;\n",
              "      border: none;\n",
              "      border-radius: 50%;\n",
              "      cursor: pointer;\n",
              "      display: none;\n",
              "      fill: #1967D2;\n",
              "      height: 32px;\n",
              "      padding: 0 0 0 0;\n",
              "      width: 32px;\n",
              "    }\n",
              "\n",
              "    .colab-df-convert:hover {\n",
              "      background-color: #E2EBFA;\n",
              "      box-shadow: 0px 1px 2px rgba(60, 64, 67, 0.3), 0px 1px 3px 1px rgba(60, 64, 67, 0.15);\n",
              "      fill: #174EA6;\n",
              "    }\n",
              "\n",
              "    [theme=dark] .colab-df-convert {\n",
              "      background-color: #3B4455;\n",
              "      fill: #D2E3FC;\n",
              "    }\n",
              "\n",
              "    [theme=dark] .colab-df-convert:hover {\n",
              "      background-color: #434B5C;\n",
              "      box-shadow: 0px 1px 3px 1px rgba(0, 0, 0, 0.15);\n",
              "      filter: drop-shadow(0px 1px 2px rgba(0, 0, 0, 0.3));\n",
              "      fill: #FFFFFF;\n",
              "    }\n",
              "  </style>\n",
              "\n",
              "      <script>\n",
              "        const buttonEl =\n",
              "          document.querySelector('#df-4aad69d5-2db6-4a91-a2ce-1dc505cad1c5 button.colab-df-convert');\n",
              "        buttonEl.style.display =\n",
              "          google.colab.kernel.accessAllowed ? 'block' : 'none';\n",
              "\n",
              "        async function convertToInteractive(key) {\n",
              "          const element = document.querySelector('#df-4aad69d5-2db6-4a91-a2ce-1dc505cad1c5');\n",
              "          const dataTable =\n",
              "            await google.colab.kernel.invokeFunction('convertToInteractive',\n",
              "                                                     [key], {});\n",
              "          if (!dataTable) return;\n",
              "\n",
              "          const docLinkHtml = 'Like what you see? Visit the ' +\n",
              "            '<a target=\"_blank\" href=https://colab.research.google.com/notebooks/data_table.ipynb>data table notebook</a>'\n",
              "            + ' to learn more about interactive tables.';\n",
              "          element.innerHTML = '';\n",
              "          dataTable['output_type'] = 'display_data';\n",
              "          await google.colab.output.renderOutput(dataTable, element);\n",
              "          const docLink = document.createElement('div');\n",
              "          docLink.innerHTML = docLinkHtml;\n",
              "          element.appendChild(docLink);\n",
              "        }\n",
              "      </script>\n",
              "    </div>\n",
              "  </div>\n",
              "  "
            ]
          },
          "metadata": {},
          "execution_count": 4
        }
      ]
    },
    {
      "cell_type": "code",
      "source": [
        "# Dropping the Unnamed column from both the dataframe\n",
        "df_train.drop(\"Unnamed: 0\",axis=1,inplace=True)\n",
        "df_test.drop(\"Unnamed: 0\",axis=1,inplace=True)"
      ],
      "metadata": {
        "id": "mPZVYbUcKmfc"
      },
      "execution_count": 5,
      "outputs": []
    },
    {
      "cell_type": "markdown",
      "source": [
        "Inspecting the dataframes"
      ],
      "metadata": {
        "id": "D3qyVoA3UUq5"
      }
    },
    {
      "cell_type": "code",
      "source": [
        "# Inspecting shape of the data frame\n",
        "print(df_train.shape)\n"
      ],
      "metadata": {
        "id": "8fTy1YDvKubg",
        "colab": {
          "base_uri": "https://localhost:8080/"
        },
        "outputId": "5cef6a8b-b2cb-4744-8a77-4e045c1361cc"
      },
      "execution_count": 6,
      "outputs": [
        {
          "output_type": "stream",
          "name": "stdout",
          "text": [
            "(1296675, 22)\n"
          ]
        }
      ]
    },
    {
      "cell_type": "code",
      "source": [
        "# Inspecting the shape of the data frame\n",
        "print(df_test.shape)"
      ],
      "metadata": {
        "id": "9B03rOUJUh9v",
        "colab": {
          "base_uri": "https://localhost:8080/"
        },
        "outputId": "869bed12-53b0-49de-b15c-0f1d76c0db67"
      },
      "execution_count": 7,
      "outputs": [
        {
          "output_type": "stream",
          "name": "stdout",
          "text": [
            "(555719, 22)\n"
          ]
        }
      ]
    },
    {
      "cell_type": "code",
      "source": [
        "# Check the summary of the train dataframe\n",
        "df_train.describe()"
      ],
      "metadata": {
        "id": "JtvIyLjXKxug",
        "colab": {
          "base_uri": "https://localhost:8080/",
          "height": 300
        },
        "outputId": "a07c6ea2-9469-4edb-b0c9-8595e70845be"
      },
      "execution_count": 8,
      "outputs": [
        {
          "output_type": "execute_result",
          "data": {
            "text/plain": [
              "             cc_num           amt           zip           lat          long  \\\n",
              "count  1.296675e+06  1.296675e+06  1.296675e+06  1.296675e+06  1.296675e+06   \n",
              "mean   4.171920e+17  7.035104e+01  4.880067e+04  3.853762e+01 -9.022634e+01   \n",
              "std    1.308806e+18  1.603160e+02  2.689322e+04  5.075808e+00  1.375908e+01   \n",
              "min    6.041621e+10  1.000000e+00  1.257000e+03  2.002710e+01 -1.656723e+02   \n",
              "25%    1.800429e+14  9.650000e+00  2.623700e+04  3.462050e+01 -9.679800e+01   \n",
              "50%    3.521417e+15  4.752000e+01  4.817400e+04  3.935430e+01 -8.747690e+01   \n",
              "75%    4.642255e+15  8.314000e+01  7.204200e+04  4.194040e+01 -8.015800e+01   \n",
              "max    4.992346e+18  2.894890e+04  9.978300e+04  6.669330e+01 -6.795030e+01   \n",
              "\n",
              "           city_pop     unix_time     merch_lat    merch_long      is_fraud  \n",
              "count  1.296675e+06  1.296675e+06  1.296675e+06  1.296675e+06  1.296675e+06  \n",
              "mean   8.882444e+04  1.349244e+09  3.853734e+01 -9.022646e+01  5.788652e-03  \n",
              "std    3.019564e+05  1.284128e+07  5.109788e+00  1.377109e+01  7.586269e-02  \n",
              "min    2.300000e+01  1.325376e+09  1.902779e+01 -1.666712e+02  0.000000e+00  \n",
              "25%    7.430000e+02  1.338751e+09  3.473357e+01 -9.689728e+01  0.000000e+00  \n",
              "50%    2.456000e+03  1.349250e+09  3.936568e+01 -8.743839e+01  0.000000e+00  \n",
              "75%    2.032800e+04  1.359385e+09  4.195716e+01 -8.023680e+01  0.000000e+00  \n",
              "max    2.906700e+06  1.371817e+09  6.751027e+01 -6.695090e+01  1.000000e+00  "
            ],
            "text/html": [
              "\n",
              "  <div id=\"df-318f3b2f-c077-4a04-83df-e7e302ddc0e0\">\n",
              "    <div class=\"colab-df-container\">\n",
              "      <div>\n",
              "<style scoped>\n",
              "    .dataframe tbody tr th:only-of-type {\n",
              "        vertical-align: middle;\n",
              "    }\n",
              "\n",
              "    .dataframe tbody tr th {\n",
              "        vertical-align: top;\n",
              "    }\n",
              "\n",
              "    .dataframe thead th {\n",
              "        text-align: right;\n",
              "    }\n",
              "</style>\n",
              "<table border=\"1\" class=\"dataframe\">\n",
              "  <thead>\n",
              "    <tr style=\"text-align: right;\">\n",
              "      <th></th>\n",
              "      <th>cc_num</th>\n",
              "      <th>amt</th>\n",
              "      <th>zip</th>\n",
              "      <th>lat</th>\n",
              "      <th>long</th>\n",
              "      <th>city_pop</th>\n",
              "      <th>unix_time</th>\n",
              "      <th>merch_lat</th>\n",
              "      <th>merch_long</th>\n",
              "      <th>is_fraud</th>\n",
              "    </tr>\n",
              "  </thead>\n",
              "  <tbody>\n",
              "    <tr>\n",
              "      <th>count</th>\n",
              "      <td>1.296675e+06</td>\n",
              "      <td>1.296675e+06</td>\n",
              "      <td>1.296675e+06</td>\n",
              "      <td>1.296675e+06</td>\n",
              "      <td>1.296675e+06</td>\n",
              "      <td>1.296675e+06</td>\n",
              "      <td>1.296675e+06</td>\n",
              "      <td>1.296675e+06</td>\n",
              "      <td>1.296675e+06</td>\n",
              "      <td>1.296675e+06</td>\n",
              "    </tr>\n",
              "    <tr>\n",
              "      <th>mean</th>\n",
              "      <td>4.171920e+17</td>\n",
              "      <td>7.035104e+01</td>\n",
              "      <td>4.880067e+04</td>\n",
              "      <td>3.853762e+01</td>\n",
              "      <td>-9.022634e+01</td>\n",
              "      <td>8.882444e+04</td>\n",
              "      <td>1.349244e+09</td>\n",
              "      <td>3.853734e+01</td>\n",
              "      <td>-9.022646e+01</td>\n",
              "      <td>5.788652e-03</td>\n",
              "    </tr>\n",
              "    <tr>\n",
              "      <th>std</th>\n",
              "      <td>1.308806e+18</td>\n",
              "      <td>1.603160e+02</td>\n",
              "      <td>2.689322e+04</td>\n",
              "      <td>5.075808e+00</td>\n",
              "      <td>1.375908e+01</td>\n",
              "      <td>3.019564e+05</td>\n",
              "      <td>1.284128e+07</td>\n",
              "      <td>5.109788e+00</td>\n",
              "      <td>1.377109e+01</td>\n",
              "      <td>7.586269e-02</td>\n",
              "    </tr>\n",
              "    <tr>\n",
              "      <th>min</th>\n",
              "      <td>6.041621e+10</td>\n",
              "      <td>1.000000e+00</td>\n",
              "      <td>1.257000e+03</td>\n",
              "      <td>2.002710e+01</td>\n",
              "      <td>-1.656723e+02</td>\n",
              "      <td>2.300000e+01</td>\n",
              "      <td>1.325376e+09</td>\n",
              "      <td>1.902779e+01</td>\n",
              "      <td>-1.666712e+02</td>\n",
              "      <td>0.000000e+00</td>\n",
              "    </tr>\n",
              "    <tr>\n",
              "      <th>25%</th>\n",
              "      <td>1.800429e+14</td>\n",
              "      <td>9.650000e+00</td>\n",
              "      <td>2.623700e+04</td>\n",
              "      <td>3.462050e+01</td>\n",
              "      <td>-9.679800e+01</td>\n",
              "      <td>7.430000e+02</td>\n",
              "      <td>1.338751e+09</td>\n",
              "      <td>3.473357e+01</td>\n",
              "      <td>-9.689728e+01</td>\n",
              "      <td>0.000000e+00</td>\n",
              "    </tr>\n",
              "    <tr>\n",
              "      <th>50%</th>\n",
              "      <td>3.521417e+15</td>\n",
              "      <td>4.752000e+01</td>\n",
              "      <td>4.817400e+04</td>\n",
              "      <td>3.935430e+01</td>\n",
              "      <td>-8.747690e+01</td>\n",
              "      <td>2.456000e+03</td>\n",
              "      <td>1.349250e+09</td>\n",
              "      <td>3.936568e+01</td>\n",
              "      <td>-8.743839e+01</td>\n",
              "      <td>0.000000e+00</td>\n",
              "    </tr>\n",
              "    <tr>\n",
              "      <th>75%</th>\n",
              "      <td>4.642255e+15</td>\n",
              "      <td>8.314000e+01</td>\n",
              "      <td>7.204200e+04</td>\n",
              "      <td>4.194040e+01</td>\n",
              "      <td>-8.015800e+01</td>\n",
              "      <td>2.032800e+04</td>\n",
              "      <td>1.359385e+09</td>\n",
              "      <td>4.195716e+01</td>\n",
              "      <td>-8.023680e+01</td>\n",
              "      <td>0.000000e+00</td>\n",
              "    </tr>\n",
              "    <tr>\n",
              "      <th>max</th>\n",
              "      <td>4.992346e+18</td>\n",
              "      <td>2.894890e+04</td>\n",
              "      <td>9.978300e+04</td>\n",
              "      <td>6.669330e+01</td>\n",
              "      <td>-6.795030e+01</td>\n",
              "      <td>2.906700e+06</td>\n",
              "      <td>1.371817e+09</td>\n",
              "      <td>6.751027e+01</td>\n",
              "      <td>-6.695090e+01</td>\n",
              "      <td>1.000000e+00</td>\n",
              "    </tr>\n",
              "  </tbody>\n",
              "</table>\n",
              "</div>\n",
              "      <button class=\"colab-df-convert\" onclick=\"convertToInteractive('df-318f3b2f-c077-4a04-83df-e7e302ddc0e0')\"\n",
              "              title=\"Convert this dataframe to an interactive table.\"\n",
              "              style=\"display:none;\">\n",
              "        \n",
              "  <svg xmlns=\"http://www.w3.org/2000/svg\" height=\"24px\"viewBox=\"0 0 24 24\"\n",
              "       width=\"24px\">\n",
              "    <path d=\"M0 0h24v24H0V0z\" fill=\"none\"/>\n",
              "    <path d=\"M18.56 5.44l.94 2.06.94-2.06 2.06-.94-2.06-.94-.94-2.06-.94 2.06-2.06.94zm-11 1L8.5 8.5l.94-2.06 2.06-.94-2.06-.94L8.5 2.5l-.94 2.06-2.06.94zm10 10l.94 2.06.94-2.06 2.06-.94-2.06-.94-.94-2.06-.94 2.06-2.06.94z\"/><path d=\"M17.41 7.96l-1.37-1.37c-.4-.4-.92-.59-1.43-.59-.52 0-1.04.2-1.43.59L10.3 9.45l-7.72 7.72c-.78.78-.78 2.05 0 2.83L4 21.41c.39.39.9.59 1.41.59.51 0 1.02-.2 1.41-.59l7.78-7.78 2.81-2.81c.8-.78.8-2.07 0-2.86zM5.41 20L4 18.59l7.72-7.72 1.47 1.35L5.41 20z\"/>\n",
              "  </svg>\n",
              "      </button>\n",
              "      \n",
              "  <style>\n",
              "    .colab-df-container {\n",
              "      display:flex;\n",
              "      flex-wrap:wrap;\n",
              "      gap: 12px;\n",
              "    }\n",
              "\n",
              "    .colab-df-convert {\n",
              "      background-color: #E8F0FE;\n",
              "      border: none;\n",
              "      border-radius: 50%;\n",
              "      cursor: pointer;\n",
              "      display: none;\n",
              "      fill: #1967D2;\n",
              "      height: 32px;\n",
              "      padding: 0 0 0 0;\n",
              "      width: 32px;\n",
              "    }\n",
              "\n",
              "    .colab-df-convert:hover {\n",
              "      background-color: #E2EBFA;\n",
              "      box-shadow: 0px 1px 2px rgba(60, 64, 67, 0.3), 0px 1px 3px 1px rgba(60, 64, 67, 0.15);\n",
              "      fill: #174EA6;\n",
              "    }\n",
              "\n",
              "    [theme=dark] .colab-df-convert {\n",
              "      background-color: #3B4455;\n",
              "      fill: #D2E3FC;\n",
              "    }\n",
              "\n",
              "    [theme=dark] .colab-df-convert:hover {\n",
              "      background-color: #434B5C;\n",
              "      box-shadow: 0px 1px 3px 1px rgba(0, 0, 0, 0.15);\n",
              "      filter: drop-shadow(0px 1px 2px rgba(0, 0, 0, 0.3));\n",
              "      fill: #FFFFFF;\n",
              "    }\n",
              "  </style>\n",
              "\n",
              "      <script>\n",
              "        const buttonEl =\n",
              "          document.querySelector('#df-318f3b2f-c077-4a04-83df-e7e302ddc0e0 button.colab-df-convert');\n",
              "        buttonEl.style.display =\n",
              "          google.colab.kernel.accessAllowed ? 'block' : 'none';\n",
              "\n",
              "        async function convertToInteractive(key) {\n",
              "          const element = document.querySelector('#df-318f3b2f-c077-4a04-83df-e7e302ddc0e0');\n",
              "          const dataTable =\n",
              "            await google.colab.kernel.invokeFunction('convertToInteractive',\n",
              "                                                     [key], {});\n",
              "          if (!dataTable) return;\n",
              "\n",
              "          const docLinkHtml = 'Like what you see? Visit the ' +\n",
              "            '<a target=\"_blank\" href=https://colab.research.google.com/notebooks/data_table.ipynb>data table notebook</a>'\n",
              "            + ' to learn more about interactive tables.';\n",
              "          element.innerHTML = '';\n",
              "          dataTable['output_type'] = 'display_data';\n",
              "          await google.colab.output.renderOutput(dataTable, element);\n",
              "          const docLink = document.createElement('div');\n",
              "          docLink.innerHTML = docLinkHtml;\n",
              "          element.appendChild(docLink);\n",
              "        }\n",
              "      </script>\n",
              "    </div>\n",
              "  </div>\n",
              "  "
            ]
          },
          "metadata": {},
          "execution_count": 8
        }
      ]
    },
    {
      "cell_type": "code",
      "source": [
        "# Check the summary of the test dataframe\n",
        "df_test.describe()"
      ],
      "metadata": {
        "id": "uA19HJ45K1SG",
        "colab": {
          "base_uri": "https://localhost:8080/",
          "height": 344
        },
        "outputId": "2559b5c7-0b1c-485b-da10-516c4bb912cf"
      },
      "execution_count": 9,
      "outputs": [
        {
          "output_type": "execute_result",
          "data": {
            "text/plain": [
              "             cc_num            amt            zip            lat  \\\n",
              "count  5.557190e+05  555719.000000  555719.000000  555719.000000   \n",
              "mean   4.178387e+17      69.392810   48842.628015      38.543253   \n",
              "std    1.309837e+18     156.745941   26855.283328       5.061336   \n",
              "min    6.041621e+10       1.000000    1257.000000      20.027100   \n",
              "25%    1.800429e+14       9.630000   26292.000000      34.668900   \n",
              "50%    3.521417e+15      47.290000   48174.000000      39.371600   \n",
              "75%    4.635331e+15      83.010000   72011.000000      41.894800   \n",
              "max    4.992346e+18   22768.110000   99921.000000      65.689900   \n",
              "\n",
              "                long      city_pop     unix_time      merch_lat  \\\n",
              "count  555719.000000  5.557190e+05  5.557190e+05  555719.000000   \n",
              "mean      -90.231325  8.822189e+04  1.380679e+09      38.542798   \n",
              "std        13.721780  3.003909e+05  5.201104e+06       5.095829   \n",
              "min      -165.672300  2.300000e+01  1.371817e+09      19.027422   \n",
              "25%       -96.798000  7.410000e+02  1.376029e+09      34.755302   \n",
              "50%       -87.476900  2.408000e+03  1.380762e+09      39.376593   \n",
              "75%       -80.175200  1.968500e+04  1.385867e+09      41.954163   \n",
              "max       -67.950300  2.906700e+06  1.388534e+09      66.679297   \n",
              "\n",
              "          merch_long       is_fraud  \n",
              "count  555719.000000  555719.000000  \n",
              "mean      -90.231380       0.003860  \n",
              "std        13.733071       0.062008  \n",
              "min      -166.671575       0.000000  \n",
              "25%       -96.905129       0.000000  \n",
              "50%       -87.445204       0.000000  \n",
              "75%       -80.264637       0.000000  \n",
              "max       -66.952026       1.000000  "
            ],
            "text/html": [
              "\n",
              "  <div id=\"df-8bf872fa-84d1-48ed-a7fd-981d91419c63\">\n",
              "    <div class=\"colab-df-container\">\n",
              "      <div>\n",
              "<style scoped>\n",
              "    .dataframe tbody tr th:only-of-type {\n",
              "        vertical-align: middle;\n",
              "    }\n",
              "\n",
              "    .dataframe tbody tr th {\n",
              "        vertical-align: top;\n",
              "    }\n",
              "\n",
              "    .dataframe thead th {\n",
              "        text-align: right;\n",
              "    }\n",
              "</style>\n",
              "<table border=\"1\" class=\"dataframe\">\n",
              "  <thead>\n",
              "    <tr style=\"text-align: right;\">\n",
              "      <th></th>\n",
              "      <th>cc_num</th>\n",
              "      <th>amt</th>\n",
              "      <th>zip</th>\n",
              "      <th>lat</th>\n",
              "      <th>long</th>\n",
              "      <th>city_pop</th>\n",
              "      <th>unix_time</th>\n",
              "      <th>merch_lat</th>\n",
              "      <th>merch_long</th>\n",
              "      <th>is_fraud</th>\n",
              "    </tr>\n",
              "  </thead>\n",
              "  <tbody>\n",
              "    <tr>\n",
              "      <th>count</th>\n",
              "      <td>5.557190e+05</td>\n",
              "      <td>555719.000000</td>\n",
              "      <td>555719.000000</td>\n",
              "      <td>555719.000000</td>\n",
              "      <td>555719.000000</td>\n",
              "      <td>5.557190e+05</td>\n",
              "      <td>5.557190e+05</td>\n",
              "      <td>555719.000000</td>\n",
              "      <td>555719.000000</td>\n",
              "      <td>555719.000000</td>\n",
              "    </tr>\n",
              "    <tr>\n",
              "      <th>mean</th>\n",
              "      <td>4.178387e+17</td>\n",
              "      <td>69.392810</td>\n",
              "      <td>48842.628015</td>\n",
              "      <td>38.543253</td>\n",
              "      <td>-90.231325</td>\n",
              "      <td>8.822189e+04</td>\n",
              "      <td>1.380679e+09</td>\n",
              "      <td>38.542798</td>\n",
              "      <td>-90.231380</td>\n",
              "      <td>0.003860</td>\n",
              "    </tr>\n",
              "    <tr>\n",
              "      <th>std</th>\n",
              "      <td>1.309837e+18</td>\n",
              "      <td>156.745941</td>\n",
              "      <td>26855.283328</td>\n",
              "      <td>5.061336</td>\n",
              "      <td>13.721780</td>\n",
              "      <td>3.003909e+05</td>\n",
              "      <td>5.201104e+06</td>\n",
              "      <td>5.095829</td>\n",
              "      <td>13.733071</td>\n",
              "      <td>0.062008</td>\n",
              "    </tr>\n",
              "    <tr>\n",
              "      <th>min</th>\n",
              "      <td>6.041621e+10</td>\n",
              "      <td>1.000000</td>\n",
              "      <td>1257.000000</td>\n",
              "      <td>20.027100</td>\n",
              "      <td>-165.672300</td>\n",
              "      <td>2.300000e+01</td>\n",
              "      <td>1.371817e+09</td>\n",
              "      <td>19.027422</td>\n",
              "      <td>-166.671575</td>\n",
              "      <td>0.000000</td>\n",
              "    </tr>\n",
              "    <tr>\n",
              "      <th>25%</th>\n",
              "      <td>1.800429e+14</td>\n",
              "      <td>9.630000</td>\n",
              "      <td>26292.000000</td>\n",
              "      <td>34.668900</td>\n",
              "      <td>-96.798000</td>\n",
              "      <td>7.410000e+02</td>\n",
              "      <td>1.376029e+09</td>\n",
              "      <td>34.755302</td>\n",
              "      <td>-96.905129</td>\n",
              "      <td>0.000000</td>\n",
              "    </tr>\n",
              "    <tr>\n",
              "      <th>50%</th>\n",
              "      <td>3.521417e+15</td>\n",
              "      <td>47.290000</td>\n",
              "      <td>48174.000000</td>\n",
              "      <td>39.371600</td>\n",
              "      <td>-87.476900</td>\n",
              "      <td>2.408000e+03</td>\n",
              "      <td>1.380762e+09</td>\n",
              "      <td>39.376593</td>\n",
              "      <td>-87.445204</td>\n",
              "      <td>0.000000</td>\n",
              "    </tr>\n",
              "    <tr>\n",
              "      <th>75%</th>\n",
              "      <td>4.635331e+15</td>\n",
              "      <td>83.010000</td>\n",
              "      <td>72011.000000</td>\n",
              "      <td>41.894800</td>\n",
              "      <td>-80.175200</td>\n",
              "      <td>1.968500e+04</td>\n",
              "      <td>1.385867e+09</td>\n",
              "      <td>41.954163</td>\n",
              "      <td>-80.264637</td>\n",
              "      <td>0.000000</td>\n",
              "    </tr>\n",
              "    <tr>\n",
              "      <th>max</th>\n",
              "      <td>4.992346e+18</td>\n",
              "      <td>22768.110000</td>\n",
              "      <td>99921.000000</td>\n",
              "      <td>65.689900</td>\n",
              "      <td>-67.950300</td>\n",
              "      <td>2.906700e+06</td>\n",
              "      <td>1.388534e+09</td>\n",
              "      <td>66.679297</td>\n",
              "      <td>-66.952026</td>\n",
              "      <td>1.000000</td>\n",
              "    </tr>\n",
              "  </tbody>\n",
              "</table>\n",
              "</div>\n",
              "      <button class=\"colab-df-convert\" onclick=\"convertToInteractive('df-8bf872fa-84d1-48ed-a7fd-981d91419c63')\"\n",
              "              title=\"Convert this dataframe to an interactive table.\"\n",
              "              style=\"display:none;\">\n",
              "        \n",
              "  <svg xmlns=\"http://www.w3.org/2000/svg\" height=\"24px\"viewBox=\"0 0 24 24\"\n",
              "       width=\"24px\">\n",
              "    <path d=\"M0 0h24v24H0V0z\" fill=\"none\"/>\n",
              "    <path d=\"M18.56 5.44l.94 2.06.94-2.06 2.06-.94-2.06-.94-.94-2.06-.94 2.06-2.06.94zm-11 1L8.5 8.5l.94-2.06 2.06-.94-2.06-.94L8.5 2.5l-.94 2.06-2.06.94zm10 10l.94 2.06.94-2.06 2.06-.94-2.06-.94-.94-2.06-.94 2.06-2.06.94z\"/><path d=\"M17.41 7.96l-1.37-1.37c-.4-.4-.92-.59-1.43-.59-.52 0-1.04.2-1.43.59L10.3 9.45l-7.72 7.72c-.78.78-.78 2.05 0 2.83L4 21.41c.39.39.9.59 1.41.59.51 0 1.02-.2 1.41-.59l7.78-7.78 2.81-2.81c.8-.78.8-2.07 0-2.86zM5.41 20L4 18.59l7.72-7.72 1.47 1.35L5.41 20z\"/>\n",
              "  </svg>\n",
              "      </button>\n",
              "      \n",
              "  <style>\n",
              "    .colab-df-container {\n",
              "      display:flex;\n",
              "      flex-wrap:wrap;\n",
              "      gap: 12px;\n",
              "    }\n",
              "\n",
              "    .colab-df-convert {\n",
              "      background-color: #E8F0FE;\n",
              "      border: none;\n",
              "      border-radius: 50%;\n",
              "      cursor: pointer;\n",
              "      display: none;\n",
              "      fill: #1967D2;\n",
              "      height: 32px;\n",
              "      padding: 0 0 0 0;\n",
              "      width: 32px;\n",
              "    }\n",
              "\n",
              "    .colab-df-convert:hover {\n",
              "      background-color: #E2EBFA;\n",
              "      box-shadow: 0px 1px 2px rgba(60, 64, 67, 0.3), 0px 1px 3px 1px rgba(60, 64, 67, 0.15);\n",
              "      fill: #174EA6;\n",
              "    }\n",
              "\n",
              "    [theme=dark] .colab-df-convert {\n",
              "      background-color: #3B4455;\n",
              "      fill: #D2E3FC;\n",
              "    }\n",
              "\n",
              "    [theme=dark] .colab-df-convert:hover {\n",
              "      background-color: #434B5C;\n",
              "      box-shadow: 0px 1px 3px 1px rgba(0, 0, 0, 0.15);\n",
              "      filter: drop-shadow(0px 1px 2px rgba(0, 0, 0, 0.3));\n",
              "      fill: #FFFFFF;\n",
              "    }\n",
              "  </style>\n",
              "\n",
              "      <script>\n",
              "        const buttonEl =\n",
              "          document.querySelector('#df-8bf872fa-84d1-48ed-a7fd-981d91419c63 button.colab-df-convert');\n",
              "        buttonEl.style.display =\n",
              "          google.colab.kernel.accessAllowed ? 'block' : 'none';\n",
              "\n",
              "        async function convertToInteractive(key) {\n",
              "          const element = document.querySelector('#df-8bf872fa-84d1-48ed-a7fd-981d91419c63');\n",
              "          const dataTable =\n",
              "            await google.colab.kernel.invokeFunction('convertToInteractive',\n",
              "                                                     [key], {});\n",
              "          if (!dataTable) return;\n",
              "\n",
              "          const docLinkHtml = 'Like what you see? Visit the ' +\n",
              "            '<a target=\"_blank\" href=https://colab.research.google.com/notebooks/data_table.ipynb>data table notebook</a>'\n",
              "            + ' to learn more about interactive tables.';\n",
              "          element.innerHTML = '';\n",
              "          dataTable['output_type'] = 'display_data';\n",
              "          await google.colab.output.renderOutput(dataTable, element);\n",
              "          const docLink = document.createElement('div');\n",
              "          docLink.innerHTML = docLinkHtml;\n",
              "          element.appendChild(docLink);\n",
              "        }\n",
              "      </script>\n",
              "    </div>\n",
              "  </div>\n",
              "  "
            ]
          },
          "metadata": {},
          "execution_count": 9
        }
      ]
    },
    {
      "cell_type": "code",
      "source": [
        "df_train.info()"
      ],
      "metadata": {
        "id": "SjlUsKXGK3ws",
        "colab": {
          "base_uri": "https://localhost:8080/"
        },
        "outputId": "8ece7602-cb38-4128-c668-915a4a24585b"
      },
      "execution_count": 10,
      "outputs": [
        {
          "output_type": "stream",
          "name": "stdout",
          "text": [
            "<class 'pandas.core.frame.DataFrame'>\n",
            "RangeIndex: 1296675 entries, 0 to 1296674\n",
            "Data columns (total 22 columns):\n",
            " #   Column                 Non-Null Count    Dtype  \n",
            "---  ------                 --------------    -----  \n",
            " 0   trans_date_trans_time  1296675 non-null  object \n",
            " 1   cc_num                 1296675 non-null  int64  \n",
            " 2   merchant               1296675 non-null  object \n",
            " 3   category               1296675 non-null  object \n",
            " 4   amt                    1296675 non-null  float64\n",
            " 5   first                  1296675 non-null  object \n",
            " 6   last                   1296675 non-null  object \n",
            " 7   gender                 1296675 non-null  object \n",
            " 8   street                 1296675 non-null  object \n",
            " 9   city                   1296675 non-null  object \n",
            " 10  state                  1296675 non-null  object \n",
            " 11  zip                    1296675 non-null  int64  \n",
            " 12  lat                    1296675 non-null  float64\n",
            " 13  long                   1296675 non-null  float64\n",
            " 14  city_pop               1296675 non-null  int64  \n",
            " 15  job                    1296675 non-null  object \n",
            " 16  dob                    1296675 non-null  object \n",
            " 17  trans_num              1296675 non-null  object \n",
            " 18  unix_time              1296675 non-null  int64  \n",
            " 19  merch_lat              1296675 non-null  float64\n",
            " 20  merch_long             1296675 non-null  float64\n",
            " 21  is_fraud               1296675 non-null  int64  \n",
            "dtypes: float64(5), int64(5), object(12)\n",
            "memory usage: 217.6+ MB\n"
          ]
        }
      ]
    },
    {
      "cell_type": "code",
      "source": [
        "df_test.info()"
      ],
      "metadata": {
        "id": "Fk2tr7U9K7Pk",
        "colab": {
          "base_uri": "https://localhost:8080/"
        },
        "outputId": "a87525db-94ff-46f6-9423-07f6e644b9cd"
      },
      "execution_count": 11,
      "outputs": [
        {
          "output_type": "stream",
          "name": "stdout",
          "text": [
            "<class 'pandas.core.frame.DataFrame'>\n",
            "RangeIndex: 555719 entries, 0 to 555718\n",
            "Data columns (total 22 columns):\n",
            " #   Column                 Non-Null Count   Dtype  \n",
            "---  ------                 --------------   -----  \n",
            " 0   trans_date_trans_time  555719 non-null  object \n",
            " 1   cc_num                 555719 non-null  int64  \n",
            " 2   merchant               555719 non-null  object \n",
            " 3   category               555719 non-null  object \n",
            " 4   amt                    555719 non-null  float64\n",
            " 5   first                  555719 non-null  object \n",
            " 6   last                   555719 non-null  object \n",
            " 7   gender                 555719 non-null  object \n",
            " 8   street                 555719 non-null  object \n",
            " 9   city                   555719 non-null  object \n",
            " 10  state                  555719 non-null  object \n",
            " 11  zip                    555719 non-null  int64  \n",
            " 12  lat                    555719 non-null  float64\n",
            " 13  long                   555719 non-null  float64\n",
            " 14  city_pop               555719 non-null  int64  \n",
            " 15  job                    555719 non-null  object \n",
            " 16  dob                    555719 non-null  object \n",
            " 17  trans_num              555719 non-null  object \n",
            " 18  unix_time              555719 non-null  int64  \n",
            " 19  merch_lat              555719 non-null  float64\n",
            " 20  merch_long             555719 non-null  float64\n",
            " 21  is_fraud               555719 non-null  int64  \n",
            "dtypes: float64(5), int64(5), object(12)\n",
            "memory usage: 93.3+ MB\n"
          ]
        }
      ]
    },
    {
      "cell_type": "code",
      "source": [
        "# checking the missing values\n",
        "df_train.isnull().sum()"
      ],
      "metadata": {
        "id": "AKWN2DKlK-dy",
        "colab": {
          "base_uri": "https://localhost:8080/"
        },
        "outputId": "d12d692b-234c-49ec-f2e8-7f2c20755a6e"
      },
      "execution_count": 12,
      "outputs": [
        {
          "output_type": "execute_result",
          "data": {
            "text/plain": [
              "trans_date_trans_time    0\n",
              "cc_num                   0\n",
              "merchant                 0\n",
              "category                 0\n",
              "amt                      0\n",
              "first                    0\n",
              "last                     0\n",
              "gender                   0\n",
              "street                   0\n",
              "city                     0\n",
              "state                    0\n",
              "zip                      0\n",
              "lat                      0\n",
              "long                     0\n",
              "city_pop                 0\n",
              "job                      0\n",
              "dob                      0\n",
              "trans_num                0\n",
              "unix_time                0\n",
              "merch_lat                0\n",
              "merch_long               0\n",
              "is_fraud                 0\n",
              "dtype: int64"
            ]
          },
          "metadata": {},
          "execution_count": 12
        }
      ]
    },
    {
      "cell_type": "code",
      "source": [
        "# checking the missing values\n",
        "df_test.isnull().sum()"
      ],
      "metadata": {
        "id": "cYZ3jFBkLBL9",
        "colab": {
          "base_uri": "https://localhost:8080/"
        },
        "outputId": "c8969d82-edfb-4b2c-bec0-155154a7472e"
      },
      "execution_count": 13,
      "outputs": [
        {
          "output_type": "execute_result",
          "data": {
            "text/plain": [
              "trans_date_trans_time    0\n",
              "cc_num                   0\n",
              "merchant                 0\n",
              "category                 0\n",
              "amt                      0\n",
              "first                    0\n",
              "last                     0\n",
              "gender                   0\n",
              "street                   0\n",
              "city                     0\n",
              "state                    0\n",
              "zip                      0\n",
              "lat                      0\n",
              "long                     0\n",
              "city_pop                 0\n",
              "job                      0\n",
              "dob                      0\n",
              "trans_num                0\n",
              "unix_time                0\n",
              "merch_lat                0\n",
              "merch_long               0\n",
              "is_fraud                 0\n",
              "dtype: int64"
            ]
          },
          "metadata": {},
          "execution_count": 13
        }
      ]
    },
    {
      "cell_type": "code",
      "source": [
        "# Unique values\n",
        "df_train.nunique()"
      ],
      "metadata": {
        "id": "tE9843aLLEk5",
        "colab": {
          "base_uri": "https://localhost:8080/"
        },
        "outputId": "a2481480-f275-47b8-cbd5-711ea2485bf0"
      },
      "execution_count": 14,
      "outputs": [
        {
          "output_type": "execute_result",
          "data": {
            "text/plain": [
              "trans_date_trans_time    1274791\n",
              "cc_num                       983\n",
              "merchant                     693\n",
              "category                      14\n",
              "amt                        52928\n",
              "first                        352\n",
              "last                         481\n",
              "gender                         2\n",
              "street                       983\n",
              "city                         894\n",
              "state                         51\n",
              "zip                          970\n",
              "lat                          968\n",
              "long                         969\n",
              "city_pop                     879\n",
              "job                          494\n",
              "dob                          968\n",
              "trans_num                1296675\n",
              "unix_time                1274823\n",
              "merch_lat                1247805\n",
              "merch_long               1275745\n",
              "is_fraud                       2\n",
              "dtype: int64"
            ]
          },
          "metadata": {},
          "execution_count": 14
        }
      ]
    },
    {
      "cell_type": "code",
      "source": [
        "# Unique values in each column\n",
        "\n",
        "df_test.nunique()"
      ],
      "metadata": {
        "id": "I_DpYS78LHRT",
        "colab": {
          "base_uri": "https://localhost:8080/"
        },
        "outputId": "fa6577cd-feca-4d8c-a28c-a9389279e4f3"
      },
      "execution_count": 15,
      "outputs": [
        {
          "output_type": "execute_result",
          "data": {
            "text/plain": [
              "trans_date_trans_time    544760\n",
              "cc_num                      924\n",
              "merchant                    693\n",
              "category                     14\n",
              "amt                       37256\n",
              "first                       341\n",
              "last                        471\n",
              "gender                        2\n",
              "street                      924\n",
              "city                        849\n",
              "state                        50\n",
              "zip                         912\n",
              "lat                         910\n",
              "long                        910\n",
              "city_pop                    835\n",
              "job                         478\n",
              "dob                         910\n",
              "trans_num                555719\n",
              "unix_time                544760\n",
              "merch_lat                546490\n",
              "merch_long               551770\n",
              "is_fraud                      2\n",
              "dtype: int64"
            ]
          },
          "metadata": {},
          "execution_count": 15
        }
      ]
    },
    {
      "cell_type": "code",
      "source": [
        "#converting date columns to datetime format on train dataset\n",
        "df_train[\"trans_date_trans_time\"] = pd.to_datetime(df_train['trans_date_trans_time'])\n",
        "df_train['trans_hour'] = df_train['trans_date_trans_time'].dt.hour\n",
        "df_train['trans_day_of_week'] = df_train['trans_date_trans_time'].dt.day_name()\n",
        "df_train['trans_year_month'] = df_train['trans_date_trans_time'].dt.to_period('M')\n",
        "df_train['trans_date']=df_train['trans_date_trans_time'].dt.strftime('%Y-%m-%d')\n",
        "df_train['trans_date']=pd.to_datetime(df_train['trans_date'])\n",
        "df_train[\"dob\"] = pd.to_datetime(df_train['dob'])\n",
        "df_train['cust_age'] = np.round((pd.to_datetime('now') - df_train['dob']) / np.timedelta64(1, 'Y'))\n",
        "df_train['age_at_trans'] = df_train['trans_date'] - df_train['dob']\n",
        "df_train['age_at_trans'] = df_train['age_at_trans'].astype('timedelta64[Y]')"
      ],
      "metadata": {
        "id": "32NGZyxRLJ6U"
      },
      "execution_count": 16,
      "outputs": []
    },
    {
      "cell_type": "code",
      "source": [
        "# Converting date columns to datetime format on train dataset\n",
        "df_test[\"trans_date_trans_time\"] = pd.to_datetime(df_test['trans_date_trans_time'])\n",
        "df_test['trans_hour'] = df_test['trans_date_trans_time'].dt.hour\n",
        "df_test['trans_day_of_week'] = df_test['trans_date_trans_time'].dt.day_name()\n",
        "df_test['trans_year_month'] = df_test['trans_date_trans_time'].dt.to_period('M')\n",
        "df_test['trans_date']=df_test['trans_date_trans_time'].dt.strftime('%Y-%m-%d')\n",
        "df_test['trans_date']=pd.to_datetime(df_test['trans_date'])\n",
        "df_test[\"dob\"] = pd.to_datetime(df_test['dob'])\n",
        "df_test['cust_age'] = np.round((pd.to_datetime('now') - df_test['dob']) / np.timedelta64(1, 'Y'))\n",
        "df_test['age_at_trans'] = df_test['trans_date'] - df_test['dob']\n",
        "df_test['age_at_trans'] = df_test['age_at_trans'].astype('timedelta64[Y]')"
      ],
      "metadata": {
        "id": "2xrnHJJoLs_T"
      },
      "execution_count": 17,
      "outputs": []
    },
    {
      "cell_type": "code",
      "source": [
        ""
      ],
      "metadata": {
        "id": "hei3qsbKMKzS"
      },
      "execution_count": 17,
      "outputs": []
    },
    {
      "cell_type": "code",
      "source": [
        ""
      ],
      "metadata": {
        "id": "4XoEGkfVMZH2"
      },
      "execution_count": 17,
      "outputs": []
    },
    {
      "cell_type": "code",
      "source": [
        "df_train.head()"
      ],
      "metadata": {
        "id": "wS5jb6mzMsEN",
        "colab": {
          "base_uri": "https://localhost:8080/",
          "height": 548
        },
        "outputId": "04ee6542-3b92-435c-a830-dc4f603b72a3"
      },
      "execution_count": 18,
      "outputs": [
        {
          "output_type": "execute_result",
          "data": {
            "text/plain": [
              "  trans_date_trans_time            cc_num                            merchant  \\\n",
              "0   2019-01-01 00:00:18  2703186189652095          fraud_Rippin, Kub and Mann   \n",
              "1   2019-01-01 00:00:44      630423337322     fraud_Heller, Gutmann and Zieme   \n",
              "2   2019-01-01 00:00:51    38859492057661                fraud_Lind-Buckridge   \n",
              "3   2019-01-01 00:01:16  3534093764340240  fraud_Kutch, Hermiston and Farrell   \n",
              "4   2019-01-01 00:03:06   375534208663984                 fraud_Keeling-Crist   \n",
              "\n",
              "        category     amt      first     last gender  \\\n",
              "0       misc_net    4.97   Jennifer    Banks      F   \n",
              "1    grocery_pos  107.23  Stephanie     Gill      F   \n",
              "2  entertainment  220.11     Edward  Sanchez      M   \n",
              "3  gas_transport   45.00     Jeremy    White      M   \n",
              "4       misc_pos   41.96      Tyler   Garcia      M   \n",
              "\n",
              "                         street            city state    zip      lat  \\\n",
              "0                561 Perry Cove  Moravian Falls    NC  28654  36.0788   \n",
              "1  43039 Riley Greens Suite 393          Orient    WA  99160  48.8878   \n",
              "2      594 White Dale Suite 530      Malad City    ID  83252  42.1808   \n",
              "3   9443 Cynthia Court Apt. 038         Boulder    MT  59632  46.2306   \n",
              "4              408 Bradley Rest        Doe Hill    VA  24433  38.4207   \n",
              "\n",
              "       long  city_pop                                job        dob  \\\n",
              "0  -81.1781      3495          Psychologist, counselling 1988-03-09   \n",
              "1 -118.2105       149  Special educational needs teacher 1978-06-21   \n",
              "2 -112.2620      4154        Nature conservation officer 1962-01-19   \n",
              "3 -112.1138      1939                    Patent attorney 1967-01-12   \n",
              "4  -79.4629        99     Dance movement psychotherapist 1986-03-28   \n",
              "\n",
              "                          trans_num   unix_time  merch_lat  merch_long  \\\n",
              "0  0b242abb623afc578575680df30655b9  1325376018  36.011293  -82.048315   \n",
              "1  1f76529f8574734946361c461b024d99  1325376044  49.159047 -118.186462   \n",
              "2  a1a22d70485983eac12b5b88dad1cf95  1325376051  43.150704 -112.154481   \n",
              "3  6b849c168bdad6f867558c3793159a81  1325376076  47.034331 -112.561071   \n",
              "4  a41d7549acf90789359a9aa5346dcb46  1325376186  38.674999  -78.632459   \n",
              "\n",
              "   is_fraud  trans_hour trans_day_of_week trans_year_month trans_date  \\\n",
              "0         0           0           Tuesday          2019-01 2019-01-01   \n",
              "1         0           0           Tuesday          2019-01 2019-01-01   \n",
              "2         0           0           Tuesday          2019-01 2019-01-01   \n",
              "3         0           0           Tuesday          2019-01 2019-01-01   \n",
              "4         0           0           Tuesday          2019-01 2019-01-01   \n",
              "\n",
              "   cust_age  age_at_trans  \n",
              "0      34.0          30.0  \n",
              "1      44.0          40.0  \n",
              "2      60.0          56.0  \n",
              "3      55.0          51.0  \n",
              "4      36.0          32.0  "
            ],
            "text/html": [
              "\n",
              "  <div id=\"df-0f6c49f0-464d-4f82-9473-831fcf0cc880\">\n",
              "    <div class=\"colab-df-container\">\n",
              "      <div>\n",
              "<style scoped>\n",
              "    .dataframe tbody tr th:only-of-type {\n",
              "        vertical-align: middle;\n",
              "    }\n",
              "\n",
              "    .dataframe tbody tr th {\n",
              "        vertical-align: top;\n",
              "    }\n",
              "\n",
              "    .dataframe thead th {\n",
              "        text-align: right;\n",
              "    }\n",
              "</style>\n",
              "<table border=\"1\" class=\"dataframe\">\n",
              "  <thead>\n",
              "    <tr style=\"text-align: right;\">\n",
              "      <th></th>\n",
              "      <th>trans_date_trans_time</th>\n",
              "      <th>cc_num</th>\n",
              "      <th>merchant</th>\n",
              "      <th>category</th>\n",
              "      <th>amt</th>\n",
              "      <th>first</th>\n",
              "      <th>last</th>\n",
              "      <th>gender</th>\n",
              "      <th>street</th>\n",
              "      <th>city</th>\n",
              "      <th>state</th>\n",
              "      <th>zip</th>\n",
              "      <th>lat</th>\n",
              "      <th>long</th>\n",
              "      <th>city_pop</th>\n",
              "      <th>job</th>\n",
              "      <th>dob</th>\n",
              "      <th>trans_num</th>\n",
              "      <th>unix_time</th>\n",
              "      <th>merch_lat</th>\n",
              "      <th>merch_long</th>\n",
              "      <th>is_fraud</th>\n",
              "      <th>trans_hour</th>\n",
              "      <th>trans_day_of_week</th>\n",
              "      <th>trans_year_month</th>\n",
              "      <th>trans_date</th>\n",
              "      <th>cust_age</th>\n",
              "      <th>age_at_trans</th>\n",
              "    </tr>\n",
              "  </thead>\n",
              "  <tbody>\n",
              "    <tr>\n",
              "      <th>0</th>\n",
              "      <td>2019-01-01 00:00:18</td>\n",
              "      <td>2703186189652095</td>\n",
              "      <td>fraud_Rippin, Kub and Mann</td>\n",
              "      <td>misc_net</td>\n",
              "      <td>4.97</td>\n",
              "      <td>Jennifer</td>\n",
              "      <td>Banks</td>\n",
              "      <td>F</td>\n",
              "      <td>561 Perry Cove</td>\n",
              "      <td>Moravian Falls</td>\n",
              "      <td>NC</td>\n",
              "      <td>28654</td>\n",
              "      <td>36.0788</td>\n",
              "      <td>-81.1781</td>\n",
              "      <td>3495</td>\n",
              "      <td>Psychologist, counselling</td>\n",
              "      <td>1988-03-09</td>\n",
              "      <td>0b242abb623afc578575680df30655b9</td>\n",
              "      <td>1325376018</td>\n",
              "      <td>36.011293</td>\n",
              "      <td>-82.048315</td>\n",
              "      <td>0</td>\n",
              "      <td>0</td>\n",
              "      <td>Tuesday</td>\n",
              "      <td>2019-01</td>\n",
              "      <td>2019-01-01</td>\n",
              "      <td>34.0</td>\n",
              "      <td>30.0</td>\n",
              "    </tr>\n",
              "    <tr>\n",
              "      <th>1</th>\n",
              "      <td>2019-01-01 00:00:44</td>\n",
              "      <td>630423337322</td>\n",
              "      <td>fraud_Heller, Gutmann and Zieme</td>\n",
              "      <td>grocery_pos</td>\n",
              "      <td>107.23</td>\n",
              "      <td>Stephanie</td>\n",
              "      <td>Gill</td>\n",
              "      <td>F</td>\n",
              "      <td>43039 Riley Greens Suite 393</td>\n",
              "      <td>Orient</td>\n",
              "      <td>WA</td>\n",
              "      <td>99160</td>\n",
              "      <td>48.8878</td>\n",
              "      <td>-118.2105</td>\n",
              "      <td>149</td>\n",
              "      <td>Special educational needs teacher</td>\n",
              "      <td>1978-06-21</td>\n",
              "      <td>1f76529f8574734946361c461b024d99</td>\n",
              "      <td>1325376044</td>\n",
              "      <td>49.159047</td>\n",
              "      <td>-118.186462</td>\n",
              "      <td>0</td>\n",
              "      <td>0</td>\n",
              "      <td>Tuesday</td>\n",
              "      <td>2019-01</td>\n",
              "      <td>2019-01-01</td>\n",
              "      <td>44.0</td>\n",
              "      <td>40.0</td>\n",
              "    </tr>\n",
              "    <tr>\n",
              "      <th>2</th>\n",
              "      <td>2019-01-01 00:00:51</td>\n",
              "      <td>38859492057661</td>\n",
              "      <td>fraud_Lind-Buckridge</td>\n",
              "      <td>entertainment</td>\n",
              "      <td>220.11</td>\n",
              "      <td>Edward</td>\n",
              "      <td>Sanchez</td>\n",
              "      <td>M</td>\n",
              "      <td>594 White Dale Suite 530</td>\n",
              "      <td>Malad City</td>\n",
              "      <td>ID</td>\n",
              "      <td>83252</td>\n",
              "      <td>42.1808</td>\n",
              "      <td>-112.2620</td>\n",
              "      <td>4154</td>\n",
              "      <td>Nature conservation officer</td>\n",
              "      <td>1962-01-19</td>\n",
              "      <td>a1a22d70485983eac12b5b88dad1cf95</td>\n",
              "      <td>1325376051</td>\n",
              "      <td>43.150704</td>\n",
              "      <td>-112.154481</td>\n",
              "      <td>0</td>\n",
              "      <td>0</td>\n",
              "      <td>Tuesday</td>\n",
              "      <td>2019-01</td>\n",
              "      <td>2019-01-01</td>\n",
              "      <td>60.0</td>\n",
              "      <td>56.0</td>\n",
              "    </tr>\n",
              "    <tr>\n",
              "      <th>3</th>\n",
              "      <td>2019-01-01 00:01:16</td>\n",
              "      <td>3534093764340240</td>\n",
              "      <td>fraud_Kutch, Hermiston and Farrell</td>\n",
              "      <td>gas_transport</td>\n",
              "      <td>45.00</td>\n",
              "      <td>Jeremy</td>\n",
              "      <td>White</td>\n",
              "      <td>M</td>\n",
              "      <td>9443 Cynthia Court Apt. 038</td>\n",
              "      <td>Boulder</td>\n",
              "      <td>MT</td>\n",
              "      <td>59632</td>\n",
              "      <td>46.2306</td>\n",
              "      <td>-112.1138</td>\n",
              "      <td>1939</td>\n",
              "      <td>Patent attorney</td>\n",
              "      <td>1967-01-12</td>\n",
              "      <td>6b849c168bdad6f867558c3793159a81</td>\n",
              "      <td>1325376076</td>\n",
              "      <td>47.034331</td>\n",
              "      <td>-112.561071</td>\n",
              "      <td>0</td>\n",
              "      <td>0</td>\n",
              "      <td>Tuesday</td>\n",
              "      <td>2019-01</td>\n",
              "      <td>2019-01-01</td>\n",
              "      <td>55.0</td>\n",
              "      <td>51.0</td>\n",
              "    </tr>\n",
              "    <tr>\n",
              "      <th>4</th>\n",
              "      <td>2019-01-01 00:03:06</td>\n",
              "      <td>375534208663984</td>\n",
              "      <td>fraud_Keeling-Crist</td>\n",
              "      <td>misc_pos</td>\n",
              "      <td>41.96</td>\n",
              "      <td>Tyler</td>\n",
              "      <td>Garcia</td>\n",
              "      <td>M</td>\n",
              "      <td>408 Bradley Rest</td>\n",
              "      <td>Doe Hill</td>\n",
              "      <td>VA</td>\n",
              "      <td>24433</td>\n",
              "      <td>38.4207</td>\n",
              "      <td>-79.4629</td>\n",
              "      <td>99</td>\n",
              "      <td>Dance movement psychotherapist</td>\n",
              "      <td>1986-03-28</td>\n",
              "      <td>a41d7549acf90789359a9aa5346dcb46</td>\n",
              "      <td>1325376186</td>\n",
              "      <td>38.674999</td>\n",
              "      <td>-78.632459</td>\n",
              "      <td>0</td>\n",
              "      <td>0</td>\n",
              "      <td>Tuesday</td>\n",
              "      <td>2019-01</td>\n",
              "      <td>2019-01-01</td>\n",
              "      <td>36.0</td>\n",
              "      <td>32.0</td>\n",
              "    </tr>\n",
              "  </tbody>\n",
              "</table>\n",
              "</div>\n",
              "      <button class=\"colab-df-convert\" onclick=\"convertToInteractive('df-0f6c49f0-464d-4f82-9473-831fcf0cc880')\"\n",
              "              title=\"Convert this dataframe to an interactive table.\"\n",
              "              style=\"display:none;\">\n",
              "        \n",
              "  <svg xmlns=\"http://www.w3.org/2000/svg\" height=\"24px\"viewBox=\"0 0 24 24\"\n",
              "       width=\"24px\">\n",
              "    <path d=\"M0 0h24v24H0V0z\" fill=\"none\"/>\n",
              "    <path d=\"M18.56 5.44l.94 2.06.94-2.06 2.06-.94-2.06-.94-.94-2.06-.94 2.06-2.06.94zm-11 1L8.5 8.5l.94-2.06 2.06-.94-2.06-.94L8.5 2.5l-.94 2.06-2.06.94zm10 10l.94 2.06.94-2.06 2.06-.94-2.06-.94-.94-2.06-.94 2.06-2.06.94z\"/><path d=\"M17.41 7.96l-1.37-1.37c-.4-.4-.92-.59-1.43-.59-.52 0-1.04.2-1.43.59L10.3 9.45l-7.72 7.72c-.78.78-.78 2.05 0 2.83L4 21.41c.39.39.9.59 1.41.59.51 0 1.02-.2 1.41-.59l7.78-7.78 2.81-2.81c.8-.78.8-2.07 0-2.86zM5.41 20L4 18.59l7.72-7.72 1.47 1.35L5.41 20z\"/>\n",
              "  </svg>\n",
              "      </button>\n",
              "      \n",
              "  <style>\n",
              "    .colab-df-container {\n",
              "      display:flex;\n",
              "      flex-wrap:wrap;\n",
              "      gap: 12px;\n",
              "    }\n",
              "\n",
              "    .colab-df-convert {\n",
              "      background-color: #E8F0FE;\n",
              "      border: none;\n",
              "      border-radius: 50%;\n",
              "      cursor: pointer;\n",
              "      display: none;\n",
              "      fill: #1967D2;\n",
              "      height: 32px;\n",
              "      padding: 0 0 0 0;\n",
              "      width: 32px;\n",
              "    }\n",
              "\n",
              "    .colab-df-convert:hover {\n",
              "      background-color: #E2EBFA;\n",
              "      box-shadow: 0px 1px 2px rgba(60, 64, 67, 0.3), 0px 1px 3px 1px rgba(60, 64, 67, 0.15);\n",
              "      fill: #174EA6;\n",
              "    }\n",
              "\n",
              "    [theme=dark] .colab-df-convert {\n",
              "      background-color: #3B4455;\n",
              "      fill: #D2E3FC;\n",
              "    }\n",
              "\n",
              "    [theme=dark] .colab-df-convert:hover {\n",
              "      background-color: #434B5C;\n",
              "      box-shadow: 0px 1px 3px 1px rgba(0, 0, 0, 0.15);\n",
              "      filter: drop-shadow(0px 1px 2px rgba(0, 0, 0, 0.3));\n",
              "      fill: #FFFFFF;\n",
              "    }\n",
              "  </style>\n",
              "\n",
              "      <script>\n",
              "        const buttonEl =\n",
              "          document.querySelector('#df-0f6c49f0-464d-4f82-9473-831fcf0cc880 button.colab-df-convert');\n",
              "        buttonEl.style.display =\n",
              "          google.colab.kernel.accessAllowed ? 'block' : 'none';\n",
              "\n",
              "        async function convertToInteractive(key) {\n",
              "          const element = document.querySelector('#df-0f6c49f0-464d-4f82-9473-831fcf0cc880');\n",
              "          const dataTable =\n",
              "            await google.colab.kernel.invokeFunction('convertToInteractive',\n",
              "                                                     [key], {});\n",
              "          if (!dataTable) return;\n",
              "\n",
              "          const docLinkHtml = 'Like what you see? Visit the ' +\n",
              "            '<a target=\"_blank\" href=https://colab.research.google.com/notebooks/data_table.ipynb>data table notebook</a>'\n",
              "            + ' to learn more about interactive tables.';\n",
              "          element.innerHTML = '';\n",
              "          dataTable['output_type'] = 'display_data';\n",
              "          await google.colab.output.renderOutput(dataTable, element);\n",
              "          const docLink = document.createElement('div');\n",
              "          docLink.innerHTML = docLinkHtml;\n",
              "          element.appendChild(docLink);\n",
              "        }\n",
              "      </script>\n",
              "    </div>\n",
              "  </div>\n",
              "  "
            ]
          },
          "metadata": {},
          "execution_count": 18
        }
      ]
    },
    {
      "cell_type": "code",
      "source": [
        "df_train.index = df_train['trans_date_trans_time']\n",
        "df_train = df_train.sort_index()\n",
        "df_train.head()"
      ],
      "metadata": {
        "id": "vK8Nj0KWMvFC",
        "colab": {
          "base_uri": "https://localhost:8080/",
          "height": 579
        },
        "outputId": "5dea2b0b-8acd-45c9-84c4-aa086ab5e8f0"
      },
      "execution_count": 19,
      "outputs": [
        {
          "output_type": "execute_result",
          "data": {
            "text/plain": [
              "                      trans_date_trans_time            cc_num  \\\n",
              "trans_date_trans_time                                           \n",
              "2019-01-01 00:00:18     2019-01-01 00:00:18  2703186189652095   \n",
              "2019-01-01 00:00:44     2019-01-01 00:00:44      630423337322   \n",
              "2019-01-01 00:00:51     2019-01-01 00:00:51    38859492057661   \n",
              "2019-01-01 00:01:16     2019-01-01 00:01:16  3534093764340240   \n",
              "2019-01-01 00:03:06     2019-01-01 00:03:06   375534208663984   \n",
              "\n",
              "                                                 merchant       category  \\\n",
              "trans_date_trans_time                                                      \n",
              "2019-01-01 00:00:18            fraud_Rippin, Kub and Mann       misc_net   \n",
              "2019-01-01 00:00:44       fraud_Heller, Gutmann and Zieme    grocery_pos   \n",
              "2019-01-01 00:00:51                  fraud_Lind-Buckridge  entertainment   \n",
              "2019-01-01 00:01:16    fraud_Kutch, Hermiston and Farrell  gas_transport   \n",
              "2019-01-01 00:03:06                   fraud_Keeling-Crist       misc_pos   \n",
              "\n",
              "                          amt      first     last gender  \\\n",
              "trans_date_trans_time                                      \n",
              "2019-01-01 00:00:18      4.97   Jennifer    Banks      F   \n",
              "2019-01-01 00:00:44    107.23  Stephanie     Gill      F   \n",
              "2019-01-01 00:00:51    220.11     Edward  Sanchez      M   \n",
              "2019-01-01 00:01:16     45.00     Jeremy    White      M   \n",
              "2019-01-01 00:03:06     41.96      Tyler   Garcia      M   \n",
              "\n",
              "                                             street            city state  \\\n",
              "trans_date_trans_time                                                       \n",
              "2019-01-01 00:00:18                  561 Perry Cove  Moravian Falls    NC   \n",
              "2019-01-01 00:00:44    43039 Riley Greens Suite 393          Orient    WA   \n",
              "2019-01-01 00:00:51        594 White Dale Suite 530      Malad City    ID   \n",
              "2019-01-01 00:01:16     9443 Cynthia Court Apt. 038         Boulder    MT   \n",
              "2019-01-01 00:03:06                408 Bradley Rest        Doe Hill    VA   \n",
              "\n",
              "                         zip      lat      long  city_pop  \\\n",
              "trans_date_trans_time                                       \n",
              "2019-01-01 00:00:18    28654  36.0788  -81.1781      3495   \n",
              "2019-01-01 00:00:44    99160  48.8878 -118.2105       149   \n",
              "2019-01-01 00:00:51    83252  42.1808 -112.2620      4154   \n",
              "2019-01-01 00:01:16    59632  46.2306 -112.1138      1939   \n",
              "2019-01-01 00:03:06    24433  38.4207  -79.4629        99   \n",
              "\n",
              "                                                     job        dob  \\\n",
              "trans_date_trans_time                                                 \n",
              "2019-01-01 00:00:18            Psychologist, counselling 1988-03-09   \n",
              "2019-01-01 00:00:44    Special educational needs teacher 1978-06-21   \n",
              "2019-01-01 00:00:51          Nature conservation officer 1962-01-19   \n",
              "2019-01-01 00:01:16                      Patent attorney 1967-01-12   \n",
              "2019-01-01 00:03:06       Dance movement psychotherapist 1986-03-28   \n",
              "\n",
              "                                              trans_num   unix_time  \\\n",
              "trans_date_trans_time                                                 \n",
              "2019-01-01 00:00:18    0b242abb623afc578575680df30655b9  1325376018   \n",
              "2019-01-01 00:00:44    1f76529f8574734946361c461b024d99  1325376044   \n",
              "2019-01-01 00:00:51    a1a22d70485983eac12b5b88dad1cf95  1325376051   \n",
              "2019-01-01 00:01:16    6b849c168bdad6f867558c3793159a81  1325376076   \n",
              "2019-01-01 00:03:06    a41d7549acf90789359a9aa5346dcb46  1325376186   \n",
              "\n",
              "                       merch_lat  merch_long  is_fraud  trans_hour  \\\n",
              "trans_date_trans_time                                                \n",
              "2019-01-01 00:00:18    36.011293  -82.048315         0           0   \n",
              "2019-01-01 00:00:44    49.159047 -118.186462         0           0   \n",
              "2019-01-01 00:00:51    43.150704 -112.154481         0           0   \n",
              "2019-01-01 00:01:16    47.034331 -112.561071         0           0   \n",
              "2019-01-01 00:03:06    38.674999  -78.632459         0           0   \n",
              "\n",
              "                      trans_day_of_week trans_year_month trans_date  cust_age  \\\n",
              "trans_date_trans_time                                                           \n",
              "2019-01-01 00:00:18             Tuesday          2019-01 2019-01-01      34.0   \n",
              "2019-01-01 00:00:44             Tuesday          2019-01 2019-01-01      44.0   \n",
              "2019-01-01 00:00:51             Tuesday          2019-01 2019-01-01      60.0   \n",
              "2019-01-01 00:01:16             Tuesday          2019-01 2019-01-01      55.0   \n",
              "2019-01-01 00:03:06             Tuesday          2019-01 2019-01-01      36.0   \n",
              "\n",
              "                       age_at_trans  \n",
              "trans_date_trans_time                \n",
              "2019-01-01 00:00:18            30.0  \n",
              "2019-01-01 00:00:44            40.0  \n",
              "2019-01-01 00:00:51            56.0  \n",
              "2019-01-01 00:01:16            51.0  \n",
              "2019-01-01 00:03:06            32.0  "
            ],
            "text/html": [
              "\n",
              "  <div id=\"df-eec4f8e2-1196-4573-b5d1-e64394962535\">\n",
              "    <div class=\"colab-df-container\">\n",
              "      <div>\n",
              "<style scoped>\n",
              "    .dataframe tbody tr th:only-of-type {\n",
              "        vertical-align: middle;\n",
              "    }\n",
              "\n",
              "    .dataframe tbody tr th {\n",
              "        vertical-align: top;\n",
              "    }\n",
              "\n",
              "    .dataframe thead th {\n",
              "        text-align: right;\n",
              "    }\n",
              "</style>\n",
              "<table border=\"1\" class=\"dataframe\">\n",
              "  <thead>\n",
              "    <tr style=\"text-align: right;\">\n",
              "      <th></th>\n",
              "      <th>trans_date_trans_time</th>\n",
              "      <th>cc_num</th>\n",
              "      <th>merchant</th>\n",
              "      <th>category</th>\n",
              "      <th>amt</th>\n",
              "      <th>first</th>\n",
              "      <th>last</th>\n",
              "      <th>gender</th>\n",
              "      <th>street</th>\n",
              "      <th>city</th>\n",
              "      <th>state</th>\n",
              "      <th>zip</th>\n",
              "      <th>lat</th>\n",
              "      <th>long</th>\n",
              "      <th>city_pop</th>\n",
              "      <th>job</th>\n",
              "      <th>dob</th>\n",
              "      <th>trans_num</th>\n",
              "      <th>unix_time</th>\n",
              "      <th>merch_lat</th>\n",
              "      <th>merch_long</th>\n",
              "      <th>is_fraud</th>\n",
              "      <th>trans_hour</th>\n",
              "      <th>trans_day_of_week</th>\n",
              "      <th>trans_year_month</th>\n",
              "      <th>trans_date</th>\n",
              "      <th>cust_age</th>\n",
              "      <th>age_at_trans</th>\n",
              "    </tr>\n",
              "    <tr>\n",
              "      <th>trans_date_trans_time</th>\n",
              "      <th></th>\n",
              "      <th></th>\n",
              "      <th></th>\n",
              "      <th></th>\n",
              "      <th></th>\n",
              "      <th></th>\n",
              "      <th></th>\n",
              "      <th></th>\n",
              "      <th></th>\n",
              "      <th></th>\n",
              "      <th></th>\n",
              "      <th></th>\n",
              "      <th></th>\n",
              "      <th></th>\n",
              "      <th></th>\n",
              "      <th></th>\n",
              "      <th></th>\n",
              "      <th></th>\n",
              "      <th></th>\n",
              "      <th></th>\n",
              "      <th></th>\n",
              "      <th></th>\n",
              "      <th></th>\n",
              "      <th></th>\n",
              "      <th></th>\n",
              "      <th></th>\n",
              "      <th></th>\n",
              "      <th></th>\n",
              "    </tr>\n",
              "  </thead>\n",
              "  <tbody>\n",
              "    <tr>\n",
              "      <th>2019-01-01 00:00:18</th>\n",
              "      <td>2019-01-01 00:00:18</td>\n",
              "      <td>2703186189652095</td>\n",
              "      <td>fraud_Rippin, Kub and Mann</td>\n",
              "      <td>misc_net</td>\n",
              "      <td>4.97</td>\n",
              "      <td>Jennifer</td>\n",
              "      <td>Banks</td>\n",
              "      <td>F</td>\n",
              "      <td>561 Perry Cove</td>\n",
              "      <td>Moravian Falls</td>\n",
              "      <td>NC</td>\n",
              "      <td>28654</td>\n",
              "      <td>36.0788</td>\n",
              "      <td>-81.1781</td>\n",
              "      <td>3495</td>\n",
              "      <td>Psychologist, counselling</td>\n",
              "      <td>1988-03-09</td>\n",
              "      <td>0b242abb623afc578575680df30655b9</td>\n",
              "      <td>1325376018</td>\n",
              "      <td>36.011293</td>\n",
              "      <td>-82.048315</td>\n",
              "      <td>0</td>\n",
              "      <td>0</td>\n",
              "      <td>Tuesday</td>\n",
              "      <td>2019-01</td>\n",
              "      <td>2019-01-01</td>\n",
              "      <td>34.0</td>\n",
              "      <td>30.0</td>\n",
              "    </tr>\n",
              "    <tr>\n",
              "      <th>2019-01-01 00:00:44</th>\n",
              "      <td>2019-01-01 00:00:44</td>\n",
              "      <td>630423337322</td>\n",
              "      <td>fraud_Heller, Gutmann and Zieme</td>\n",
              "      <td>grocery_pos</td>\n",
              "      <td>107.23</td>\n",
              "      <td>Stephanie</td>\n",
              "      <td>Gill</td>\n",
              "      <td>F</td>\n",
              "      <td>43039 Riley Greens Suite 393</td>\n",
              "      <td>Orient</td>\n",
              "      <td>WA</td>\n",
              "      <td>99160</td>\n",
              "      <td>48.8878</td>\n",
              "      <td>-118.2105</td>\n",
              "      <td>149</td>\n",
              "      <td>Special educational needs teacher</td>\n",
              "      <td>1978-06-21</td>\n",
              "      <td>1f76529f8574734946361c461b024d99</td>\n",
              "      <td>1325376044</td>\n",
              "      <td>49.159047</td>\n",
              "      <td>-118.186462</td>\n",
              "      <td>0</td>\n",
              "      <td>0</td>\n",
              "      <td>Tuesday</td>\n",
              "      <td>2019-01</td>\n",
              "      <td>2019-01-01</td>\n",
              "      <td>44.0</td>\n",
              "      <td>40.0</td>\n",
              "    </tr>\n",
              "    <tr>\n",
              "      <th>2019-01-01 00:00:51</th>\n",
              "      <td>2019-01-01 00:00:51</td>\n",
              "      <td>38859492057661</td>\n",
              "      <td>fraud_Lind-Buckridge</td>\n",
              "      <td>entertainment</td>\n",
              "      <td>220.11</td>\n",
              "      <td>Edward</td>\n",
              "      <td>Sanchez</td>\n",
              "      <td>M</td>\n",
              "      <td>594 White Dale Suite 530</td>\n",
              "      <td>Malad City</td>\n",
              "      <td>ID</td>\n",
              "      <td>83252</td>\n",
              "      <td>42.1808</td>\n",
              "      <td>-112.2620</td>\n",
              "      <td>4154</td>\n",
              "      <td>Nature conservation officer</td>\n",
              "      <td>1962-01-19</td>\n",
              "      <td>a1a22d70485983eac12b5b88dad1cf95</td>\n",
              "      <td>1325376051</td>\n",
              "      <td>43.150704</td>\n",
              "      <td>-112.154481</td>\n",
              "      <td>0</td>\n",
              "      <td>0</td>\n",
              "      <td>Tuesday</td>\n",
              "      <td>2019-01</td>\n",
              "      <td>2019-01-01</td>\n",
              "      <td>60.0</td>\n",
              "      <td>56.0</td>\n",
              "    </tr>\n",
              "    <tr>\n",
              "      <th>2019-01-01 00:01:16</th>\n",
              "      <td>2019-01-01 00:01:16</td>\n",
              "      <td>3534093764340240</td>\n",
              "      <td>fraud_Kutch, Hermiston and Farrell</td>\n",
              "      <td>gas_transport</td>\n",
              "      <td>45.00</td>\n",
              "      <td>Jeremy</td>\n",
              "      <td>White</td>\n",
              "      <td>M</td>\n",
              "      <td>9443 Cynthia Court Apt. 038</td>\n",
              "      <td>Boulder</td>\n",
              "      <td>MT</td>\n",
              "      <td>59632</td>\n",
              "      <td>46.2306</td>\n",
              "      <td>-112.1138</td>\n",
              "      <td>1939</td>\n",
              "      <td>Patent attorney</td>\n",
              "      <td>1967-01-12</td>\n",
              "      <td>6b849c168bdad6f867558c3793159a81</td>\n",
              "      <td>1325376076</td>\n",
              "      <td>47.034331</td>\n",
              "      <td>-112.561071</td>\n",
              "      <td>0</td>\n",
              "      <td>0</td>\n",
              "      <td>Tuesday</td>\n",
              "      <td>2019-01</td>\n",
              "      <td>2019-01-01</td>\n",
              "      <td>55.0</td>\n",
              "      <td>51.0</td>\n",
              "    </tr>\n",
              "    <tr>\n",
              "      <th>2019-01-01 00:03:06</th>\n",
              "      <td>2019-01-01 00:03:06</td>\n",
              "      <td>375534208663984</td>\n",
              "      <td>fraud_Keeling-Crist</td>\n",
              "      <td>misc_pos</td>\n",
              "      <td>41.96</td>\n",
              "      <td>Tyler</td>\n",
              "      <td>Garcia</td>\n",
              "      <td>M</td>\n",
              "      <td>408 Bradley Rest</td>\n",
              "      <td>Doe Hill</td>\n",
              "      <td>VA</td>\n",
              "      <td>24433</td>\n",
              "      <td>38.4207</td>\n",
              "      <td>-79.4629</td>\n",
              "      <td>99</td>\n",
              "      <td>Dance movement psychotherapist</td>\n",
              "      <td>1986-03-28</td>\n",
              "      <td>a41d7549acf90789359a9aa5346dcb46</td>\n",
              "      <td>1325376186</td>\n",
              "      <td>38.674999</td>\n",
              "      <td>-78.632459</td>\n",
              "      <td>0</td>\n",
              "      <td>0</td>\n",
              "      <td>Tuesday</td>\n",
              "      <td>2019-01</td>\n",
              "      <td>2019-01-01</td>\n",
              "      <td>36.0</td>\n",
              "      <td>32.0</td>\n",
              "    </tr>\n",
              "  </tbody>\n",
              "</table>\n",
              "</div>\n",
              "      <button class=\"colab-df-convert\" onclick=\"convertToInteractive('df-eec4f8e2-1196-4573-b5d1-e64394962535')\"\n",
              "              title=\"Convert this dataframe to an interactive table.\"\n",
              "              style=\"display:none;\">\n",
              "        \n",
              "  <svg xmlns=\"http://www.w3.org/2000/svg\" height=\"24px\"viewBox=\"0 0 24 24\"\n",
              "       width=\"24px\">\n",
              "    <path d=\"M0 0h24v24H0V0z\" fill=\"none\"/>\n",
              "    <path d=\"M18.56 5.44l.94 2.06.94-2.06 2.06-.94-2.06-.94-.94-2.06-.94 2.06-2.06.94zm-11 1L8.5 8.5l.94-2.06 2.06-.94-2.06-.94L8.5 2.5l-.94 2.06-2.06.94zm10 10l.94 2.06.94-2.06 2.06-.94-2.06-.94-.94-2.06-.94 2.06-2.06.94z\"/><path d=\"M17.41 7.96l-1.37-1.37c-.4-.4-.92-.59-1.43-.59-.52 0-1.04.2-1.43.59L10.3 9.45l-7.72 7.72c-.78.78-.78 2.05 0 2.83L4 21.41c.39.39.9.59 1.41.59.51 0 1.02-.2 1.41-.59l7.78-7.78 2.81-2.81c.8-.78.8-2.07 0-2.86zM5.41 20L4 18.59l7.72-7.72 1.47 1.35L5.41 20z\"/>\n",
              "  </svg>\n",
              "      </button>\n",
              "      \n",
              "  <style>\n",
              "    .colab-df-container {\n",
              "      display:flex;\n",
              "      flex-wrap:wrap;\n",
              "      gap: 12px;\n",
              "    }\n",
              "\n",
              "    .colab-df-convert {\n",
              "      background-color: #E8F0FE;\n",
              "      border: none;\n",
              "      border-radius: 50%;\n",
              "      cursor: pointer;\n",
              "      display: none;\n",
              "      fill: #1967D2;\n",
              "      height: 32px;\n",
              "      padding: 0 0 0 0;\n",
              "      width: 32px;\n",
              "    }\n",
              "\n",
              "    .colab-df-convert:hover {\n",
              "      background-color: #E2EBFA;\n",
              "      box-shadow: 0px 1px 2px rgba(60, 64, 67, 0.3), 0px 1px 3px 1px rgba(60, 64, 67, 0.15);\n",
              "      fill: #174EA6;\n",
              "    }\n",
              "\n",
              "    [theme=dark] .colab-df-convert {\n",
              "      background-color: #3B4455;\n",
              "      fill: #D2E3FC;\n",
              "    }\n",
              "\n",
              "    [theme=dark] .colab-df-convert:hover {\n",
              "      background-color: #434B5C;\n",
              "      box-shadow: 0px 1px 3px 1px rgba(0, 0, 0, 0.15);\n",
              "      filter: drop-shadow(0px 1px 2px rgba(0, 0, 0, 0.3));\n",
              "      fill: #FFFFFF;\n",
              "    }\n",
              "  </style>\n",
              "\n",
              "      <script>\n",
              "        const buttonEl =\n",
              "          document.querySelector('#df-eec4f8e2-1196-4573-b5d1-e64394962535 button.colab-df-convert');\n",
              "        buttonEl.style.display =\n",
              "          google.colab.kernel.accessAllowed ? 'block' : 'none';\n",
              "\n",
              "        async function convertToInteractive(key) {\n",
              "          const element = document.querySelector('#df-eec4f8e2-1196-4573-b5d1-e64394962535');\n",
              "          const dataTable =\n",
              "            await google.colab.kernel.invokeFunction('convertToInteractive',\n",
              "                                                     [key], {});\n",
              "          if (!dataTable) return;\n",
              "\n",
              "          const docLinkHtml = 'Like what you see? Visit the ' +\n",
              "            '<a target=\"_blank\" href=https://colab.research.google.com/notebooks/data_table.ipynb>data table notebook</a>'\n",
              "            + ' to learn more about interactive tables.';\n",
              "          element.innerHTML = '';\n",
              "          dataTable['output_type'] = 'display_data';\n",
              "          await google.colab.output.renderOutput(dataTable, element);\n",
              "          const docLink = document.createElement('div');\n",
              "          docLink.innerHTML = docLinkHtml;\n",
              "          element.appendChild(docLink);\n",
              "        }\n",
              "      </script>\n",
              "    </div>\n",
              "  </div>\n",
              "  "
            ]
          },
          "metadata": {},
          "execution_count": 19
        }
      ]
    },
    {
      "cell_type": "code",
      "source": [
        "# Number of customer transactions in the last 60 days \n",
        "df_train['agg'] = 1\n",
        "df_hist_trans_60d = df_train .groupby(['cc_num'])['agg'].rolling('60D').count().shift().reset_index().fillna(0)\n",
        "\n",
        "df_hist_trans_60d.columns = ['cc_num','trans_date','hist_trans_60d']\n",
        "df_hist_trans_60d['trans_date'] = df_hist_trans_60d['trans_date'].dt.date\n",
        "df_hist_trans_60d = df_hist_trans_60d.groupby(['cc_num','trans_date'])['hist_trans_60d'].min().reset_index()"
      ],
      "metadata": {
        "id": "7HtmIKSpM7an"
      },
      "execution_count": 20,
      "outputs": []
    },
    {
      "cell_type": "code",
      "source": [
        "# Average transaction value of customers in the last 60 days \n",
        "df_hist_trans_amt_avg_60d = df_train .groupby(['cc_num'])['amt'].rolling('60D').sum().shift(1).reset_index().fillna(0)\n",
        "\n",
        "df_hist_trans_amt_avg_60d.columns = ['cc_num','trans_date','hist_trans_avg_amt_60d']\n",
        "df_hist_trans_amt_avg_60d['trans_date'] = df_hist_trans_amt_avg_60d['trans_date'].dt.date\n",
        "df_hist_trans_amt_avg_60d = df_hist_trans_amt_avg_60d.groupby(['cc_num','trans_date'])['hist_trans_avg_amt_60d'].mean().reset_index()"
      ],
      "metadata": {
        "id": "obP0n2euNBda"
      },
      "execution_count": 21,
      "outputs": []
    },
    {
      "cell_type": "code",
      "source": [
        "# Merge Historical Variables with Transactions by ['cc_num','trans_date_trans_time'] using left join\n",
        "\n",
        "df_train['trans_date'] = df_train['trans_date_trans_time'].dt.date\n",
        "df_train = df_train.merge(df_hist_trans_amt_avg_60d.drop_duplicates(), left_on = ['cc_num','trans_date'], right_on = ['cc_num','trans_date'],how = 'left')\n",
        "df_train = df_train.merge(df_hist_trans_60d.drop_duplicates(), left_on = ['cc_num','trans_date'], right_on = ['cc_num','trans_date'],how = 'left')"
      ],
      "metadata": {
        "id": "IAidvBQENGLH"
      },
      "execution_count": 22,
      "outputs": []
    },
    {
      "cell_type": "code",
      "source": [
        "df_test.index = df_test['trans_date_trans_time']\n",
        "df_test = df_test.sort_index()\n",
        "df_test.head()"
      ],
      "metadata": {
        "id": "VOH1Mw2jNKUO",
        "colab": {
          "base_uri": "https://localhost:8080/",
          "height": 510
        },
        "outputId": "336fddd4-f789-44f7-adad-ca9fbe9bc96f"
      },
      "execution_count": 23,
      "outputs": [
        {
          "output_type": "execute_result",
          "data": {
            "text/plain": [
              "                      trans_date_trans_time            cc_num  \\\n",
              "trans_date_trans_time                                           \n",
              "2020-06-21 12:14:25     2020-06-21 12:14:25  2291163933867244   \n",
              "2020-06-21 12:14:33     2020-06-21 12:14:33  3573030041201292   \n",
              "2020-06-21 12:14:53     2020-06-21 12:14:53  3598215285024754   \n",
              "2020-06-21 12:15:15     2020-06-21 12:15:15  3591919803438423   \n",
              "2020-06-21 12:15:17     2020-06-21 12:15:17  3526826139003047   \n",
              "\n",
              "                                                   merchant        category  \\\n",
              "trans_date_trans_time                                                         \n",
              "2020-06-21 12:14:25                   fraud_Kirlin and Sons   personal_care   \n",
              "2020-06-21 12:14:33                    fraud_Sporer-Keebler   personal_care   \n",
              "2020-06-21 12:14:53    fraud_Swaniawski, Nitzsche and Welch  health_fitness   \n",
              "2020-06-21 12:15:15                       fraud_Haley Group        misc_pos   \n",
              "2020-06-21 12:15:17                   fraud_Johnston-Casper          travel   \n",
              "\n",
              "                         amt   first      last gender  \\\n",
              "trans_date_trans_time                                   \n",
              "2020-06-21 12:14:25     2.86    Jeff   Elliott      M   \n",
              "2020-06-21 12:14:33    29.84  Joanne  Williams      F   \n",
              "2020-06-21 12:14:53    41.28  Ashley     Lopez      F   \n",
              "2020-06-21 12:15:15    60.05   Brian  Williams      M   \n",
              "2020-06-21 12:15:17     3.19  Nathan    Massey      M   \n",
              "\n",
              "                                            street        city state    zip  \\\n",
              "trans_date_trans_time                                                         \n",
              "2020-06-21 12:14:25              351 Darlene Green    Columbia    SC  29209   \n",
              "2020-06-21 12:14:33               3638 Marsh Union     Altonah    UT  84002   \n",
              "2020-06-21 12:14:53           9333 Valentine Point    Bellmore    NY  11710   \n",
              "2020-06-21 12:15:15    32941 Krystal Mill Apt. 552  Titusville    FL  32780   \n",
              "2020-06-21 12:15:17       5783 Evan Roads Apt. 465    Falmouth    MI  49632   \n",
              "\n",
              "                           lat      long  city_pop                     job  \\\n",
              "trans_date_trans_time                                                        \n",
              "2020-06-21 12:14:25    33.9659  -80.9355    333497     Mechanical engineer   \n",
              "2020-06-21 12:14:33    40.3207 -110.4360       302  Sales professional, IT   \n",
              "2020-06-21 12:14:53    40.6729  -73.5365     34496       Librarian, public   \n",
              "2020-06-21 12:15:15    28.5697  -80.8191     54767            Set designer   \n",
              "2020-06-21 12:15:17    44.2529  -85.0170      1126      Furniture designer   \n",
              "\n",
              "                             dob                         trans_num  \\\n",
              "trans_date_trans_time                                                \n",
              "2020-06-21 12:14:25   1968-03-19  2da90c7d74bd46a0caf3777415b3ebd3   \n",
              "2020-06-21 12:14:33   1990-01-17  324cc204407e99f51b0d6ca0055005e7   \n",
              "2020-06-21 12:14:53   1970-10-21  c81755dbbbea9d5c77f094348a7579be   \n",
              "2020-06-21 12:15:15   1987-07-25  2159175b9efe66dc301f149d3d5abf8c   \n",
              "2020-06-21 12:15:17   1955-07-06  57ff021bd3f328f8738bb535c302a31b   \n",
              "\n",
              "                        unix_time  merch_lat  merch_long  is_fraud  \\\n",
              "trans_date_trans_time                                                \n",
              "2020-06-21 12:14:25    1371816865  33.986391  -81.200714         0   \n",
              "2020-06-21 12:14:33    1371816873  39.450498 -109.960431         0   \n",
              "2020-06-21 12:14:53    1371816893  40.495810  -74.196111         0   \n",
              "2020-06-21 12:15:15    1371816915  28.812398  -80.883061         0   \n",
              "2020-06-21 12:15:17    1371816917  44.959148  -85.884734         0   \n",
              "\n",
              "                       trans_hour trans_day_of_week trans_year_month  \\\n",
              "trans_date_trans_time                                                  \n",
              "2020-06-21 12:14:25            12            Sunday          2020-06   \n",
              "2020-06-21 12:14:33            12            Sunday          2020-06   \n",
              "2020-06-21 12:14:53            12            Sunday          2020-06   \n",
              "2020-06-21 12:15:15            12            Sunday          2020-06   \n",
              "2020-06-21 12:15:17            12            Sunday          2020-06   \n",
              "\n",
              "                      trans_date  cust_age  age_at_trans  \n",
              "trans_date_trans_time                                     \n",
              "2020-06-21 12:14:25   2020-06-21      54.0          52.0  \n",
              "2020-06-21 12:14:33   2020-06-21      32.0          30.0  \n",
              "2020-06-21 12:14:53   2020-06-21      52.0          49.0  \n",
              "2020-06-21 12:15:15   2020-06-21      35.0          32.0  \n",
              "2020-06-21 12:15:17   2020-06-21      67.0          64.0  "
            ],
            "text/html": [
              "\n",
              "  <div id=\"df-ea33ccd8-9cf2-47f5-885d-a8158bb5e7fb\">\n",
              "    <div class=\"colab-df-container\">\n",
              "      <div>\n",
              "<style scoped>\n",
              "    .dataframe tbody tr th:only-of-type {\n",
              "        vertical-align: middle;\n",
              "    }\n",
              "\n",
              "    .dataframe tbody tr th {\n",
              "        vertical-align: top;\n",
              "    }\n",
              "\n",
              "    .dataframe thead th {\n",
              "        text-align: right;\n",
              "    }\n",
              "</style>\n",
              "<table border=\"1\" class=\"dataframe\">\n",
              "  <thead>\n",
              "    <tr style=\"text-align: right;\">\n",
              "      <th></th>\n",
              "      <th>trans_date_trans_time</th>\n",
              "      <th>cc_num</th>\n",
              "      <th>merchant</th>\n",
              "      <th>category</th>\n",
              "      <th>amt</th>\n",
              "      <th>first</th>\n",
              "      <th>last</th>\n",
              "      <th>gender</th>\n",
              "      <th>street</th>\n",
              "      <th>city</th>\n",
              "      <th>state</th>\n",
              "      <th>zip</th>\n",
              "      <th>lat</th>\n",
              "      <th>long</th>\n",
              "      <th>city_pop</th>\n",
              "      <th>job</th>\n",
              "      <th>dob</th>\n",
              "      <th>trans_num</th>\n",
              "      <th>unix_time</th>\n",
              "      <th>merch_lat</th>\n",
              "      <th>merch_long</th>\n",
              "      <th>is_fraud</th>\n",
              "      <th>trans_hour</th>\n",
              "      <th>trans_day_of_week</th>\n",
              "      <th>trans_year_month</th>\n",
              "      <th>trans_date</th>\n",
              "      <th>cust_age</th>\n",
              "      <th>age_at_trans</th>\n",
              "    </tr>\n",
              "    <tr>\n",
              "      <th>trans_date_trans_time</th>\n",
              "      <th></th>\n",
              "      <th></th>\n",
              "      <th></th>\n",
              "      <th></th>\n",
              "      <th></th>\n",
              "      <th></th>\n",
              "      <th></th>\n",
              "      <th></th>\n",
              "      <th></th>\n",
              "      <th></th>\n",
              "      <th></th>\n",
              "      <th></th>\n",
              "      <th></th>\n",
              "      <th></th>\n",
              "      <th></th>\n",
              "      <th></th>\n",
              "      <th></th>\n",
              "      <th></th>\n",
              "      <th></th>\n",
              "      <th></th>\n",
              "      <th></th>\n",
              "      <th></th>\n",
              "      <th></th>\n",
              "      <th></th>\n",
              "      <th></th>\n",
              "      <th></th>\n",
              "      <th></th>\n",
              "      <th></th>\n",
              "    </tr>\n",
              "  </thead>\n",
              "  <tbody>\n",
              "    <tr>\n",
              "      <th>2020-06-21 12:14:25</th>\n",
              "      <td>2020-06-21 12:14:25</td>\n",
              "      <td>2291163933867244</td>\n",
              "      <td>fraud_Kirlin and Sons</td>\n",
              "      <td>personal_care</td>\n",
              "      <td>2.86</td>\n",
              "      <td>Jeff</td>\n",
              "      <td>Elliott</td>\n",
              "      <td>M</td>\n",
              "      <td>351 Darlene Green</td>\n",
              "      <td>Columbia</td>\n",
              "      <td>SC</td>\n",
              "      <td>29209</td>\n",
              "      <td>33.9659</td>\n",
              "      <td>-80.9355</td>\n",
              "      <td>333497</td>\n",
              "      <td>Mechanical engineer</td>\n",
              "      <td>1968-03-19</td>\n",
              "      <td>2da90c7d74bd46a0caf3777415b3ebd3</td>\n",
              "      <td>1371816865</td>\n",
              "      <td>33.986391</td>\n",
              "      <td>-81.200714</td>\n",
              "      <td>0</td>\n",
              "      <td>12</td>\n",
              "      <td>Sunday</td>\n",
              "      <td>2020-06</td>\n",
              "      <td>2020-06-21</td>\n",
              "      <td>54.0</td>\n",
              "      <td>52.0</td>\n",
              "    </tr>\n",
              "    <tr>\n",
              "      <th>2020-06-21 12:14:33</th>\n",
              "      <td>2020-06-21 12:14:33</td>\n",
              "      <td>3573030041201292</td>\n",
              "      <td>fraud_Sporer-Keebler</td>\n",
              "      <td>personal_care</td>\n",
              "      <td>29.84</td>\n",
              "      <td>Joanne</td>\n",
              "      <td>Williams</td>\n",
              "      <td>F</td>\n",
              "      <td>3638 Marsh Union</td>\n",
              "      <td>Altonah</td>\n",
              "      <td>UT</td>\n",
              "      <td>84002</td>\n",
              "      <td>40.3207</td>\n",
              "      <td>-110.4360</td>\n",
              "      <td>302</td>\n",
              "      <td>Sales professional, IT</td>\n",
              "      <td>1990-01-17</td>\n",
              "      <td>324cc204407e99f51b0d6ca0055005e7</td>\n",
              "      <td>1371816873</td>\n",
              "      <td>39.450498</td>\n",
              "      <td>-109.960431</td>\n",
              "      <td>0</td>\n",
              "      <td>12</td>\n",
              "      <td>Sunday</td>\n",
              "      <td>2020-06</td>\n",
              "      <td>2020-06-21</td>\n",
              "      <td>32.0</td>\n",
              "      <td>30.0</td>\n",
              "    </tr>\n",
              "    <tr>\n",
              "      <th>2020-06-21 12:14:53</th>\n",
              "      <td>2020-06-21 12:14:53</td>\n",
              "      <td>3598215285024754</td>\n",
              "      <td>fraud_Swaniawski, Nitzsche and Welch</td>\n",
              "      <td>health_fitness</td>\n",
              "      <td>41.28</td>\n",
              "      <td>Ashley</td>\n",
              "      <td>Lopez</td>\n",
              "      <td>F</td>\n",
              "      <td>9333 Valentine Point</td>\n",
              "      <td>Bellmore</td>\n",
              "      <td>NY</td>\n",
              "      <td>11710</td>\n",
              "      <td>40.6729</td>\n",
              "      <td>-73.5365</td>\n",
              "      <td>34496</td>\n",
              "      <td>Librarian, public</td>\n",
              "      <td>1970-10-21</td>\n",
              "      <td>c81755dbbbea9d5c77f094348a7579be</td>\n",
              "      <td>1371816893</td>\n",
              "      <td>40.495810</td>\n",
              "      <td>-74.196111</td>\n",
              "      <td>0</td>\n",
              "      <td>12</td>\n",
              "      <td>Sunday</td>\n",
              "      <td>2020-06</td>\n",
              "      <td>2020-06-21</td>\n",
              "      <td>52.0</td>\n",
              "      <td>49.0</td>\n",
              "    </tr>\n",
              "    <tr>\n",
              "      <th>2020-06-21 12:15:15</th>\n",
              "      <td>2020-06-21 12:15:15</td>\n",
              "      <td>3591919803438423</td>\n",
              "      <td>fraud_Haley Group</td>\n",
              "      <td>misc_pos</td>\n",
              "      <td>60.05</td>\n",
              "      <td>Brian</td>\n",
              "      <td>Williams</td>\n",
              "      <td>M</td>\n",
              "      <td>32941 Krystal Mill Apt. 552</td>\n",
              "      <td>Titusville</td>\n",
              "      <td>FL</td>\n",
              "      <td>32780</td>\n",
              "      <td>28.5697</td>\n",
              "      <td>-80.8191</td>\n",
              "      <td>54767</td>\n",
              "      <td>Set designer</td>\n",
              "      <td>1987-07-25</td>\n",
              "      <td>2159175b9efe66dc301f149d3d5abf8c</td>\n",
              "      <td>1371816915</td>\n",
              "      <td>28.812398</td>\n",
              "      <td>-80.883061</td>\n",
              "      <td>0</td>\n",
              "      <td>12</td>\n",
              "      <td>Sunday</td>\n",
              "      <td>2020-06</td>\n",
              "      <td>2020-06-21</td>\n",
              "      <td>35.0</td>\n",
              "      <td>32.0</td>\n",
              "    </tr>\n",
              "    <tr>\n",
              "      <th>2020-06-21 12:15:17</th>\n",
              "      <td>2020-06-21 12:15:17</td>\n",
              "      <td>3526826139003047</td>\n",
              "      <td>fraud_Johnston-Casper</td>\n",
              "      <td>travel</td>\n",
              "      <td>3.19</td>\n",
              "      <td>Nathan</td>\n",
              "      <td>Massey</td>\n",
              "      <td>M</td>\n",
              "      <td>5783 Evan Roads Apt. 465</td>\n",
              "      <td>Falmouth</td>\n",
              "      <td>MI</td>\n",
              "      <td>49632</td>\n",
              "      <td>44.2529</td>\n",
              "      <td>-85.0170</td>\n",
              "      <td>1126</td>\n",
              "      <td>Furniture designer</td>\n",
              "      <td>1955-07-06</td>\n",
              "      <td>57ff021bd3f328f8738bb535c302a31b</td>\n",
              "      <td>1371816917</td>\n",
              "      <td>44.959148</td>\n",
              "      <td>-85.884734</td>\n",
              "      <td>0</td>\n",
              "      <td>12</td>\n",
              "      <td>Sunday</td>\n",
              "      <td>2020-06</td>\n",
              "      <td>2020-06-21</td>\n",
              "      <td>67.0</td>\n",
              "      <td>64.0</td>\n",
              "    </tr>\n",
              "  </tbody>\n",
              "</table>\n",
              "</div>\n",
              "      <button class=\"colab-df-convert\" onclick=\"convertToInteractive('df-ea33ccd8-9cf2-47f5-885d-a8158bb5e7fb')\"\n",
              "              title=\"Convert this dataframe to an interactive table.\"\n",
              "              style=\"display:none;\">\n",
              "        \n",
              "  <svg xmlns=\"http://www.w3.org/2000/svg\" height=\"24px\"viewBox=\"0 0 24 24\"\n",
              "       width=\"24px\">\n",
              "    <path d=\"M0 0h24v24H0V0z\" fill=\"none\"/>\n",
              "    <path d=\"M18.56 5.44l.94 2.06.94-2.06 2.06-.94-2.06-.94-.94-2.06-.94 2.06-2.06.94zm-11 1L8.5 8.5l.94-2.06 2.06-.94-2.06-.94L8.5 2.5l-.94 2.06-2.06.94zm10 10l.94 2.06.94-2.06 2.06-.94-2.06-.94-.94-2.06-.94 2.06-2.06.94z\"/><path d=\"M17.41 7.96l-1.37-1.37c-.4-.4-.92-.59-1.43-.59-.52 0-1.04.2-1.43.59L10.3 9.45l-7.72 7.72c-.78.78-.78 2.05 0 2.83L4 21.41c.39.39.9.59 1.41.59.51 0 1.02-.2 1.41-.59l7.78-7.78 2.81-2.81c.8-.78.8-2.07 0-2.86zM5.41 20L4 18.59l7.72-7.72 1.47 1.35L5.41 20z\"/>\n",
              "  </svg>\n",
              "      </button>\n",
              "      \n",
              "  <style>\n",
              "    .colab-df-container {\n",
              "      display:flex;\n",
              "      flex-wrap:wrap;\n",
              "      gap: 12px;\n",
              "    }\n",
              "\n",
              "    .colab-df-convert {\n",
              "      background-color: #E8F0FE;\n",
              "      border: none;\n",
              "      border-radius: 50%;\n",
              "      cursor: pointer;\n",
              "      display: none;\n",
              "      fill: #1967D2;\n",
              "      height: 32px;\n",
              "      padding: 0 0 0 0;\n",
              "      width: 32px;\n",
              "    }\n",
              "\n",
              "    .colab-df-convert:hover {\n",
              "      background-color: #E2EBFA;\n",
              "      box-shadow: 0px 1px 2px rgba(60, 64, 67, 0.3), 0px 1px 3px 1px rgba(60, 64, 67, 0.15);\n",
              "      fill: #174EA6;\n",
              "    }\n",
              "\n",
              "    [theme=dark] .colab-df-convert {\n",
              "      background-color: #3B4455;\n",
              "      fill: #D2E3FC;\n",
              "    }\n",
              "\n",
              "    [theme=dark] .colab-df-convert:hover {\n",
              "      background-color: #434B5C;\n",
              "      box-shadow: 0px 1px 3px 1px rgba(0, 0, 0, 0.15);\n",
              "      filter: drop-shadow(0px 1px 2px rgba(0, 0, 0, 0.3));\n",
              "      fill: #FFFFFF;\n",
              "    }\n",
              "  </style>\n",
              "\n",
              "      <script>\n",
              "        const buttonEl =\n",
              "          document.querySelector('#df-ea33ccd8-9cf2-47f5-885d-a8158bb5e7fb button.colab-df-convert');\n",
              "        buttonEl.style.display =\n",
              "          google.colab.kernel.accessAllowed ? 'block' : 'none';\n",
              "\n",
              "        async function convertToInteractive(key) {\n",
              "          const element = document.querySelector('#df-ea33ccd8-9cf2-47f5-885d-a8158bb5e7fb');\n",
              "          const dataTable =\n",
              "            await google.colab.kernel.invokeFunction('convertToInteractive',\n",
              "                                                     [key], {});\n",
              "          if (!dataTable) return;\n",
              "\n",
              "          const docLinkHtml = 'Like what you see? Visit the ' +\n",
              "            '<a target=\"_blank\" href=https://colab.research.google.com/notebooks/data_table.ipynb>data table notebook</a>'\n",
              "            + ' to learn more about interactive tables.';\n",
              "          element.innerHTML = '';\n",
              "          dataTable['output_type'] = 'display_data';\n",
              "          await google.colab.output.renderOutput(dataTable, element);\n",
              "          const docLink = document.createElement('div');\n",
              "          docLink.innerHTML = docLinkHtml;\n",
              "          element.appendChild(docLink);\n",
              "        }\n",
              "      </script>\n",
              "    </div>\n",
              "  </div>\n",
              "  "
            ]
          },
          "metadata": {},
          "execution_count": 23
        }
      ]
    },
    {
      "cell_type": "code",
      "source": [
        "# Number of customer transcations in the last 60 days \n",
        "df_test['agg'] = 1\n",
        "df_hist_trans_60d = df_test .groupby(['cc_num'])['agg'].rolling('60D').count().shift().reset_index().fillna(0)\n",
        "\n",
        "df_hist_trans_60d.columns = ['cc_num','trans_date','hist_trans_60d']\n",
        "df_hist_trans_60d['trans_date'] = df_hist_trans_60d['trans_date'].dt.date\n",
        "df_hist_trans_60d = df_hist_trans_60d.groupby(['cc_num','trans_date'])['hist_trans_60d'].min().reset_index()"
      ],
      "metadata": {
        "id": "ZGfpa6t1NNXv"
      },
      "execution_count": 24,
      "outputs": []
    },
    {
      "cell_type": "code",
      "source": [
        "# Average order value of customers in the last 60 days \n",
        "df_hist_trans_amt_avg_60d = df_test .groupby(['cc_num'])['amt'].rolling('60D').sum().shift(1).reset_index().fillna(0)\n",
        "\n",
        "df_hist_trans_amt_avg_60d.columns = ['cc_num','trans_date','hist_trans_avg_amt_60d']\n",
        "df_hist_trans_amt_avg_60d['trans_date'] = df_hist_trans_amt_avg_60d['trans_date'].dt.date\n",
        "df_hist_trans_amt_avg_60d = df_hist_trans_amt_avg_60d.groupby(['cc_num','trans_date'])['hist_trans_avg_amt_60d'].mean().reset_index()"
      ],
      "metadata": {
        "id": "SE1bI_lgNRZ-"
      },
      "execution_count": 25,
      "outputs": []
    },
    {
      "cell_type": "code",
      "source": [
        "# Merge Historical Variables with Transactions by ['cc_num','trans_date_trans_time'] using left join\n",
        "df_test['trans_date'] = df_test['trans_date_trans_time'].dt.date\n",
        "df_test = df_test.merge(df_hist_trans_amt_avg_60d.drop_duplicates(), left_on = ['cc_num','trans_date'], right_on = ['cc_num','trans_date'],how = 'left')\n",
        "df_test = df_test.merge(df_hist_trans_60d.drop_duplicates(), left_on = ['cc_num','trans_date'], right_on = ['cc_num','trans_date'],how = 'left')"
      ],
      "metadata": {
        "id": "QWdvNV1VNUiU"
      },
      "execution_count": 26,
      "outputs": []
    },
    {
      "cell_type": "code",
      "source": [
        "df_test.head()"
      ],
      "metadata": {
        "id": "jVp42w62NbN1",
        "colab": {
          "base_uri": "https://localhost:8080/",
          "height": 478
        },
        "outputId": "576429dd-f1ea-405a-f4d9-8641c51b855d"
      },
      "execution_count": 27,
      "outputs": [
        {
          "output_type": "execute_result",
          "data": {
            "text/plain": [
              "  trans_date_trans_time            cc_num  \\\n",
              "0   2020-06-21 12:14:25  2291163933867244   \n",
              "1   2020-06-21 12:14:33  3573030041201292   \n",
              "2   2020-06-21 12:14:53  3598215285024754   \n",
              "3   2020-06-21 12:15:15  3591919803438423   \n",
              "4   2020-06-21 12:15:17  3526826139003047   \n",
              "\n",
              "                               merchant        category    amt   first  \\\n",
              "0                 fraud_Kirlin and Sons   personal_care   2.86    Jeff   \n",
              "1                  fraud_Sporer-Keebler   personal_care  29.84  Joanne   \n",
              "2  fraud_Swaniawski, Nitzsche and Welch  health_fitness  41.28  Ashley   \n",
              "3                     fraud_Haley Group        misc_pos  60.05   Brian   \n",
              "4                 fraud_Johnston-Casper          travel   3.19  Nathan   \n",
              "\n",
              "       last gender                       street        city state    zip  \\\n",
              "0   Elliott      M            351 Darlene Green    Columbia    SC  29209   \n",
              "1  Williams      F             3638 Marsh Union     Altonah    UT  84002   \n",
              "2     Lopez      F         9333 Valentine Point    Bellmore    NY  11710   \n",
              "3  Williams      M  32941 Krystal Mill Apt. 552  Titusville    FL  32780   \n",
              "4    Massey      M     5783 Evan Roads Apt. 465    Falmouth    MI  49632   \n",
              "\n",
              "       lat      long  city_pop                     job        dob  \\\n",
              "0  33.9659  -80.9355    333497     Mechanical engineer 1968-03-19   \n",
              "1  40.3207 -110.4360       302  Sales professional, IT 1990-01-17   \n",
              "2  40.6729  -73.5365     34496       Librarian, public 1970-10-21   \n",
              "3  28.5697  -80.8191     54767            Set designer 1987-07-25   \n",
              "4  44.2529  -85.0170      1126      Furniture designer 1955-07-06   \n",
              "\n",
              "                          trans_num   unix_time  merch_lat  merch_long  \\\n",
              "0  2da90c7d74bd46a0caf3777415b3ebd3  1371816865  33.986391  -81.200714   \n",
              "1  324cc204407e99f51b0d6ca0055005e7  1371816873  39.450498 -109.960431   \n",
              "2  c81755dbbbea9d5c77f094348a7579be  1371816893  40.495810  -74.196111   \n",
              "3  2159175b9efe66dc301f149d3d5abf8c  1371816915  28.812398  -80.883061   \n",
              "4  57ff021bd3f328f8738bb535c302a31b  1371816917  44.959148  -85.884734   \n",
              "\n",
              "   is_fraud  trans_hour trans_day_of_week trans_year_month  trans_date  \\\n",
              "0         0          12            Sunday          2020-06  2020-06-21   \n",
              "1         0          12            Sunday          2020-06  2020-06-21   \n",
              "2         0          12            Sunday          2020-06  2020-06-21   \n",
              "3         0          12            Sunday          2020-06  2020-06-21   \n",
              "4         0          12            Sunday          2020-06  2020-06-21   \n",
              "\n",
              "   cust_age  age_at_trans  agg  hist_trans_avg_amt_60d  hist_trans_60d  \n",
              "0      54.0          52.0    1            10060.720000             1.0  \n",
              "1      32.0          30.0    1             1018.875000             1.0  \n",
              "2      52.0          49.0    1             6565.473333             1.0  \n",
              "3      35.0          32.0    1            13428.150000             1.0  \n",
              "4      67.0          64.0    1             3452.952500             1.0  "
            ],
            "text/html": [
              "\n",
              "  <div id=\"df-6652af99-f009-4879-8c63-0ff45f076de5\">\n",
              "    <div class=\"colab-df-container\">\n",
              "      <div>\n",
              "<style scoped>\n",
              "    .dataframe tbody tr th:only-of-type {\n",
              "        vertical-align: middle;\n",
              "    }\n",
              "\n",
              "    .dataframe tbody tr th {\n",
              "        vertical-align: top;\n",
              "    }\n",
              "\n",
              "    .dataframe thead th {\n",
              "        text-align: right;\n",
              "    }\n",
              "</style>\n",
              "<table border=\"1\" class=\"dataframe\">\n",
              "  <thead>\n",
              "    <tr style=\"text-align: right;\">\n",
              "      <th></th>\n",
              "      <th>trans_date_trans_time</th>\n",
              "      <th>cc_num</th>\n",
              "      <th>merchant</th>\n",
              "      <th>category</th>\n",
              "      <th>amt</th>\n",
              "      <th>first</th>\n",
              "      <th>last</th>\n",
              "      <th>gender</th>\n",
              "      <th>street</th>\n",
              "      <th>city</th>\n",
              "      <th>state</th>\n",
              "      <th>zip</th>\n",
              "      <th>lat</th>\n",
              "      <th>long</th>\n",
              "      <th>city_pop</th>\n",
              "      <th>job</th>\n",
              "      <th>dob</th>\n",
              "      <th>trans_num</th>\n",
              "      <th>unix_time</th>\n",
              "      <th>merch_lat</th>\n",
              "      <th>merch_long</th>\n",
              "      <th>is_fraud</th>\n",
              "      <th>trans_hour</th>\n",
              "      <th>trans_day_of_week</th>\n",
              "      <th>trans_year_month</th>\n",
              "      <th>trans_date</th>\n",
              "      <th>cust_age</th>\n",
              "      <th>age_at_trans</th>\n",
              "      <th>agg</th>\n",
              "      <th>hist_trans_avg_amt_60d</th>\n",
              "      <th>hist_trans_60d</th>\n",
              "    </tr>\n",
              "  </thead>\n",
              "  <tbody>\n",
              "    <tr>\n",
              "      <th>0</th>\n",
              "      <td>2020-06-21 12:14:25</td>\n",
              "      <td>2291163933867244</td>\n",
              "      <td>fraud_Kirlin and Sons</td>\n",
              "      <td>personal_care</td>\n",
              "      <td>2.86</td>\n",
              "      <td>Jeff</td>\n",
              "      <td>Elliott</td>\n",
              "      <td>M</td>\n",
              "      <td>351 Darlene Green</td>\n",
              "      <td>Columbia</td>\n",
              "      <td>SC</td>\n",
              "      <td>29209</td>\n",
              "      <td>33.9659</td>\n",
              "      <td>-80.9355</td>\n",
              "      <td>333497</td>\n",
              "      <td>Mechanical engineer</td>\n",
              "      <td>1968-03-19</td>\n",
              "      <td>2da90c7d74bd46a0caf3777415b3ebd3</td>\n",
              "      <td>1371816865</td>\n",
              "      <td>33.986391</td>\n",
              "      <td>-81.200714</td>\n",
              "      <td>0</td>\n",
              "      <td>12</td>\n",
              "      <td>Sunday</td>\n",
              "      <td>2020-06</td>\n",
              "      <td>2020-06-21</td>\n",
              "      <td>54.0</td>\n",
              "      <td>52.0</td>\n",
              "      <td>1</td>\n",
              "      <td>10060.720000</td>\n",
              "      <td>1.0</td>\n",
              "    </tr>\n",
              "    <tr>\n",
              "      <th>1</th>\n",
              "      <td>2020-06-21 12:14:33</td>\n",
              "      <td>3573030041201292</td>\n",
              "      <td>fraud_Sporer-Keebler</td>\n",
              "      <td>personal_care</td>\n",
              "      <td>29.84</td>\n",
              "      <td>Joanne</td>\n",
              "      <td>Williams</td>\n",
              "      <td>F</td>\n",
              "      <td>3638 Marsh Union</td>\n",
              "      <td>Altonah</td>\n",
              "      <td>UT</td>\n",
              "      <td>84002</td>\n",
              "      <td>40.3207</td>\n",
              "      <td>-110.4360</td>\n",
              "      <td>302</td>\n",
              "      <td>Sales professional, IT</td>\n",
              "      <td>1990-01-17</td>\n",
              "      <td>324cc204407e99f51b0d6ca0055005e7</td>\n",
              "      <td>1371816873</td>\n",
              "      <td>39.450498</td>\n",
              "      <td>-109.960431</td>\n",
              "      <td>0</td>\n",
              "      <td>12</td>\n",
              "      <td>Sunday</td>\n",
              "      <td>2020-06</td>\n",
              "      <td>2020-06-21</td>\n",
              "      <td>32.0</td>\n",
              "      <td>30.0</td>\n",
              "      <td>1</td>\n",
              "      <td>1018.875000</td>\n",
              "      <td>1.0</td>\n",
              "    </tr>\n",
              "    <tr>\n",
              "      <th>2</th>\n",
              "      <td>2020-06-21 12:14:53</td>\n",
              "      <td>3598215285024754</td>\n",
              "      <td>fraud_Swaniawski, Nitzsche and Welch</td>\n",
              "      <td>health_fitness</td>\n",
              "      <td>41.28</td>\n",
              "      <td>Ashley</td>\n",
              "      <td>Lopez</td>\n",
              "      <td>F</td>\n",
              "      <td>9333 Valentine Point</td>\n",
              "      <td>Bellmore</td>\n",
              "      <td>NY</td>\n",
              "      <td>11710</td>\n",
              "      <td>40.6729</td>\n",
              "      <td>-73.5365</td>\n",
              "      <td>34496</td>\n",
              "      <td>Librarian, public</td>\n",
              "      <td>1970-10-21</td>\n",
              "      <td>c81755dbbbea9d5c77f094348a7579be</td>\n",
              "      <td>1371816893</td>\n",
              "      <td>40.495810</td>\n",
              "      <td>-74.196111</td>\n",
              "      <td>0</td>\n",
              "      <td>12</td>\n",
              "      <td>Sunday</td>\n",
              "      <td>2020-06</td>\n",
              "      <td>2020-06-21</td>\n",
              "      <td>52.0</td>\n",
              "      <td>49.0</td>\n",
              "      <td>1</td>\n",
              "      <td>6565.473333</td>\n",
              "      <td>1.0</td>\n",
              "    </tr>\n",
              "    <tr>\n",
              "      <th>3</th>\n",
              "      <td>2020-06-21 12:15:15</td>\n",
              "      <td>3591919803438423</td>\n",
              "      <td>fraud_Haley Group</td>\n",
              "      <td>misc_pos</td>\n",
              "      <td>60.05</td>\n",
              "      <td>Brian</td>\n",
              "      <td>Williams</td>\n",
              "      <td>M</td>\n",
              "      <td>32941 Krystal Mill Apt. 552</td>\n",
              "      <td>Titusville</td>\n",
              "      <td>FL</td>\n",
              "      <td>32780</td>\n",
              "      <td>28.5697</td>\n",
              "      <td>-80.8191</td>\n",
              "      <td>54767</td>\n",
              "      <td>Set designer</td>\n",
              "      <td>1987-07-25</td>\n",
              "      <td>2159175b9efe66dc301f149d3d5abf8c</td>\n",
              "      <td>1371816915</td>\n",
              "      <td>28.812398</td>\n",
              "      <td>-80.883061</td>\n",
              "      <td>0</td>\n",
              "      <td>12</td>\n",
              "      <td>Sunday</td>\n",
              "      <td>2020-06</td>\n",
              "      <td>2020-06-21</td>\n",
              "      <td>35.0</td>\n",
              "      <td>32.0</td>\n",
              "      <td>1</td>\n",
              "      <td>13428.150000</td>\n",
              "      <td>1.0</td>\n",
              "    </tr>\n",
              "    <tr>\n",
              "      <th>4</th>\n",
              "      <td>2020-06-21 12:15:17</td>\n",
              "      <td>3526826139003047</td>\n",
              "      <td>fraud_Johnston-Casper</td>\n",
              "      <td>travel</td>\n",
              "      <td>3.19</td>\n",
              "      <td>Nathan</td>\n",
              "      <td>Massey</td>\n",
              "      <td>M</td>\n",
              "      <td>5783 Evan Roads Apt. 465</td>\n",
              "      <td>Falmouth</td>\n",
              "      <td>MI</td>\n",
              "      <td>49632</td>\n",
              "      <td>44.2529</td>\n",
              "      <td>-85.0170</td>\n",
              "      <td>1126</td>\n",
              "      <td>Furniture designer</td>\n",
              "      <td>1955-07-06</td>\n",
              "      <td>57ff021bd3f328f8738bb535c302a31b</td>\n",
              "      <td>1371816917</td>\n",
              "      <td>44.959148</td>\n",
              "      <td>-85.884734</td>\n",
              "      <td>0</td>\n",
              "      <td>12</td>\n",
              "      <td>Sunday</td>\n",
              "      <td>2020-06</td>\n",
              "      <td>2020-06-21</td>\n",
              "      <td>67.0</td>\n",
              "      <td>64.0</td>\n",
              "      <td>1</td>\n",
              "      <td>3452.952500</td>\n",
              "      <td>1.0</td>\n",
              "    </tr>\n",
              "  </tbody>\n",
              "</table>\n",
              "</div>\n",
              "      <button class=\"colab-df-convert\" onclick=\"convertToInteractive('df-6652af99-f009-4879-8c63-0ff45f076de5')\"\n",
              "              title=\"Convert this dataframe to an interactive table.\"\n",
              "              style=\"display:none;\">\n",
              "        \n",
              "  <svg xmlns=\"http://www.w3.org/2000/svg\" height=\"24px\"viewBox=\"0 0 24 24\"\n",
              "       width=\"24px\">\n",
              "    <path d=\"M0 0h24v24H0V0z\" fill=\"none\"/>\n",
              "    <path d=\"M18.56 5.44l.94 2.06.94-2.06 2.06-.94-2.06-.94-.94-2.06-.94 2.06-2.06.94zm-11 1L8.5 8.5l.94-2.06 2.06-.94-2.06-.94L8.5 2.5l-.94 2.06-2.06.94zm10 10l.94 2.06.94-2.06 2.06-.94-2.06-.94-.94-2.06-.94 2.06-2.06.94z\"/><path d=\"M17.41 7.96l-1.37-1.37c-.4-.4-.92-.59-1.43-.59-.52 0-1.04.2-1.43.59L10.3 9.45l-7.72 7.72c-.78.78-.78 2.05 0 2.83L4 21.41c.39.39.9.59 1.41.59.51 0 1.02-.2 1.41-.59l7.78-7.78 2.81-2.81c.8-.78.8-2.07 0-2.86zM5.41 20L4 18.59l7.72-7.72 1.47 1.35L5.41 20z\"/>\n",
              "  </svg>\n",
              "      </button>\n",
              "      \n",
              "  <style>\n",
              "    .colab-df-container {\n",
              "      display:flex;\n",
              "      flex-wrap:wrap;\n",
              "      gap: 12px;\n",
              "    }\n",
              "\n",
              "    .colab-df-convert {\n",
              "      background-color: #E8F0FE;\n",
              "      border: none;\n",
              "      border-radius: 50%;\n",
              "      cursor: pointer;\n",
              "      display: none;\n",
              "      fill: #1967D2;\n",
              "      height: 32px;\n",
              "      padding: 0 0 0 0;\n",
              "      width: 32px;\n",
              "    }\n",
              "\n",
              "    .colab-df-convert:hover {\n",
              "      background-color: #E2EBFA;\n",
              "      box-shadow: 0px 1px 2px rgba(60, 64, 67, 0.3), 0px 1px 3px 1px rgba(60, 64, 67, 0.15);\n",
              "      fill: #174EA6;\n",
              "    }\n",
              "\n",
              "    [theme=dark] .colab-df-convert {\n",
              "      background-color: #3B4455;\n",
              "      fill: #D2E3FC;\n",
              "    }\n",
              "\n",
              "    [theme=dark] .colab-df-convert:hover {\n",
              "      background-color: #434B5C;\n",
              "      box-shadow: 0px 1px 3px 1px rgba(0, 0, 0, 0.15);\n",
              "      filter: drop-shadow(0px 1px 2px rgba(0, 0, 0, 0.3));\n",
              "      fill: #FFFFFF;\n",
              "    }\n",
              "  </style>\n",
              "\n",
              "      <script>\n",
              "        const buttonEl =\n",
              "          document.querySelector('#df-6652af99-f009-4879-8c63-0ff45f076de5 button.colab-df-convert');\n",
              "        buttonEl.style.display =\n",
              "          google.colab.kernel.accessAllowed ? 'block' : 'none';\n",
              "\n",
              "        async function convertToInteractive(key) {\n",
              "          const element = document.querySelector('#df-6652af99-f009-4879-8c63-0ff45f076de5');\n",
              "          const dataTable =\n",
              "            await google.colab.kernel.invokeFunction('convertToInteractive',\n",
              "                                                     [key], {});\n",
              "          if (!dataTable) return;\n",
              "\n",
              "          const docLinkHtml = 'Like what you see? Visit the ' +\n",
              "            '<a target=\"_blank\" href=https://colab.research.google.com/notebooks/data_table.ipynb>data table notebook</a>'\n",
              "            + ' to learn more about interactive tables.';\n",
              "          element.innerHTML = '';\n",
              "          dataTable['output_type'] = 'display_data';\n",
              "          await google.colab.output.renderOutput(dataTable, element);\n",
              "          const docLink = document.createElement('div');\n",
              "          docLink.innerHTML = docLinkHtml;\n",
              "          element.appendChild(docLink);\n",
              "        }\n",
              "      </script>\n",
              "    </div>\n",
              "  </div>\n",
              "  "
            ]
          },
          "metadata": {},
          "execution_count": 27
        }
      ]
    },
    {
      "cell_type": "code",
      "source": [
        "# Binning the 'customer_age' column \n",
        "df_train['customer_age_group'] = pd.cut(df_train['age_at_trans'], bins=[10,20,30,40,50,60,1000], labels=['10-20', '20-30', '30-40', '40-50', '50-60', '60 - Above'])\n",
        "df_test['customer_age_group'] = pd.cut(df_train['age_at_trans'], bins=[10,20,30,40,50,60,1000], labels=['10-20', '20-30', '30-40', '40-50', '50-60', '60 - Above'])"
      ],
      "metadata": {
        "id": "woNbIwVQgtFw"
      },
      "execution_count": 28,
      "outputs": []
    },
    {
      "cell_type": "code",
      "source": [
        "# Binary mapping on Gender feature\n",
        "df_train['gender'] = df_train['gender'].map({'M': 1, 'F': 0})\n",
        "df_test['gender'] = df_test['gender'].map({'M': 1, 'F': 0})"
      ],
      "metadata": {
        "id": "znWqqRKbgurp"
      },
      "execution_count": 29,
      "outputs": []
    },
    {
      "cell_type": "markdown",
      "source": [
        "**Exploratory Data Analysis**"
      ],
      "metadata": {
        "id": "hni0jA9eOIUH"
      }
    },
    {
      "cell_type": "markdown",
      "source": [
        ""
      ],
      "metadata": {
        "id": "zHETIxW3OVkm"
      }
    },
    {
      "cell_type": "code",
      "source": [
        "df_train.info()"
      ],
      "metadata": {
        "id": "4HvvxWWCOTJA",
        "colab": {
          "base_uri": "https://localhost:8080/"
        },
        "outputId": "b0c4ed52-5806-4b27-a321-8bf2482771e0"
      },
      "execution_count": 30,
      "outputs": [
        {
          "output_type": "stream",
          "name": "stdout",
          "text": [
            "<class 'pandas.core.frame.DataFrame'>\n",
            "Int64Index: 1296675 entries, 0 to 1296674\n",
            "Data columns (total 32 columns):\n",
            " #   Column                  Non-Null Count    Dtype         \n",
            "---  ------                  --------------    -----         \n",
            " 0   trans_date_trans_time   1296675 non-null  datetime64[ns]\n",
            " 1   cc_num                  1296675 non-null  int64         \n",
            " 2   merchant                1296675 non-null  object        \n",
            " 3   category                1296675 non-null  object        \n",
            " 4   amt                     1296675 non-null  float64       \n",
            " 5   first                   1296675 non-null  object        \n",
            " 6   last                    1296675 non-null  object        \n",
            " 7   gender                  1296675 non-null  int64         \n",
            " 8   street                  1296675 non-null  object        \n",
            " 9   city                    1296675 non-null  object        \n",
            " 10  state                   1296675 non-null  object        \n",
            " 11  zip                     1296675 non-null  int64         \n",
            " 12  lat                     1296675 non-null  float64       \n",
            " 13  long                    1296675 non-null  float64       \n",
            " 14  city_pop                1296675 non-null  int64         \n",
            " 15  job                     1296675 non-null  object        \n",
            " 16  dob                     1296675 non-null  datetime64[ns]\n",
            " 17  trans_num               1296675 non-null  object        \n",
            " 18  unix_time               1296675 non-null  int64         \n",
            " 19  merch_lat               1296675 non-null  float64       \n",
            " 20  merch_long              1296675 non-null  float64       \n",
            " 21  is_fraud                1296675 non-null  int64         \n",
            " 22  trans_hour              1296675 non-null  int64         \n",
            " 23  trans_day_of_week       1296675 non-null  object        \n",
            " 24  trans_year_month        1296675 non-null  period[M]     \n",
            " 25  trans_date              1296675 non-null  object        \n",
            " 26  cust_age                1296675 non-null  float64       \n",
            " 27  age_at_trans            1296675 non-null  float64       \n",
            " 28  agg                     1296675 non-null  int64         \n",
            " 29  hist_trans_avg_amt_60d  1296675 non-null  float64       \n",
            " 30  hist_trans_60d          1296675 non-null  float64       \n",
            " 31  customer_age_group      1296675 non-null  category      \n",
            "dtypes: category(1), datetime64[ns](2), float64(9), int64(8), object(11), period[M](1)\n",
            "memory usage: 350.1+ MB\n"
          ]
        }
      ]
    },
    {
      "cell_type": "markdown",
      "source": [
        "**Univariate Analysis on Categorical Variables**"
      ],
      "metadata": {
        "id": "wkSqBEzzJff3"
      }
    },
    {
      "cell_type": "code",
      "source": [
        "# visualising the categorical variables\n",
        "fig= plt.figure(figsize=(15, 10))\n",
        "plt.subplot(3,3,1)\n",
        "sns.countplot(df_train['category'])\n",
        "plt.xticks(rotation = 90)\n",
        "\n",
        "plt.subplot(3,3,2)\n",
        "sns.countplot(df_train[\"gender\"])\n",
        "plt.xticks(rotation = 90)\n",
        "\n",
        "plt.subplot(3,3,3)\n",
        "sns.countplot(df_train[\"customer_age_group\"])\n",
        "plt.xticks(rotation = 90)\n",
        "fig.tight_layout()\n",
        "\n",
        "plt.show()"
      ],
      "metadata": {
        "id": "JRYShVhSQMy3",
        "colab": {
          "base_uri": "https://localhost:8080/",
          "height": 287
        },
        "outputId": "e1c11f31-cf91-4965-f964-456cb98cafd6"
      },
      "execution_count": 31,
      "outputs": [
        {
          "output_type": "display_data",
          "data": {
            "text/plain": [
              "<Figure size 1080x720 with 3 Axes>"
            ],
            "image/png": "[encoded data removed]"
          },
          "metadata": {
            "needs_background": "light"
          }
        }
      ]
    },
    {
      "cell_type": "markdown",
      "source": [
        "\n",
        "**Observation:**\n",
        "1. Maximum number of transactions occurs for gas transport, home and grocery_pos categories and minimum transactions are for travel.\n",
        "2. There are more female customers compared to male customers.\n",
        "3. Maximum number of transactions occurs for both 30-40 and 40-50  age categories.\n",
        "\n"
      ],
      "metadata": {
        "id": "ck4AxYQPHqsH"
      }
    },
    {
      "cell_type": "code",
      "source": [
        "# visualising the categorical variables\n",
        "fig= plt.figure(figsize=(15, 10))\n",
        "plt.subplot(3,3,1)\n",
        "sns.countplot(df_train['trans_hour'])\n",
        "plt.xticks(rotation = 90)\n",
        "\n",
        "plt.subplot(3,3,2)\n",
        "sns.countplot(df_train['trans_day_of_week'])\n",
        "plt.xticks(rotation = 90)\n",
        "\n",
        "plt.subplot(3,3,3)\n",
        "sns.countplot(df_train['trans_year_month'])\n",
        "plt.xticks(rotation = 90)\n",
        "fig.tight_layout()\n",
        "\n",
        "plt.show()"
      ],
      "metadata": {
        "id": "vrmqnXPGQ-DO",
        "colab": {
          "base_uri": "https://localhost:8080/",
          "height": 286
        },
        "outputId": "bf05fb4b-f1c6-4cf8-90d5-03933d614957"
      },
      "execution_count": 32,
      "outputs": [
        {
          "output_type": "display_data",
          "data": {
            "text/plain": [
              "<Figure size 1080x720 with 3 Axes>"
            ],
            "image/png": "[encoded data removed]"
          },
          "metadata": {
            "needs_background": "light"
          }
        }
      ]
    },
    {
      "cell_type": "markdown",
      "source": [
        "**Observation:**\n",
        "\n",
        "1.   Maximum Fradulent transactions took place between 12pm and 11pm.\n",
        "2.   Maximum number of transactions takes place on both Sunday and Monday.\n",
        "3.   Maximum number of transcations occurs on December 2019 and minimum during February 2020.\n",
        "\n"
      ],
      "metadata": {
        "id": "xe2pcL9MF1rM"
      }
    },
    {
      "cell_type": "markdown",
      "source": [
        "**Univariate Analysis on Numerical variables**"
      ],
      "metadata": {
        "id": "pWdw3BDnJpIf"
      }
    },
    {
      "cell_type": "code",
      "source": [
        "# visualising the numerical variables\n",
        "fig= plt.figure(figsize=(20, 20))\n",
        "plt.subplot(3,3,1)\n",
        "sns.distplot(df_train['amt'])\n",
        "plt.xticks(rotation = 90)\n",
        "\n",
        "plt.subplot(3,3,2)\n",
        "sns.distplot(df_train['zip'])\n",
        "plt.xticks(rotation = 90)\n",
        "\n",
        "plt.subplot(3,3,3)\n",
        "sns.distplot(df_train['city_pop'])\n",
        "plt.xticks(rotation = 90)\n",
        "\n",
        "plt.subplot(3,3,4)\n",
        "sns.distplot(df_train['unix_time'])\n",
        "plt.xticks(rotation = 90)\n",
        "plt.show()"
      ],
      "metadata": {
        "id": "w52XXGuzRnAm",
        "colab": {
          "base_uri": "https://localhost:8080/",
          "height": 772
        },
        "outputId": "25450be4-e9a2-49d6-97c8-8d8bc2ea1fa5"
      },
      "execution_count": 33,
      "outputs": [
        {
          "output_type": "display_data",
          "data": {
            "text/plain": [
              "<Figure size 1440x1440 with 4 Axes>"
            ],
            "image/png": "[encoded data removed]"
          },
          "metadata": {
            "needs_background": "light"
          }
        }
      ]
    },
    {
      "cell_type": "markdown",
      "source": [
        "**Observations:**\n",
        "\n",
        "1. The maximum number of transactions are at between unix time between 1.35-1.36.\n",
        "2. The city with the zip code of 18000 has the maximimum number of both fraud and non-fraudulent transactions.\n",
        "3. The people at city with the population of 0.1 are doing the maximum transaction.\n",
        "\n"
      ],
      "metadata": {
        "id": "3b4EGvv1KoU8"
      }
    },
    {
      "cell_type": "code",
      "source": [
        "# visualising the numerical variables\n",
        "fig= plt.figure(figsize=(20, 20))\n",
        "plt.subplot(3,3,1)\n",
        "sns.distplot(df_train['lat'])\n",
        "plt.xticks(rotation = 90)\n",
        "\n",
        "plt.subplot(3,3,2)\n",
        "sns.distplot(df_train['long'])\n",
        "plt.xticks(rotation = 90)\n",
        "plt.show()"
      ],
      "metadata": {
        "id": "b6Q9V0RxUCUR",
        "colab": {
          "base_uri": "https://localhost:8080/",
          "height": 399
        },
        "outputId": "0557c3cf-c42e-49f7-af7e-ec5025436902"
      },
      "execution_count": 34,
      "outputs": [
        {
          "output_type": "display_data",
          "data": {
            "text/plain": [
              "<Figure size 1440x1440 with 2 Axes>"
            ],
            "image/png": "[encoded data removed]"
          },
          "metadata": {
            "needs_background": "light"
          }
        }
      ]
    },
    {
      "cell_type": "markdown",
      "source": [
        "**Observations:**\n",
        "\n",
        "1. The highest number of transaction is at the latitude between 40 and 50.\n",
        "2. The highest number of transaction is at the longitude between -100 and -80.\n",
        "\n"
      ],
      "metadata": {
        "id": "2rmq1xkLM0O5"
      }
    },
    {
      "cell_type": "markdown",
      "source": [
        "**Bivariate Analysis for Numerical Variable**"
      ],
      "metadata": {
        "id": "-erdcii4eLMD"
      }
    },
    {
      "cell_type": "code",
      "source": [
        "#distribution of transaction amount by different fraudulent and non-fraudulent categories\n",
        "fig, ax = plt.subplots(1,3,figsize=(20,5))\n",
        "plt.subplot(1,3,1)\n",
        "sns.distplot(df_train[df_train['amt'] <= 1500]['amt'], bins = 50)\n",
        "plt.title('Overall Amt Distribution')\n",
        "plt.xlabel('Transaction Amount')\n",
        "plt.ylabel('Number of Transactions')\n",
        "\n",
        "plt.subplot(1,3,2)\n",
        "sns.distplot(df_train[(df_train.is_fraud == 0) & (df_train['amt'] <= 1500)]['amt'], bins = 50)\n",
        "plt.title('Non Fraud Amt Distribution')\n",
        "plt.xlabel('Transaction Amount')\n",
        "plt.ylabel('Number of Transactions')\n",
        "\n",
        "plt.subplot(1,3,3)\n",
        "sns.distplot(df_train[(df_train.is_fraud == 1) & (df_train['amt'] <= 1500)]['amt'], bins=50)\n",
        "plt.title('Fraud Amt Distribution')\n",
        "plt.xlabel('Transaction Amount')\n",
        "plt.ylabel('Number of Transactions')\n",
        "plt.show()\n"
      ],
      "metadata": {
        "id": "FwHB5UKDWBBQ",
        "colab": {
          "base_uri": "https://localhost:8080/",
          "height": 342
        },
        "outputId": "11f11498-e6a1-416a-e151-792313ac3824"
      },
      "execution_count": 35,
      "outputs": [
        {
          "output_type": "display_data",
          "data": {
            "text/plain": [
              "<Figure size 1440x360 with 3 Axes>"
            ],
            "image/png": "[encoded data removed]"
          },
          "metadata": {
            "needs_background": "light"
          }
        }
      ]
    },
    {
      "cell_type": "code",
      "source": [
        "#distribution of  transaction amount genders\n",
        "df_gender = df_train[['gender','trans_num']].groupby(['gender']).count().reset_index()\n",
        "df_gender.columns = ['Gender','gender_count']\n",
        "df_gender.head()\n",
        "\n",
        "#distribution of gender among different fraudulent and non-fraudulent categories\n",
        "df_fraud = df_train[['gender','is_fraud','trans_num']].groupby(['gender','is_fraud']).count().reset_index()\n",
        "df_fraud.columns = ['Gender','is_fraud','count']\n",
        "df_fraud = df_fraud.merge(df_gender[['Gender','gender_count']],how = 'inner',left_on = 'Gender',right_on = 'Gender')\n",
        "df_fraud['percent'] = (df_fraud['count']/df_fraud['gender_count'])*100\n",
        "df_fraud.head()"
      ],
      "metadata": {
        "id": "kJljstyDWIbA",
        "colab": {
          "base_uri": "https://localhost:8080/",
          "height": 175
        },
        "outputId": "eec8c9d7-e7c7-4629-8435-e11d2a6b4c5f"
      },
      "execution_count": 36,
      "outputs": [
        {
          "output_type": "execute_result",
          "data": {
            "text/plain": [
              "   Gender  is_fraud   count  gender_count    percent\n",
              "0       0         0  706128        709863  99.473842\n",
              "1       0         1    3735        709863   0.526158\n",
              "2       1         0  583041        586812  99.357375\n",
              "3       1         1    3771        586812   0.642625"
            ],
            "text/html": [
              "\n",
              "  <div id=\"df-89fd9ab1-12eb-47f2-875f-2ae62416a60a\">\n",
              "    <div class=\"colab-df-container\">\n",
              "      <div>\n",
              "<style scoped>\n",
              "    .dataframe tbody tr th:only-of-type {\n",
              "        vertical-align: middle;\n",
              "    }\n",
              "\n",
              "    .dataframe tbody tr th {\n",
              "        vertical-align: top;\n",
              "    }\n",
              "\n",
              "    .dataframe thead th {\n",
              "        text-align: right;\n",
              "    }\n",
              "</style>\n",
              "<table border=\"1\" class=\"dataframe\">\n",
              "  <thead>\n",
              "    <tr style=\"text-align: right;\">\n",
              "      <th></th>\n",
              "      <th>Gender</th>\n",
              "      <th>is_fraud</th>\n",
              "      <th>count</th>\n",
              "      <th>gender_count</th>\n",
              "      <th>percent</th>\n",
              "    </tr>\n",
              "  </thead>\n",
              "  <tbody>\n",
              "    <tr>\n",
              "      <th>0</th>\n",
              "      <td>0</td>\n",
              "      <td>0</td>\n",
              "      <td>706128</td>\n",
              "      <td>709863</td>\n",
              "      <td>99.473842</td>\n",
              "    </tr>\n",
              "    <tr>\n",
              "      <th>1</th>\n",
              "      <td>0</td>\n",
              "      <td>1</td>\n",
              "      <td>3735</td>\n",
              "      <td>709863</td>\n",
              "      <td>0.526158</td>\n",
              "    </tr>\n",
              "    <tr>\n",
              "      <th>2</th>\n",
              "      <td>1</td>\n",
              "      <td>0</td>\n",
              "      <td>583041</td>\n",
              "      <td>586812</td>\n",
              "      <td>99.357375</td>\n",
              "    </tr>\n",
              "    <tr>\n",
              "      <th>3</th>\n",
              "      <td>1</td>\n",
              "      <td>1</td>\n",
              "      <td>3771</td>\n",
              "      <td>586812</td>\n",
              "      <td>0.642625</td>\n",
              "    </tr>\n",
              "  </tbody>\n",
              "</table>\n",
              "</div>\n",
              "      <button class=\"colab-df-convert\" onclick=\"convertToInteractive('df-89fd9ab1-12eb-47f2-875f-2ae62416a60a')\"\n",
              "              title=\"Convert this dataframe to an interactive table.\"\n",
              "              style=\"display:none;\">\n",
              "        \n",
              "  <svg xmlns=\"http://www.w3.org/2000/svg\" height=\"24px\"viewBox=\"0 0 24 24\"\n",
              "       width=\"24px\">\n",
              "    <path d=\"M0 0h24v24H0V0z\" fill=\"none\"/>\n",
              "    <path d=\"M18.56 5.44l.94 2.06.94-2.06 2.06-.94-2.06-.94-.94-2.06-.94 2.06-2.06.94zm-11 1L8.5 8.5l.94-2.06 2.06-.94-2.06-.94L8.5 2.5l-.94 2.06-2.06.94zm10 10l.94 2.06.94-2.06 2.06-.94-2.06-.94-.94-2.06-.94 2.06-2.06.94z\"/><path d=\"M17.41 7.96l-1.37-1.37c-.4-.4-.92-.59-1.43-.59-.52 0-1.04.2-1.43.59L10.3 9.45l-7.72 7.72c-.78.78-.78 2.05 0 2.83L4 21.41c.39.39.9.59 1.41.59.51 0 1.02-.2 1.41-.59l7.78-7.78 2.81-2.81c.8-.78.8-2.07 0-2.86zM5.41 20L4 18.59l7.72-7.72 1.47 1.35L5.41 20z\"/>\n",
              "  </svg>\n",
              "      </button>\n",
              "      \n",
              "  <style>\n",
              "    .colab-df-container {\n",
              "      display:flex;\n",
              "      flex-wrap:wrap;\n",
              "      gap: 12px;\n",
              "    }\n",
              "\n",
              "    .colab-df-convert {\n",
              "      background-color: #E8F0FE;\n",
              "      border: none;\n",
              "      border-radius: 50%;\n",
              "      cursor: pointer;\n",
              "      display: none;\n",
              "      fill: #1967D2;\n",
              "      height: 32px;\n",
              "      padding: 0 0 0 0;\n",
              "      width: 32px;\n",
              "    }\n",
              "\n",
              "    .colab-df-convert:hover {\n",
              "      background-color: #E2EBFA;\n",
              "      box-shadow: 0px 1px 2px rgba(60, 64, 67, 0.3), 0px 1px 3px 1px rgba(60, 64, 67, 0.15);\n",
              "      fill: #174EA6;\n",
              "    }\n",
              "\n",
              "    [theme=dark] .colab-df-convert {\n",
              "      background-color: #3B4455;\n",
              "      fill: #D2E3FC;\n",
              "    }\n",
              "\n",
              "    [theme=dark] .colab-df-convert:hover {\n",
              "      background-color: #434B5C;\n",
              "      box-shadow: 0px 1px 3px 1px rgba(0, 0, 0, 0.15);\n",
              "      filter: drop-shadow(0px 1px 2px rgba(0, 0, 0, 0.3));\n",
              "      fill: #FFFFFF;\n",
              "    }\n",
              "  </style>\n",
              "\n",
              "      <script>\n",
              "        const buttonEl =\n",
              "          document.querySelector('#df-89fd9ab1-12eb-47f2-875f-2ae62416a60a button.colab-df-convert');\n",
              "        buttonEl.style.display =\n",
              "          google.colab.kernel.accessAllowed ? 'block' : 'none';\n",
              "\n",
              "        async function convertToInteractive(key) {\n",
              "          const element = document.querySelector('#df-89fd9ab1-12eb-47f2-875f-2ae62416a60a');\n",
              "          const dataTable =\n",
              "            await google.colab.kernel.invokeFunction('convertToInteractive',\n",
              "                                                     [key], {});\n",
              "          if (!dataTable) return;\n",
              "\n",
              "          const docLinkHtml = 'Like what you see? Visit the ' +\n",
              "            '<a target=\"_blank\" href=https://colab.research.google.com/notebooks/data_table.ipynb>data table notebook</a>'\n",
              "            + ' to learn more about interactive tables.';\n",
              "          element.innerHTML = '';\n",
              "          dataTable['output_type'] = 'display_data';\n",
              "          await google.colab.output.renderOutput(dataTable, element);\n",
              "          const docLink = document.createElement('div');\n",
              "          docLink.innerHTML = docLinkHtml;\n",
              "          element.appendChild(docLink);\n",
              "        }\n",
              "      </script>\n",
              "    </div>\n",
              "  </div>\n",
              "  "
            ]
          },
          "metadata": {},
          "execution_count": 36
        }
      ]
    },
    {
      "cell_type": "markdown",
      "source": [
        "Male customers are more prone to fraudelent activities than the female customers."
      ],
      "metadata": {
        "id": "GRBUsTs6ToTD"
      }
    },
    {
      "cell_type": "code",
      "source": [
        "#adding the category column for better analysis\n",
        "df_gender = df_train[['category','trans_num']].groupby(['category']).count().reset_index()\n",
        "df_gender.columns = ['category','category_count']\n",
        "df_gender.head()\n",
        "\n",
        "#distribution of categories among different fraudulent and non-fraudulent categories\n",
        "df_fraud = df_train[['category','is_fraud','trans_num']].groupby(['category','is_fraud']).count().reset_index()\n",
        "df_fraud.columns = ['category','is_fraud','count']\n",
        "df_fraud = df_fraud.merge(df_gender[['category','category_count']],how = 'inner',left_on = 'category',right_on = 'category')\n",
        "df_fraud['percent'] = (df_fraud['count']/df_fraud['category_count'])*100\n",
        "df_fraud"
      ],
      "metadata": {
        "id": "Qe5a9FvOWOfj",
        "colab": {
          "base_uri": "https://localhost:8080/",
          "height": 927
        },
        "outputId": "3a7b83c7-ef35-49c2-bbaa-275e4c169f66"
      },
      "execution_count": 37,
      "outputs": [
        {
          "output_type": "execute_result",
          "data": {
            "text/plain": [
              "          category  is_fraud   count  category_count    percent\n",
              "0    entertainment         0   93781           94014  99.752165\n",
              "1    entertainment         1     233           94014   0.247835\n",
              "2      food_dining         0   91310           91461  99.834902\n",
              "3      food_dining         1     151           91461   0.165098\n",
              "4    gas_transport         0  131041          131659  99.530606\n",
              "5    gas_transport         1     618          131659   0.469394\n",
              "6      grocery_net         0   45318           45452  99.705183\n",
              "7      grocery_net         1     134           45452   0.294817\n",
              "8      grocery_pos         0  121895          123638  98.590239\n",
              "9      grocery_pos         1    1743          123638   1.409761\n",
              "10  health_fitness         0   85746           85879  99.845131\n",
              "11  health_fitness         1     133           85879   0.154869\n",
              "12            home         0  122917          123115  99.839175\n",
              "13            home         1     198          123115   0.160825\n",
              "14       kids_pets         0  112796          113035  99.788561\n",
              "15       kids_pets         1     239          113035   0.211439\n",
              "16        misc_net         0   62372           63287  98.554205\n",
              "17        misc_net         1     915           63287   1.445795\n",
              "18        misc_pos         0   79405           79655  99.686147\n",
              "19        misc_pos         1     250           79655   0.313853\n",
              "20   personal_care         0   90538           90758  99.757597\n",
              "21   personal_care         1     220           90758   0.242403\n",
              "22    shopping_net         0   95830           97543  98.243851\n",
              "23    shopping_net         1    1713           97543   1.756149\n",
              "24    shopping_pos         0  115829          116672  99.277462\n",
              "25    shopping_pos         1     843          116672   0.722538\n",
              "26          travel         0   40391           40507  99.713630\n",
              "27          travel         1     116           40507   0.286370"
            ],
            "text/html": [
              "\n",
              "  <div id=\"df-3ca30250-e648-4b95-ab19-07e0c348be77\">\n",
              "    <div class=\"colab-df-container\">\n",
              "      <div>\n",
              "<style scoped>\n",
              "    .dataframe tbody tr th:only-of-type {\n",
              "        vertical-align: middle;\n",
              "    }\n",
              "\n",
              "    .dataframe tbody tr th {\n",
              "        vertical-align: top;\n",
              "    }\n",
              "\n",
              "    .dataframe thead th {\n",
              "        text-align: right;\n",
              "    }\n",
              "</style>\n",
              "<table border=\"1\" class=\"dataframe\">\n",
              "  <thead>\n",
              "    <tr style=\"text-align: right;\">\n",
              "      <th></th>\n",
              "      <th>category</th>\n",
              "      <th>is_fraud</th>\n",
              "      <th>count</th>\n",
              "      <th>category_count</th>\n",
              "      <th>percent</th>\n",
              "    </tr>\n",
              "  </thead>\n",
              "  <tbody>\n",
              "    <tr>\n",
              "      <th>0</th>\n",
              "      <td>entertainment</td>\n",
              "      <td>0</td>\n",
              "      <td>93781</td>\n",
              "      <td>94014</td>\n",
              "      <td>99.752165</td>\n",
              "    </tr>\n",
              "    <tr>\n",
              "      <th>1</th>\n",
              "      <td>entertainment</td>\n",
              "      <td>1</td>\n",
              "      <td>233</td>\n",
              "      <td>94014</td>\n",
              "      <td>0.247835</td>\n",
              "    </tr>\n",
              "    <tr>\n",
              "      <th>2</th>\n",
              "      <td>food_dining</td>\n",
              "      <td>0</td>\n",
              "      <td>91310</td>\n",
              "      <td>91461</td>\n",
              "      <td>99.834902</td>\n",
              "    </tr>\n",
              "    <tr>\n",
              "      <th>3</th>\n",
              "      <td>food_dining</td>\n",
              "      <td>1</td>\n",
              "      <td>151</td>\n",
              "      <td>91461</td>\n",
              "      <td>0.165098</td>\n",
              "    </tr>\n",
              "    <tr>\n",
              "      <th>4</th>\n",
              "      <td>gas_transport</td>\n",
              "      <td>0</td>\n",
              "      <td>131041</td>\n",
              "      <td>131659</td>\n",
              "      <td>99.530606</td>\n",
              "    </tr>\n",
              "    <tr>\n",
              "      <th>5</th>\n",
              "      <td>gas_transport</td>\n",
              "      <td>1</td>\n",
              "      <td>618</td>\n",
              "      <td>131659</td>\n",
              "      <td>0.469394</td>\n",
              "    </tr>\n",
              "    <tr>\n",
              "      <th>6</th>\n",
              "      <td>grocery_net</td>\n",
              "      <td>0</td>\n",
              "      <td>45318</td>\n",
              "      <td>45452</td>\n",
              "      <td>99.705183</td>\n",
              "    </tr>\n",
              "    <tr>\n",
              "      <th>7</th>\n",
              "      <td>grocery_net</td>\n",
              "      <td>1</td>\n",
              "      <td>134</td>\n",
              "      <td>45452</td>\n",
              "      <td>0.294817</td>\n",
              "    </tr>\n",
              "    <tr>\n",
              "      <th>8</th>\n",
              "      <td>grocery_pos</td>\n",
              "      <td>0</td>\n",
              "      <td>121895</td>\n",
              "      <td>123638</td>\n",
              "      <td>98.590239</td>\n",
              "    </tr>\n",
              "    <tr>\n",
              "      <th>9</th>\n",
              "      <td>grocery_pos</td>\n",
              "      <td>1</td>\n",
              "      <td>1743</td>\n",
              "      <td>123638</td>\n",
              "      <td>1.409761</td>\n",
              "    </tr>\n",
              "    <tr>\n",
              "      <th>10</th>\n",
              "      <td>health_fitness</td>\n",
              "      <td>0</td>\n",
              "      <td>85746</td>\n",
              "      <td>85879</td>\n",
              "      <td>99.845131</td>\n",
              "    </tr>\n",
              "    <tr>\n",
              "      <th>11</th>\n",
              "      <td>health_fitness</td>\n",
              "      <td>1</td>\n",
              "      <td>133</td>\n",
              "      <td>85879</td>\n",
              "      <td>0.154869</td>\n",
              "    </tr>\n",
              "    <tr>\n",
              "      <th>12</th>\n",
              "      <td>home</td>\n",
              "      <td>0</td>\n",
              "      <td>122917</td>\n",
              "      <td>123115</td>\n",
              "      <td>99.839175</td>\n",
              "    </tr>\n",
              "    <tr>\n",
              "      <th>13</th>\n",
              "      <td>home</td>\n",
              "      <td>1</td>\n",
              "      <td>198</td>\n",
              "      <td>123115</td>\n",
              "      <td>0.160825</td>\n",
              "    </tr>\n",
              "    <tr>\n",
              "      <th>14</th>\n",
              "      <td>kids_pets</td>\n",
              "      <td>0</td>\n",
              "      <td>112796</td>\n",
              "      <td>113035</td>\n",
              "      <td>99.788561</td>\n",
              "    </tr>\n",
              "    <tr>\n",
              "      <th>15</th>\n",
              "      <td>kids_pets</td>\n",
              "      <td>1</td>\n",
              "      <td>239</td>\n",
              "      <td>113035</td>\n",
              "      <td>0.211439</td>\n",
              "    </tr>\n",
              "    <tr>\n",
              "      <th>16</th>\n",
              "      <td>misc_net</td>\n",
              "      <td>0</td>\n",
              "      <td>62372</td>\n",
              "      <td>63287</td>\n",
              "      <td>98.554205</td>\n",
              "    </tr>\n",
              "    <tr>\n",
              "      <th>17</th>\n",
              "      <td>misc_net</td>\n",
              "      <td>1</td>\n",
              "      <td>915</td>\n",
              "      <td>63287</td>\n",
              "      <td>1.445795</td>\n",
              "    </tr>\n",
              "    <tr>\n",
              "      <th>18</th>\n",
              "      <td>misc_pos</td>\n",
              "      <td>0</td>\n",
              "      <td>79405</td>\n",
              "      <td>79655</td>\n",
              "      <td>99.686147</td>\n",
              "    </tr>\n",
              "    <tr>\n",
              "      <th>19</th>\n",
              "      <td>misc_pos</td>\n",
              "      <td>1</td>\n",
              "      <td>250</td>\n",
              "      <td>79655</td>\n",
              "      <td>0.313853</td>\n",
              "    </tr>\n",
              "    <tr>\n",
              "      <th>20</th>\n",
              "      <td>personal_care</td>\n",
              "      <td>0</td>\n",
              "      <td>90538</td>\n",
              "      <td>90758</td>\n",
              "      <td>99.757597</td>\n",
              "    </tr>\n",
              "    <tr>\n",
              "      <th>21</th>\n",
              "      <td>personal_care</td>\n",
              "      <td>1</td>\n",
              "      <td>220</td>\n",
              "      <td>90758</td>\n",
              "      <td>0.242403</td>\n",
              "    </tr>\n",
              "    <tr>\n",
              "      <th>22</th>\n",
              "      <td>shopping_net</td>\n",
              "      <td>0</td>\n",
              "      <td>95830</td>\n",
              "      <td>97543</td>\n",
              "      <td>98.243851</td>\n",
              "    </tr>\n",
              "    <tr>\n",
              "      <th>23</th>\n",
              "      <td>shopping_net</td>\n",
              "      <td>1</td>\n",
              "      <td>1713</td>\n",
              "      <td>97543</td>\n",
              "      <td>1.756149</td>\n",
              "    </tr>\n",
              "    <tr>\n",
              "      <th>24</th>\n",
              "      <td>shopping_pos</td>\n",
              "      <td>0</td>\n",
              "      <td>115829</td>\n",
              "      <td>116672</td>\n",
              "      <td>99.277462</td>\n",
              "    </tr>\n",
              "    <tr>\n",
              "      <th>25</th>\n",
              "      <td>shopping_pos</td>\n",
              "      <td>1</td>\n",
              "      <td>843</td>\n",
              "      <td>116672</td>\n",
              "      <td>0.722538</td>\n",
              "    </tr>\n",
              "    <tr>\n",
              "      <th>26</th>\n",
              "      <td>travel</td>\n",
              "      <td>0</td>\n",
              "      <td>40391</td>\n",
              "      <td>40507</td>\n",
              "      <td>99.713630</td>\n",
              "    </tr>\n",
              "    <tr>\n",
              "      <th>27</th>\n",
              "      <td>travel</td>\n",
              "      <td>1</td>\n",
              "      <td>116</td>\n",
              "      <td>40507</td>\n",
              "      <td>0.286370</td>\n",
              "    </tr>\n",
              "  </tbody>\n",
              "</table>\n",
              "</div>\n",
              "      <button class=\"colab-df-convert\" onclick=\"convertToInteractive('df-3ca30250-e648-4b95-ab19-07e0c348be77')\"\n",
              "              title=\"Convert this dataframe to an interactive table.\"\n",
              "              style=\"display:none;\">\n",
              "        \n",
              "  <svg xmlns=\"http://www.w3.org/2000/svg\" height=\"24px\"viewBox=\"0 0 24 24\"\n",
              "       width=\"24px\">\n",
              "    <path d=\"M0 0h24v24H0V0z\" fill=\"none\"/>\n",
              "    <path d=\"M18.56 5.44l.94 2.06.94-2.06 2.06-.94-2.06-.94-.94-2.06-.94 2.06-2.06.94zm-11 1L8.5 8.5l.94-2.06 2.06-.94-2.06-.94L8.5 2.5l-.94 2.06-2.06.94zm10 10l.94 2.06.94-2.06 2.06-.94-2.06-.94-.94-2.06-.94 2.06-2.06.94z\"/><path d=\"M17.41 7.96l-1.37-1.37c-.4-.4-.92-.59-1.43-.59-.52 0-1.04.2-1.43.59L10.3 9.45l-7.72 7.72c-.78.78-.78 2.05 0 2.83L4 21.41c.39.39.9.59 1.41.59.51 0 1.02-.2 1.41-.59l7.78-7.78 2.81-2.81c.8-.78.8-2.07 0-2.86zM5.41 20L4 18.59l7.72-7.72 1.47 1.35L5.41 20z\"/>\n",
              "  </svg>\n",
              "      </button>\n",
              "      \n",
              "  <style>\n",
              "    .colab-df-container {\n",
              "      display:flex;\n",
              "      flex-wrap:wrap;\n",
              "      gap: 12px;\n",
              "    }\n",
              "\n",
              "    .colab-df-convert {\n",
              "      background-color: #E8F0FE;\n",
              "      border: none;\n",
              "      border-radius: 50%;\n",
              "      cursor: pointer;\n",
              "      display: none;\n",
              "      fill: #1967D2;\n",
              "      height: 32px;\n",
              "      padding: 0 0 0 0;\n",
              "      width: 32px;\n",
              "    }\n",
              "\n",
              "    .colab-df-convert:hover {\n",
              "      background-color: #E2EBFA;\n",
              "      box-shadow: 0px 1px 2px rgba(60, 64, 67, 0.3), 0px 1px 3px 1px rgba(60, 64, 67, 0.15);\n",
              "      fill: #174EA6;\n",
              "    }\n",
              "\n",
              "    [theme=dark] .colab-df-convert {\n",
              "      background-color: #3B4455;\n",
              "      fill: #D2E3FC;\n",
              "    }\n",
              "\n",
              "    [theme=dark] .colab-df-convert:hover {\n",
              "      background-color: #434B5C;\n",
              "      box-shadow: 0px 1px 3px 1px rgba(0, 0, 0, 0.15);\n",
              "      filter: drop-shadow(0px 1px 2px rgba(0, 0, 0, 0.3));\n",
              "      fill: #FFFFFF;\n",
              "    }\n",
              "  </style>\n",
              "\n",
              "      <script>\n",
              "        const buttonEl =\n",
              "          document.querySelector('#df-3ca30250-e648-4b95-ab19-07e0c348be77 button.colab-df-convert');\n",
              "        buttonEl.style.display =\n",
              "          google.colab.kernel.accessAllowed ? 'block' : 'none';\n",
              "\n",
              "        async function convertToInteractive(key) {\n",
              "          const element = document.querySelector('#df-3ca30250-e648-4b95-ab19-07e0c348be77');\n",
              "          const dataTable =\n",
              "            await google.colab.kernel.invokeFunction('convertToInteractive',\n",
              "                                                     [key], {});\n",
              "          if (!dataTable) return;\n",
              "\n",
              "          const docLinkHtml = 'Like what you see? Visit the ' +\n",
              "            '<a target=\"_blank\" href=https://colab.research.google.com/notebooks/data_table.ipynb>data table notebook</a>'\n",
              "            + ' to learn more about interactive tables.';\n",
              "          element.innerHTML = '';\n",
              "          dataTable['output_type'] = 'display_data';\n",
              "          await google.colab.output.renderOutput(dataTable, element);\n",
              "          const docLink = document.createElement('div');\n",
              "          docLink.innerHTML = docLinkHtml;\n",
              "          element.appendChild(docLink);\n",
              "        }\n",
              "      </script>\n",
              "    </div>\n",
              "  </div>\n",
              "  "
            ]
          },
          "metadata": {},
          "execution_count": 37
        }
      ]
    },
    {
      "cell_type": "markdown",
      "source": [
        "Maximum number of fraud transactions are among shopping and grocery categories."
      ],
      "metadata": {
        "id": "tgWc7-IYUODj"
      }
    },
    {
      "cell_type": "markdown",
      "source": [
        "**Visualizing variables in association with Fraud**"
      ],
      "metadata": {
        "id": "CfynLDFFUtCO"
      }
    },
    {
      "cell_type": "code",
      "source": [
        "fraud = df_train[(df_train['is_fraud']==1)] "
      ],
      "metadata": {
        "id": "xdVcqt4VWj9s"
      },
      "execution_count": 38,
      "outputs": []
    },
    {
      "cell_type": "code",
      "source": [
        "#plotting graph to analyze the categorical variables in association with fraud\n",
        "fig= plt.figure(figsize=(15, 10))\n",
        "plt.subplot(3,3,1)\n",
        "sns.countplot(fraud['category'])\n",
        "plt.xticks(rotation = 90)\n",
        "\n",
        "plt.subplot(3,3,2)\n",
        "sns.countplot(fraud[\"gender\"])\n",
        "plt.xticks(rotation = 90)\n",
        "\n",
        "plt.subplot(3,3,3)\n",
        "sns.countplot(fraud[\"customer_age_group\"])\n",
        "plt.xticks(rotation = 90)\n",
        "fig.tight_layout()\n",
        "\n",
        "plt.show()"
      ],
      "metadata": {
        "id": "8cNMwRYvW4Dd",
        "colab": {
          "base_uri": "https://localhost:8080/",
          "height": 287
        },
        "outputId": "bf44f790-b247-4e13-babb-fbb5ed76e222"
      },
      "execution_count": 39,
      "outputs": [
        {
          "output_type": "display_data",
          "data": {
            "text/plain": [
              "<Figure size 1080x720 with 3 Axes>"
            ],
            "image/png": "[encoded data removed]"
          },
          "metadata": {
            "needs_background": "light"
          }
        }
      ]
    },
    {
      "cell_type": "markdown",
      "source": [
        "**Observations**\n",
        "\n",
        "1. Maximum number of fraud transactions are among shopping and grocery categories.\n",
        "2. There are no critical differnce for genders with respect to fraud transactions.\n",
        "3. Maximum number of fraud transactions are among the age category 60 and above.\n",
        "\n"
      ],
      "metadata": {
        "id": "n7u0RyKhV7Y1"
      }
    },
    {
      "cell_type": "code",
      "source": [
        "# visualising the categorical variables\n",
        "fig= plt.figure(figsize=(20, 10))\n",
        "plt.subplot(3,3,1)\n",
        "sns.countplot(fraud['trans_year_month'])\n",
        "plt.xticks(rotation = 90)\n",
        "\n",
        "plt.subplot(3,3,2)\n",
        "sns.countplot(fraud[\"trans_day_of_week\"])\n",
        "plt.xticks(rotation = 90)\n",
        "plt.show()"
      ],
      "metadata": {
        "id": "OzuiHfSmXSuk",
        "colab": {
          "base_uri": "https://localhost:8080/",
          "height": 271
        },
        "outputId": "7931575d-8ccf-4141-badf-ff191f272cda"
      },
      "execution_count": 40,
      "outputs": [
        {
          "output_type": "display_data",
          "data": {
            "text/plain": [
              "<Figure size 1440x720 with 2 Axes>"
            ],
            "image/png": "[encoded data removed]"
          },
          "metadata": {
            "needs_background": "light"
          }
        }
      ]
    },
    {
      "cell_type": "markdown",
      "source": [
        "**Observations:**\n",
        "\n",
        "1. Maximum number of fraudulent transactions occured during December 2019.\n",
        "2. Maximum number of fraudulent transactions occured on Saturday, Sunday and Monday.\n",
        "\n"
      ],
      "metadata": {
        "id": "DbRhCdd0W4-f"
      }
    },
    {
      "cell_type": "code",
      "source": [
        ""
      ],
      "metadata": {
        "id": "UuffrXlh1N1n"
      },
      "execution_count": 40,
      "outputs": []
    },
    {
      "cell_type": "markdown",
      "source": [
        "**Checking Class Imbalance**"
      ],
      "metadata": {
        "id": "_bru-RcZYkg7"
      }
    },
    {
      "cell_type": "markdown",
      "source": [
        "**Train dataset**"
      ],
      "metadata": {
        "id": "_QeQoPmUZH_2"
      }
    },
    {
      "cell_type": "code",
      "source": [
        "df_fraud = df_train[['is_fraud','trans_date_trans_time']].groupby('is_fraud').count().reset_index()\n",
        "df_fraud.columns = ['is_fraud','count']\n",
        "df_fraud['percentage'] = np.round((df_fraud['count']/df_fraud['count'].sum())*100,2)\n",
        "df_fraud"
      ],
      "metadata": {
        "id": "QN7P6hb7Yhz5",
        "colab": {
          "base_uri": "https://localhost:8080/",
          "height": 112
        },
        "outputId": "824fa750-c77e-4e0c-e541-0772d2b64c79"
      },
      "execution_count": 41,
      "outputs": [
        {
          "output_type": "execute_result",
          "data": {
            "text/plain": [
              "   is_fraud    count  percentage\n",
              "0         0  1289169       99.42\n",
              "1         1     7506        0.58"
            ],
            "text/html": [
              "\n",
              "  <div id=\"df-7eee7579-a42c-4f27-b008-3fd3716de35b\">\n",
              "    <div class=\"colab-df-container\">\n",
              "      <div>\n",
              "<style scoped>\n",
              "    .dataframe tbody tr th:only-of-type {\n",
              "        vertical-align: middle;\n",
              "    }\n",
              "\n",
              "    .dataframe tbody tr th {\n",
              "        vertical-align: top;\n",
              "    }\n",
              "\n",
              "    .dataframe thead th {\n",
              "        text-align: right;\n",
              "    }\n",
              "</style>\n",
              "<table border=\"1\" class=\"dataframe\">\n",
              "  <thead>\n",
              "    <tr style=\"text-align: right;\">\n",
              "      <th></th>\n",
              "      <th>is_fraud</th>\n",
              "      <th>count</th>\n",
              "      <th>percentage</th>\n",
              "    </tr>\n",
              "  </thead>\n",
              "  <tbody>\n",
              "    <tr>\n",
              "      <th>0</th>\n",
              "      <td>0</td>\n",
              "      <td>1289169</td>\n",
              "      <td>99.42</td>\n",
              "    </tr>\n",
              "    <tr>\n",
              "      <th>1</th>\n",
              "      <td>1</td>\n",
              "      <td>7506</td>\n",
              "      <td>0.58</td>\n",
              "    </tr>\n",
              "  </tbody>\n",
              "</table>\n",
              "</div>\n",
              "      <button class=\"colab-df-convert\" onclick=\"convertToInteractive('df-7eee7579-a42c-4f27-b008-3fd3716de35b')\"\n",
              "              title=\"Convert this dataframe to an interactive table.\"\n",
              "              style=\"display:none;\">\n",
              "        \n",
              "  <svg xmlns=\"http://www.w3.org/2000/svg\" height=\"24px\"viewBox=\"0 0 24 24\"\n",
              "       width=\"24px\">\n",
              "    <path d=\"M0 0h24v24H0V0z\" fill=\"none\"/>\n",
              "    <path d=\"M18.56 5.44l.94 2.06.94-2.06 2.06-.94-2.06-.94-.94-2.06-.94 2.06-2.06.94zm-11 1L8.5 8.5l.94-2.06 2.06-.94-2.06-.94L8.5 2.5l-.94 2.06-2.06.94zm10 10l.94 2.06.94-2.06 2.06-.94-2.06-.94-.94-2.06-.94 2.06-2.06.94z\"/><path d=\"M17.41 7.96l-1.37-1.37c-.4-.4-.92-.59-1.43-.59-.52 0-1.04.2-1.43.59L10.3 9.45l-7.72 7.72c-.78.78-.78 2.05 0 2.83L4 21.41c.39.39.9.59 1.41.59.51 0 1.02-.2 1.41-.59l7.78-7.78 2.81-2.81c.8-.78.8-2.07 0-2.86zM5.41 20L4 18.59l7.72-7.72 1.47 1.35L5.41 20z\"/>\n",
              "  </svg>\n",
              "      </button>\n",
              "      \n",
              "  <style>\n",
              "    .colab-df-container {\n",
              "      display:flex;\n",
              "      flex-wrap:wrap;\n",
              "      gap: 12px;\n",
              "    }\n",
              "\n",
              "    .colab-df-convert {\n",
              "      background-color: #E8F0FE;\n",
              "      border: none;\n",
              "      border-radius: 50%;\n",
              "      cursor: pointer;\n",
              "      display: none;\n",
              "      fill: #1967D2;\n",
              "      height: 32px;\n",
              "      padding: 0 0 0 0;\n",
              "      width: 32px;\n",
              "    }\n",
              "\n",
              "    .colab-df-convert:hover {\n",
              "      background-color: #E2EBFA;\n",
              "      box-shadow: 0px 1px 2px rgba(60, 64, 67, 0.3), 0px 1px 3px 1px rgba(60, 64, 67, 0.15);\n",
              "      fill: #174EA6;\n",
              "    }\n",
              "\n",
              "    [theme=dark] .colab-df-convert {\n",
              "      background-color: #3B4455;\n",
              "      fill: #D2E3FC;\n",
              "    }\n",
              "\n",
              "    [theme=dark] .colab-df-convert:hover {\n",
              "      background-color: #434B5C;\n",
              "      box-shadow: 0px 1px 3px 1px rgba(0, 0, 0, 0.15);\n",
              "      filter: drop-shadow(0px 1px 2px rgba(0, 0, 0, 0.3));\n",
              "      fill: #FFFFFF;\n",
              "    }\n",
              "  </style>\n",
              "\n",
              "      <script>\n",
              "        const buttonEl =\n",
              "          document.querySelector('#df-7eee7579-a42c-4f27-b008-3fd3716de35b button.colab-df-convert');\n",
              "        buttonEl.style.display =\n",
              "          google.colab.kernel.accessAllowed ? 'block' : 'none';\n",
              "\n",
              "        async function convertToInteractive(key) {\n",
              "          const element = document.querySelector('#df-7eee7579-a42c-4f27-b008-3fd3716de35b');\n",
              "          const dataTable =\n",
              "            await google.colab.kernel.invokeFunction('convertToInteractive',\n",
              "                                                     [key], {});\n",
              "          if (!dataTable) return;\n",
              "\n",
              "          const docLinkHtml = 'Like what you see? Visit the ' +\n",
              "            '<a target=\"_blank\" href=https://colab.research.google.com/notebooks/data_table.ipynb>data table notebook</a>'\n",
              "            + ' to learn more about interactive tables.';\n",
              "          element.innerHTML = '';\n",
              "          dataTable['output_type'] = 'display_data';\n",
              "          await google.colab.output.renderOutput(dataTable, element);\n",
              "          const docLink = document.createElement('div');\n",
              "          docLink.innerHTML = docLinkHtml;\n",
              "          element.appendChild(docLink);\n",
              "        }\n",
              "      </script>\n",
              "    </div>\n",
              "  </div>\n",
              "  "
            ]
          },
          "metadata": {},
          "execution_count": 41
        }
      ]
    },
    {
      "cell_type": "code",
      "source": [
        "# Plotting Imbalance\n",
        "label = ['Fraudulent','Non-Fraudulent']\n",
        "values = [df_fraud['percentage'][0], df_fraud['percentage'][1]]\n",
        "\n",
        "explode = (0.2, 0)\n",
        "fig1, ax1 = plt.subplots()\n",
        "ax1.pie(values,labels = label, explode = explode, autopct='%0.2f%%', shadow = False, startangle = 30, pctdistance = 1.2, labeldistance = 1.4)\n",
        "plt.title(\"Data Imbalance in train data\\n\",fontdict = {'fontsize': 20, 'fontweight' : 20, 'color' : 'Green'})\n",
        "plt.show()"
      ],
      "metadata": {
        "id": "jOQXNxymYiee",
        "colab": {
          "base_uri": "https://localhost:8080/",
          "height": 291
        },
        "outputId": "47f01d75-7c18-4a0a-b2b2-9e05647d00a0"
      },
      "execution_count": 42,
      "outputs": [
        {
          "output_type": "display_data",
          "data": {
            "text/plain": [
              "<Figure size 432x288 with 1 Axes>"
            ],
            "image/png": "[encoded data removed]"
          },
          "metadata": {}
        }
      ]
    },
    {
      "cell_type": "markdown",
      "source": [
        "**Test dataset**"
      ],
      "metadata": {
        "id": "0ceF2G4hZTMN"
      }
    },
    {
      "cell_type": "code",
      "source": [
        "df_fraud=df_test[['is_fraud','trans_date_trans_time']].groupby('is_fraud').count().reset_index()\n",
        "df_fraud.columns=['is_fraud','count']\n",
        "df_fraud['percentage']=np.round((df_fraud['count']/df_fraud['count'].sum())*100,2)\n",
        "df_fraud"
      ],
      "metadata": {
        "id": "Y-SfvRDLZMcg",
        "colab": {
          "base_uri": "https://localhost:8080/",
          "height": 112
        },
        "outputId": "927acb59-cb58-450b-e536-f8a85809fad4"
      },
      "execution_count": 43,
      "outputs": [
        {
          "output_type": "execute_result",
          "data": {
            "text/plain": [
              "   is_fraud   count  percentage\n",
              "0         0  553574       99.61\n",
              "1         1    2145        0.39"
            ],
            "text/html": [
              "\n",
              "  <div id=\"df-894e3d30-8352-4923-abf9-5104a644154b\">\n",
              "    <div class=\"colab-df-container\">\n",
              "      <div>\n",
              "<style scoped>\n",
              "    .dataframe tbody tr th:only-of-type {\n",
              "        vertical-align: middle;\n",
              "    }\n",
              "\n",
              "    .dataframe tbody tr th {\n",
              "        vertical-align: top;\n",
              "    }\n",
              "\n",
              "    .dataframe thead th {\n",
              "        text-align: right;\n",
              "    }\n",
              "</style>\n",
              "<table border=\"1\" class=\"dataframe\">\n",
              "  <thead>\n",
              "    <tr style=\"text-align: right;\">\n",
              "      <th></th>\n",
              "      <th>is_fraud</th>\n",
              "      <th>count</th>\n",
              "      <th>percentage</th>\n",
              "    </tr>\n",
              "  </thead>\n",
              "  <tbody>\n",
              "    <tr>\n",
              "      <th>0</th>\n",
              "      <td>0</td>\n",
              "      <td>553574</td>\n",
              "      <td>99.61</td>\n",
              "    </tr>\n",
              "    <tr>\n",
              "      <th>1</th>\n",
              "      <td>1</td>\n",
              "      <td>2145</td>\n",
              "      <td>0.39</td>\n",
              "    </tr>\n",
              "  </tbody>\n",
              "</table>\n",
              "</div>\n",
              "      <button class=\"colab-df-convert\" onclick=\"convertToInteractive('df-894e3d30-8352-4923-abf9-5104a644154b')\"\n",
              "              title=\"Convert this dataframe to an interactive table.\"\n",
              "              style=\"display:none;\">\n",
              "        \n",
              "  <svg xmlns=\"http://www.w3.org/2000/svg\" height=\"24px\"viewBox=\"0 0 24 24\"\n",
              "       width=\"24px\">\n",
              "    <path d=\"M0 0h24v24H0V0z\" fill=\"none\"/>\n",
              "    <path d=\"M18.56 5.44l.94 2.06.94-2.06 2.06-.94-2.06-.94-.94-2.06-.94 2.06-2.06.94zm-11 1L8.5 8.5l.94-2.06 2.06-.94-2.06-.94L8.5 2.5l-.94 2.06-2.06.94zm10 10l.94 2.06.94-2.06 2.06-.94-2.06-.94-.94-2.06-.94 2.06-2.06.94z\"/><path d=\"M17.41 7.96l-1.37-1.37c-.4-.4-.92-.59-1.43-.59-.52 0-1.04.2-1.43.59L10.3 9.45l-7.72 7.72c-.78.78-.78 2.05 0 2.83L4 21.41c.39.39.9.59 1.41.59.51 0 1.02-.2 1.41-.59l7.78-7.78 2.81-2.81c.8-.78.8-2.07 0-2.86zM5.41 20L4 18.59l7.72-7.72 1.47 1.35L5.41 20z\"/>\n",
              "  </svg>\n",
              "      </button>\n",
              "      \n",
              "  <style>\n",
              "    .colab-df-container {\n",
              "      display:flex;\n",
              "      flex-wrap:wrap;\n",
              "      gap: 12px;\n",
              "    }\n",
              "\n",
              "    .colab-df-convert {\n",
              "      background-color: #E8F0FE;\n",
              "      border: none;\n",
              "      border-radius: 50%;\n",
              "      cursor: pointer;\n",
              "      display: none;\n",
              "      fill: #1967D2;\n",
              "      height: 32px;\n",
              "      padding: 0 0 0 0;\n",
              "      width: 32px;\n",
              "    }\n",
              "\n",
              "    .colab-df-convert:hover {\n",
              "      background-color: #E2EBFA;\n",
              "      box-shadow: 0px 1px 2px rgba(60, 64, 67, 0.3), 0px 1px 3px 1px rgba(60, 64, 67, 0.15);\n",
              "      fill: #174EA6;\n",
              "    }\n",
              "\n",
              "    [theme=dark] .colab-df-convert {\n",
              "      background-color: #3B4455;\n",
              "      fill: #D2E3FC;\n",
              "    }\n",
              "\n",
              "    [theme=dark] .colab-df-convert:hover {\n",
              "      background-color: #434B5C;\n",
              "      box-shadow: 0px 1px 3px 1px rgba(0, 0, 0, 0.15);\n",
              "      filter: drop-shadow(0px 1px 2px rgba(0, 0, 0, 0.3));\n",
              "      fill: #FFFFFF;\n",
              "    }\n",
              "  </style>\n",
              "\n",
              "      <script>\n",
              "        const buttonEl =\n",
              "          document.querySelector('#df-894e3d30-8352-4923-abf9-5104a644154b button.colab-df-convert');\n",
              "        buttonEl.style.display =\n",
              "          google.colab.kernel.accessAllowed ? 'block' : 'none';\n",
              "\n",
              "        async function convertToInteractive(key) {\n",
              "          const element = document.querySelector('#df-894e3d30-8352-4923-abf9-5104a644154b');\n",
              "          const dataTable =\n",
              "            await google.colab.kernel.invokeFunction('convertToInteractive',\n",
              "                                                     [key], {});\n",
              "          if (!dataTable) return;\n",
              "\n",
              "          const docLinkHtml = 'Like what you see? Visit the ' +\n",
              "            '<a target=\"_blank\" href=https://colab.research.google.com/notebooks/data_table.ipynb>data table notebook</a>'\n",
              "            + ' to learn more about interactive tables.';\n",
              "          element.innerHTML = '';\n",
              "          dataTable['output_type'] = 'display_data';\n",
              "          await google.colab.output.renderOutput(dataTable, element);\n",
              "          const docLink = document.createElement('div');\n",
              "          docLink.innerHTML = docLinkHtml;\n",
              "          element.appendChild(docLink);\n",
              "        }\n",
              "      </script>\n",
              "    </div>\n",
              "  </div>\n",
              "  "
            ]
          },
          "metadata": {},
          "execution_count": 43
        }
      ]
    },
    {
      "cell_type": "code",
      "source": [
        "label = ['Fraudulent','Non-Fraudulent']\n",
        "values = [df_fraud['percentage'][0], df_fraud['percentage'][1]]\n",
        "\n",
        "explode = (0.2, 0)\n",
        "fig1, ax1 = plt.subplots()\n",
        "ax1.pie(values,labels = label, explode = explode, autopct = '%0.2f%%', shadow = False, startangle = 30, pctdistance = 1.2, labeldistance = 1.4)\n",
        "plt.title(\"Data Imbalance in test data\\n\",fontdict = {'fontsize': 20, 'fontweight' : 20, 'color' : 'Green'})\n",
        "plt.show()"
      ],
      "metadata": {
        "id": "fPki6Do2ZVu_",
        "colab": {
          "base_uri": "https://localhost:8080/",
          "height": 291
        },
        "outputId": "36713845-11bd-4c1d-9588-9dbf370a3e80"
      },
      "execution_count": 44,
      "outputs": [
        {
          "output_type": "display_data",
          "data": {
            "text/plain": [
              "<Figure size 432x288 with 1 Axes>"
            ],
            "image/png": "[encoded data removed]"
          },
          "metadata": {}
        }
      ]
    },
    {
      "cell_type": "markdown",
      "source": [
        "The train and test data sets are highly imbalanced."
      ],
      "metadata": {
        "id": "c0THeW9LZdyV"
      }
    },
    {
      "cell_type": "code",
      "source": [
        "#Plotting a heatmap for correlation for numeric variables\n",
        "f,ax = plt.subplots(figsize = (20,8))\n",
        "plt.title('Correlation of Numeric Features',y = 1,size = 16)\n",
        "sns.heatmap(df_train.corr(),annot = True)\n",
        "plt.show()"
      ],
      "metadata": {
        "id": "KGqolffSZYZX",
        "colab": {
          "base_uri": "https://localhost:8080/",
          "height": 612
        },
        "outputId": "4cc57135-93b3-4319-da95-1e796006faab"
      },
      "execution_count": 45,
      "outputs": [
        {
          "output_type": "display_data",
          "data": {
            "text/plain": [
              "<Figure size 1440x576 with 2 Axes>"
            ],
            "image/png": "[encoded data removed]"
          },
          "metadata": {
            "needs_background": "light"
          }
        }
      ]
    },
    {
      "cell_type": "markdown",
      "source": [
        "**Observations:**\n",
        "\n",
        "1. we observe high corelation between customer age during transaction and transaction hour.\n",
        "2. we  similarly also observe high corelation between gender and other historical variables.\n",
        "\n",
        "\n"
      ],
      "metadata": {
        "id": "JjwPO5HbfnYE"
      }
    },
    {
      "cell_type": "markdown",
      "source": [
        "**One Hot-Encoding for train dataset**"
      ],
      "metadata": {
        "id": "3QHflBBPaPH6"
      }
    },
    {
      "cell_type": "code",
      "source": [
        "#creating dummy variable for categorical variables for train dataset\n",
        "category_dummy = pd.get_dummies(df_train.category, prefix = 'category', drop_first = True)\n",
        "gender_dummy = pd.get_dummies(df_train.gender, prefix = 'gender', drop_first = True)\n",
        "trans_day_of_week_dummy = pd.get_dummies(df_train.trans_day_of_week, prefix = 'week',drop_first = True)\n",
        "customer_age_group_dummy = pd.get_dummies(df_train.customer_age_group, prefix = 'age',drop_first = True)\n",
        "trans_hour_dummy = pd.get_dummies(df_train.trans_hour, prefix = 'hour',drop_first = True)"
      ],
      "metadata": {
        "id": "KT225gFbZkPD"
      },
      "execution_count": 46,
      "outputs": []
    },
    {
      "cell_type": "code",
      "source": [
        "#Adding the results to the master dataframe\n",
        "df1 = pd.concat([df_train, category_dummy,gender_dummy,customer_age_group_dummy,trans_hour_dummy,trans_day_of_week_dummy], axis = 1)\n"
      ],
      "metadata": {
        "id": "9usvL2RraUML"
      },
      "execution_count": 47,
      "outputs": []
    },
    {
      "cell_type": "code",
      "source": [
        "# Drop the variables for which the dummy variables have been created\n",
        "df1 = df1.drop(['category','gender','customer_age_group','trans_hour','trans_day_of_week'] ,axis = 1)"
      ],
      "metadata": {
        "id": "HJLTYzZba4Ep"
      },
      "execution_count": 48,
      "outputs": []
    },
    {
      "cell_type": "code",
      "source": [
        "#dropping other variables which seem irrelavant fot the analysis\n",
        "drop_col = ['trans_date_trans_time','cc_num','first','last','street','city','lat','long','dob','trans_num','merch_lat','merch_long','agg','cust_age','age_at_trans','trans_date', 'trans_year_month','merchant','city','zip','job','city_pop','state','unix_time']\n",
        "df1 = df1.drop(drop_col, axis = 1)"
      ],
      "metadata": {
        "id": "kNok1raYa-2L"
      },
      "execution_count": 49,
      "outputs": []
    },
    {
      "cell_type": "code",
      "source": [
        "df1.head()"
      ],
      "metadata": {
        "id": "iP4q3VPObGGY",
        "colab": {
          "base_uri": "https://localhost:8080/",
          "height": 305
        },
        "outputId": "154be0da-dade-4917-cd77-6533405650e7"
      },
      "execution_count": 50,
      "outputs": [
        {
          "output_type": "execute_result",
          "data": {
            "text/plain": [
              "      amt  is_fraud  hist_trans_avg_amt_60d  hist_trans_60d  \\\n",
              "0    4.97         0             2028.123333             1.0   \n",
              "1  107.23         0              625.771000             1.0   \n",
              "2  220.11         0             3023.400000             8.0   \n",
              "3   45.00         0             6102.775000             1.0   \n",
              "4   41.96         0             3546.330000             1.0   \n",
              "\n",
              "   category_food_dining  category_gas_transport  category_grocery_net  \\\n",
              "0                     0                       0                     0   \n",
              "1                     0                       0                     0   \n",
              "2                     0                       0                     0   \n",
              "3                     0                       1                     0   \n",
              "4                     0                       0                     0   \n",
              "\n",
              "   category_grocery_pos  category_health_fitness  category_home  \\\n",
              "0                     0                        0              0   \n",
              "1                     1                        0              0   \n",
              "2                     0                        0              0   \n",
              "3                     0                        0              0   \n",
              "4                     0                        0              0   \n",
              "\n",
              "   category_kids_pets  category_misc_net  category_misc_pos  \\\n",
              "0                   0                  1                  0   \n",
              "1                   0                  0                  0   \n",
              "2                   0                  0                  0   \n",
              "3                   0                  0                  0   \n",
              "4                   0                  0                  1   \n",
              "\n",
              "   category_personal_care  category_shopping_net  category_shopping_pos  \\\n",
              "0                       0                      0                      0   \n",
              "1                       0                      0                      0   \n",
              "2                       0                      0                      0   \n",
              "3                       0                      0                      0   \n",
              "4                       0                      0                      0   \n",
              "\n",
              "   category_travel  gender_1  age_20-30  age_30-40  age_40-50  age_50-60  \\\n",
              "0                0         0          1          0          0          0   \n",
              "1                0         0          0          1          0          0   \n",
              "2                0         1          0          0          0          1   \n",
              "3                0         1          0          0          0          1   \n",
              "4                0         1          0          1          0          0   \n",
              "\n",
              "   age_60 - Above  hour_1  hour_2  hour_3  hour_4  hour_5  hour_6  hour_7  \\\n",
              "0               0       0       0       0       0       0       0       0   \n",
              "1               0       0       0       0       0       0       0       0   \n",
              "2               0       0       0       0       0       0       0       0   \n",
              "3               0       0       0       0       0       0       0       0   \n",
              "4               0       0       0       0       0       0       0       0   \n",
              "\n",
              "   hour_8  hour_9  hour_10  hour_11  hour_12  hour_13  hour_14  hour_15  \\\n",
              "0       0       0        0        0        0        0        0        0   \n",
              "1       0       0        0        0        0        0        0        0   \n",
              "2       0       0        0        0        0        0        0        0   \n",
              "3       0       0        0        0        0        0        0        0   \n",
              "4       0       0        0        0        0        0        0        0   \n",
              "\n",
              "   hour_16  hour_17  hour_18  hour_19  hour_20  hour_21  hour_22  hour_23  \\\n",
              "0        0        0        0        0        0        0        0        0   \n",
              "1        0        0        0        0        0        0        0        0   \n",
              "2        0        0        0        0        0        0        0        0   \n",
              "3        0        0        0        0        0        0        0        0   \n",
              "4        0        0        0        0        0        0        0        0   \n",
              "\n",
              "   week_Monday  week_Saturday  week_Sunday  week_Thursday  week_Tuesday  \\\n",
              "0            0              0            0              0             1   \n",
              "1            0              0            0              0             1   \n",
              "2            0              0            0              0             1   \n",
              "3            0              0            0              0             1   \n",
              "4            0              0            0              0             1   \n",
              "\n",
              "   week_Wednesday  \n",
              "0               0  \n",
              "1               0  \n",
              "2               0  \n",
              "3               0  \n",
              "4               0  "
            ],
            "text/html": [
              "\n",
              "  <div id=\"df-f51c049b-07f5-4d82-9c43-674d780ee58b\">\n",
              "    <div class=\"colab-df-container\">\n",
              "      <div>\n",
              "<style scoped>\n",
              "    .dataframe tbody tr th:only-of-type {\n",
              "        vertical-align: middle;\n",
              "    }\n",
              "\n",
              "    .dataframe tbody tr th {\n",
              "        vertical-align: top;\n",
              "    }\n",
              "\n",
              "    .dataframe thead th {\n",
              "        text-align: right;\n",
              "    }\n",
              "</style>\n",
              "<table border=\"1\" class=\"dataframe\">\n",
              "  <thead>\n",
              "    <tr style=\"text-align: right;\">\n",
              "      <th></th>\n",
              "      <th>amt</th>\n",
              "      <th>is_fraud</th>\n",
              "      <th>hist_trans_avg_amt_60d</th>\n",
              "      <th>hist_trans_60d</th>\n",
              "      <th>category_food_dining</th>\n",
              "      <th>category_gas_transport</th>\n",
              "      <th>category_grocery_net</th>\n",
              "      <th>category_grocery_pos</th>\n",
              "      <th>category_health_fitness</th>\n",
              "      <th>category_home</th>\n",
              "      <th>category_kids_pets</th>\n",
              "      <th>category_misc_net</th>\n",
              "      <th>category_misc_pos</th>\n",
              "      <th>category_personal_care</th>\n",
              "      <th>category_shopping_net</th>\n",
              "      <th>category_shopping_pos</th>\n",
              "      <th>category_travel</th>\n",
              "      <th>gender_1</th>\n",
              "      <th>age_20-30</th>\n",
              "      <th>age_30-40</th>\n",
              "      <th>age_40-50</th>\n",
              "      <th>age_50-60</th>\n",
              "      <th>age_60 - Above</th>\n",
              "      <th>hour_1</th>\n",
              "      <th>hour_2</th>\n",
              "      <th>hour_3</th>\n",
              "      <th>hour_4</th>\n",
              "      <th>hour_5</th>\n",
              "      <th>hour_6</th>\n",
              "      <th>hour_7</th>\n",
              "      <th>hour_8</th>\n",
              "      <th>hour_9</th>\n",
              "      <th>hour_10</th>\n",
              "      <th>hour_11</th>\n",
              "      <th>hour_12</th>\n",
              "      <th>hour_13</th>\n",
              "      <th>hour_14</th>\n",
              "      <th>hour_15</th>\n",
              "      <th>hour_16</th>\n",
              "      <th>hour_17</th>\n",
              "      <th>hour_18</th>\n",
              "      <th>hour_19</th>\n",
              "      <th>hour_20</th>\n",
              "      <th>hour_21</th>\n",
              "      <th>hour_22</th>\n",
              "      <th>hour_23</th>\n",
              "      <th>week_Monday</th>\n",
              "      <th>week_Saturday</th>\n",
              "      <th>week_Sunday</th>\n",
              "      <th>week_Thursday</th>\n",
              "      <th>week_Tuesday</th>\n",
              "      <th>week_Wednesday</th>\n",
              "    </tr>\n",
              "  </thead>\n",
              "  <tbody>\n",
              "    <tr>\n",
              "      <th>0</th>\n",
              "      <td>4.97</td>\n",
              "      <td>0</td>\n",
              "      <td>2028.123333</td>\n",
              "      <td>1.0</td>\n",
              "      <td>0</td>\n",
              "      <td>0</td>\n",
              "      <td>0</td>\n",
              "      <td>0</td>\n",
              "      <td>0</td>\n",
              "      <td>0</td>\n",
              "      <td>0</td>\n",
              "      <td>1</td>\n",
              "      <td>0</td>\n",
              "      <td>0</td>\n",
              "      <td>0</td>\n",
              "      <td>0</td>\n",
              "      <td>0</td>\n",
              "      <td>0</td>\n",
              "      <td>1</td>\n",
              "      <td>0</td>\n",
              "      <td>0</td>\n",
              "      <td>0</td>\n",
              "      <td>0</td>\n",
              "      <td>0</td>\n",
              "      <td>0</td>\n",
              "      <td>0</td>\n",
              "      <td>0</td>\n",
              "      <td>0</td>\n",
              "      <td>0</td>\n",
              "      <td>0</td>\n",
              "      <td>0</td>\n",
              "      <td>0</td>\n",
              "      <td>0</td>\n",
              "      <td>0</td>\n",
              "      <td>0</td>\n",
              "      <td>0</td>\n",
              "      <td>0</td>\n",
              "      <td>0</td>\n",
              "      <td>0</td>\n",
              "      <td>0</td>\n",
              "      <td>0</td>\n",
              "      <td>0</td>\n",
              "      <td>0</td>\n",
              "      <td>0</td>\n",
              "      <td>0</td>\n",
              "      <td>0</td>\n",
              "      <td>0</td>\n",
              "      <td>0</td>\n",
              "      <td>0</td>\n",
              "      <td>0</td>\n",
              "      <td>1</td>\n",
              "      <td>0</td>\n",
              "    </tr>\n",
              "    <tr>\n",
              "      <th>1</th>\n",
              "      <td>107.23</td>\n",
              "      <td>0</td>\n",
              "      <td>625.771000</td>\n",
              "      <td>1.0</td>\n",
              "      <td>0</td>\n",
              "      <td>0</td>\n",
              "      <td>0</td>\n",
              "      <td>1</td>\n",
              "      <td>0</td>\n",
              "      <td>0</td>\n",
              "      <td>0</td>\n",
              "      <td>0</td>\n",
              "      <td>0</td>\n",
              "      <td>0</td>\n",
              "      <td>0</td>\n",
              "      <td>0</td>\n",
              "      <td>0</td>\n",
              "      <td>0</td>\n",
              "      <td>0</td>\n",
              "      <td>1</td>\n",
              "      <td>0</td>\n",
              "      <td>0</td>\n",
              "      <td>0</td>\n",
              "      <td>0</td>\n",
              "      <td>0</td>\n",
              "      <td>0</td>\n",
              "      <td>0</td>\n",
              "      <td>0</td>\n",
              "      <td>0</td>\n",
              "      <td>0</td>\n",
              "      <td>0</td>\n",
              "      <td>0</td>\n",
              "      <td>0</td>\n",
              "      <td>0</td>\n",
              "      <td>0</td>\n",
              "      <td>0</td>\n",
              "      <td>0</td>\n",
              "      <td>0</td>\n",
              "      <td>0</td>\n",
              "      <td>0</td>\n",
              "      <td>0</td>\n",
              "      <td>0</td>\n",
              "      <td>0</td>\n",
              "      <td>0</td>\n",
              "      <td>0</td>\n",
              "      <td>0</td>\n",
              "      <td>0</td>\n",
              "      <td>0</td>\n",
              "      <td>0</td>\n",
              "      <td>0</td>\n",
              "      <td>1</td>\n",
              "      <td>0</td>\n",
              "    </tr>\n",
              "    <tr>\n",
              "      <th>2</th>\n",
              "      <td>220.11</td>\n",
              "      <td>0</td>\n",
              "      <td>3023.400000</td>\n",
              "      <td>8.0</td>\n",
              "      <td>0</td>\n",
              "      <td>0</td>\n",
              "      <td>0</td>\n",
              "      <td>0</td>\n",
              "      <td>0</td>\n",
              "      <td>0</td>\n",
              "      <td>0</td>\n",
              "      <td>0</td>\n",
              "      <td>0</td>\n",
              "      <td>0</td>\n",
              "      <td>0</td>\n",
              "      <td>0</td>\n",
              "      <td>0</td>\n",
              "      <td>1</td>\n",
              "      <td>0</td>\n",
              "      <td>0</td>\n",
              "      <td>0</td>\n",
              "      <td>1</td>\n",
              "      <td>0</td>\n",
              "      <td>0</td>\n",
              "      <td>0</td>\n",
              "      <td>0</td>\n",
              "      <td>0</td>\n",
              "      <td>0</td>\n",
              "      <td>0</td>\n",
              "      <td>0</td>\n",
              "      <td>0</td>\n",
              "      <td>0</td>\n",
              "      <td>0</td>\n",
              "      <td>0</td>\n",
              "      <td>0</td>\n",
              "      <td>0</td>\n",
              "      <td>0</td>\n",
              "      <td>0</td>\n",
              "      <td>0</td>\n",
              "      <td>0</td>\n",
              "      <td>0</td>\n",
              "      <td>0</td>\n",
              "      <td>0</td>\n",
              "      <td>0</td>\n",
              "      <td>0</td>\n",
              "      <td>0</td>\n",
              "      <td>0</td>\n",
              "      <td>0</td>\n",
              "      <td>0</td>\n",
              "      <td>0</td>\n",
              "      <td>1</td>\n",
              "      <td>0</td>\n",
              "    </tr>\n",
              "    <tr>\n",
              "      <th>3</th>\n",
              "      <td>45.00</td>\n",
              "      <td>0</td>\n",
              "      <td>6102.775000</td>\n",
              "      <td>1.0</td>\n",
              "      <td>0</td>\n",
              "      <td>1</td>\n",
              "      <td>0</td>\n",
              "      <td>0</td>\n",
              "      <td>0</td>\n",
              "      <td>0</td>\n",
              "      <td>0</td>\n",
              "      <td>0</td>\n",
              "      <td>0</td>\n",
              "      <td>0</td>\n",
              "      <td>0</td>\n",
              "      <td>0</td>\n",
              "      <td>0</td>\n",
              "      <td>1</td>\n",
              "      <td>0</td>\n",
              "      <td>0</td>\n",
              "      <td>0</td>\n",
              "      <td>1</td>\n",
              "      <td>0</td>\n",
              "      <td>0</td>\n",
              "      <td>0</td>\n",
              "      <td>0</td>\n",
              "      <td>0</td>\n",
              "      <td>0</td>\n",
              "      <td>0</td>\n",
              "      <td>0</td>\n",
              "      <td>0</td>\n",
              "      <td>0</td>\n",
              "      <td>0</td>\n",
              "      <td>0</td>\n",
              "      <td>0</td>\n",
              "      <td>0</td>\n",
              "      <td>0</td>\n",
              "      <td>0</td>\n",
              "      <td>0</td>\n",
              "      <td>0</td>\n",
              "      <td>0</td>\n",
              "      <td>0</td>\n",
              "      <td>0</td>\n",
              "      <td>0</td>\n",
              "      <td>0</td>\n",
              "      <td>0</td>\n",
              "      <td>0</td>\n",
              "      <td>0</td>\n",
              "      <td>0</td>\n",
              "      <td>0</td>\n",
              "      <td>1</td>\n",
              "      <td>0</td>\n",
              "    </tr>\n",
              "    <tr>\n",
              "      <th>4</th>\n",
              "      <td>41.96</td>\n",
              "      <td>0</td>\n",
              "      <td>3546.330000</td>\n",
              "      <td>1.0</td>\n",
              "      <td>0</td>\n",
              "      <td>0</td>\n",
              "      <td>0</td>\n",
              "      <td>0</td>\n",
              "      <td>0</td>\n",
              "      <td>0</td>\n",
              "      <td>0</td>\n",
              "      <td>0</td>\n",
              "      <td>1</td>\n",
              "      <td>0</td>\n",
              "      <td>0</td>\n",
              "      <td>0</td>\n",
              "      <td>0</td>\n",
              "      <td>1</td>\n",
              "      <td>0</td>\n",
              "      <td>1</td>\n",
              "      <td>0</td>\n",
              "      <td>0</td>\n",
              "      <td>0</td>\n",
              "      <td>0</td>\n",
              "      <td>0</td>\n",
              "      <td>0</td>\n",
              "      <td>0</td>\n",
              "      <td>0</td>\n",
              "      <td>0</td>\n",
              "      <td>0</td>\n",
              "      <td>0</td>\n",
              "      <td>0</td>\n",
              "      <td>0</td>\n",
              "      <td>0</td>\n",
              "      <td>0</td>\n",
              "      <td>0</td>\n",
              "      <td>0</td>\n",
              "      <td>0</td>\n",
              "      <td>0</td>\n",
              "      <td>0</td>\n",
              "      <td>0</td>\n",
              "      <td>0</td>\n",
              "      <td>0</td>\n",
              "      <td>0</td>\n",
              "      <td>0</td>\n",
              "      <td>0</td>\n",
              "      <td>0</td>\n",
              "      <td>0</td>\n",
              "      <td>0</td>\n",
              "      <td>0</td>\n",
              "      <td>1</td>\n",
              "      <td>0</td>\n",
              "    </tr>\n",
              "  </tbody>\n",
              "</table>\n",
              "</div>\n",
              "      <button class=\"colab-df-convert\" onclick=\"convertToInteractive('df-f51c049b-07f5-4d82-9c43-674d780ee58b')\"\n",
              "              title=\"Convert this dataframe to an interactive table.\"\n",
              "              style=\"display:none;\">\n",
              "        \n",
              "  <svg xmlns=\"http://www.w3.org/2000/svg\" height=\"24px\"viewBox=\"0 0 24 24\"\n",
              "       width=\"24px\">\n",
              "    <path d=\"M0 0h24v24H0V0z\" fill=\"none\"/>\n",
              "    <path d=\"M18.56 5.44l.94 2.06.94-2.06 2.06-.94-2.06-.94-.94-2.06-.94 2.06-2.06.94zm-11 1L8.5 8.5l.94-2.06 2.06-.94-2.06-.94L8.5 2.5l-.94 2.06-2.06.94zm10 10l.94 2.06.94-2.06 2.06-.94-2.06-.94-.94-2.06-.94 2.06-2.06.94z\"/><path d=\"M17.41 7.96l-1.37-1.37c-.4-.4-.92-.59-1.43-.59-.52 0-1.04.2-1.43.59L10.3 9.45l-7.72 7.72c-.78.78-.78 2.05 0 2.83L4 21.41c.39.39.9.59 1.41.59.51 0 1.02-.2 1.41-.59l7.78-7.78 2.81-2.81c.8-.78.8-2.07 0-2.86zM5.41 20L4 18.59l7.72-7.72 1.47 1.35L5.41 20z\"/>\n",
              "  </svg>\n",
              "      </button>\n",
              "      \n",
              "  <style>\n",
              "    .colab-df-container {\n",
              "      display:flex;\n",
              "      flex-wrap:wrap;\n",
              "      gap: 12px;\n",
              "    }\n",
              "\n",
              "    .colab-df-convert {\n",
              "      background-color: #E8F0FE;\n",
              "      border: none;\n",
              "      border-radius: 50%;\n",
              "      cursor: pointer;\n",
              "      display: none;\n",
              "      fill: #1967D2;\n",
              "      height: 32px;\n",
              "      padding: 0 0 0 0;\n",
              "      width: 32px;\n",
              "    }\n",
              "\n",
              "    .colab-df-convert:hover {\n",
              "      background-color: #E2EBFA;\n",
              "      box-shadow: 0px 1px 2px rgba(60, 64, 67, 0.3), 0px 1px 3px 1px rgba(60, 64, 67, 0.15);\n",
              "      fill: #174EA6;\n",
              "    }\n",
              "\n",
              "    [theme=dark] .colab-df-convert {\n",
              "      background-color: #3B4455;\n",
              "      fill: #D2E3FC;\n",
              "    }\n",
              "\n",
              "    [theme=dark] .colab-df-convert:hover {\n",
              "      background-color: #434B5C;\n",
              "      box-shadow: 0px 1px 3px 1px rgba(0, 0, 0, 0.15);\n",
              "      filter: drop-shadow(0px 1px 2px rgba(0, 0, 0, 0.3));\n",
              "      fill: #FFFFFF;\n",
              "    }\n",
              "  </style>\n",
              "\n",
              "      <script>\n",
              "        const buttonEl =\n",
              "          document.querySelector('#df-f51c049b-07f5-4d82-9c43-674d780ee58b button.colab-df-convert');\n",
              "        buttonEl.style.display =\n",
              "          google.colab.kernel.accessAllowed ? 'block' : 'none';\n",
              "\n",
              "        async function convertToInteractive(key) {\n",
              "          const element = document.querySelector('#df-f51c049b-07f5-4d82-9c43-674d780ee58b');\n",
              "          const dataTable =\n",
              "            await google.colab.kernel.invokeFunction('convertToInteractive',\n",
              "                                                     [key], {});\n",
              "          if (!dataTable) return;\n",
              "\n",
              "          const docLinkHtml = 'Like what you see? Visit the ' +\n",
              "            '<a target=\"_blank\" href=https://colab.research.google.com/notebooks/data_table.ipynb>data table notebook</a>'\n",
              "            + ' to learn more about interactive tables.';\n",
              "          element.innerHTML = '';\n",
              "          dataTable['output_type'] = 'display_data';\n",
              "          await google.colab.output.renderOutput(dataTable, element);\n",
              "          const docLink = document.createElement('div');\n",
              "          docLink.innerHTML = docLinkHtml;\n",
              "          element.appendChild(docLink);\n",
              "        }\n",
              "      </script>\n",
              "    </div>\n",
              "  </div>\n",
              "  "
            ]
          },
          "metadata": {},
          "execution_count": 50
        }
      ]
    },
    {
      "cell_type": "markdown",
      "source": [
        "**One Hot-Encoding for test dataset**"
      ],
      "metadata": {
        "id": "sysUkKhGyZDe"
      }
    },
    {
      "cell_type": "code",
      "source": [
        "#creating dummy variable for categorical variables for test dataset\n",
        "category_dummy = pd.get_dummies(df_test.category, prefix = 'category', drop_first = True)\n",
        "gender_dummy = pd.get_dummies(df_test.gender, prefix = 'gender', drop_first = True)\n",
        "trans_day_of_week_dummy = pd.get_dummies(df_test.trans_day_of_week, prefix = 'week',drop_first = True)\n",
        "customer_age_group_dummy = pd.get_dummies(df_test.customer_age_group, prefix = 'age',drop_first = True)\n",
        "trans_hour_dummy = pd.get_dummies(df_test.trans_hour, prefix = 'hour',drop_first = True)"
      ],
      "metadata": {
        "id": "FUcVFBWFbe4s"
      },
      "execution_count": 51,
      "outputs": []
    },
    {
      "cell_type": "code",
      "source": [
        "#Adding the results to the master dataframe\n",
        "df2 = pd.concat([df_test, category_dummy,gender_dummy,trans_day_of_week_dummy,customer_age_group_dummy,trans_hour_dummy], axis = 1)"
      ],
      "metadata": {
        "id": "j0NdsVIhbkRR"
      },
      "execution_count": 52,
      "outputs": []
    },
    {
      "cell_type": "code",
      "source": [
        "# Dropping the variables for which the dummy variables have been created\n",
        "df2 = df2.drop(['category','gender','trans_day_of_week','customer_age_group','trans_hour'] ,axis = 1)"
      ],
      "metadata": {
        "id": "RbX8zB9qbqcA"
      },
      "execution_count": 53,
      "outputs": []
    },
    {
      "cell_type": "code",
      "source": [
        "#dropping other variables which seem irrelavant fot the analysis\n",
        "drop_cols = ['trans_date_trans_time','cc_num','first','last','street','city','lat','long','dob','trans_num','merch_lat','merch_long','agg','cust_age','age_at_trans','trans_date', 'trans_year_month','merchant','city','zip','job','city_pop','state','unix_time']\n",
        "df2 = df2.drop(drop_cols,axis=1)"
      ],
      "metadata": {
        "id": "Fk_nyJ4Lb0FV"
      },
      "execution_count": 54,
      "outputs": []
    },
    {
      "cell_type": "code",
      "source": [
        "df1.shape"
      ],
      "metadata": {
        "id": "luWxK28Yb5AH",
        "colab": {
          "base_uri": "https://localhost:8080/"
        },
        "outputId": "e6529ba1-7443-4fe2-fc15-a83fae50b184"
      },
      "execution_count": 55,
      "outputs": [
        {
          "output_type": "execute_result",
          "data": {
            "text/plain": [
              "(1296675, 52)"
            ]
          },
          "metadata": {},
          "execution_count": 55
        }
      ]
    },
    {
      "cell_type": "code",
      "source": [
        "df2.shape"
      ],
      "metadata": {
        "id": "trdFE8cSeMD9",
        "colab": {
          "base_uri": "https://localhost:8080/"
        },
        "outputId": "bd591d47-b542-4ff4-8044-e17a0ddc5f9b"
      },
      "execution_count": 56,
      "outputs": [
        {
          "output_type": "execute_result",
          "data": {
            "text/plain": [
              "(555719, 52)"
            ]
          },
          "metadata": {},
          "execution_count": 56
        }
      ]
    },
    {
      "cell_type": "code",
      "source": [
        "df1.info()"
      ],
      "metadata": {
        "id": "rm4WY2tfeOKI",
        "colab": {
          "base_uri": "https://localhost:8080/"
        },
        "outputId": "64297c61-a760-4874-cd2e-a2fc3b007411"
      },
      "execution_count": 57,
      "outputs": [
        {
          "output_type": "stream",
          "name": "stdout",
          "text": [
            "<class 'pandas.core.frame.DataFrame'>\n",
            "Int64Index: 1296675 entries, 0 to 1296674\n",
            "Data columns (total 52 columns):\n",
            " #   Column                   Non-Null Count    Dtype  \n",
            "---  ------                   --------------    -----  \n",
            " 0   amt                      1296675 non-null  float64\n",
            " 1   is_fraud                 1296675 non-null  int64  \n",
            " 2   hist_trans_avg_amt_60d   1296675 non-null  float64\n",
            " 3   hist_trans_60d           1296675 non-null  float64\n",
            " 4   category_food_dining     1296675 non-null  uint8  \n",
            " 5   category_gas_transport   1296675 non-null  uint8  \n",
            " 6   category_grocery_net     1296675 non-null  uint8  \n",
            " 7   category_grocery_pos     1296675 non-null  uint8  \n",
            " 8   category_health_fitness  1296675 non-null  uint8  \n",
            " 9   category_home            1296675 non-null  uint8  \n",
            " 10  category_kids_pets       1296675 non-null  uint8  \n",
            " 11  category_misc_net        1296675 non-null  uint8  \n",
            " 12  category_misc_pos        1296675 non-null  uint8  \n",
            " 13  category_personal_care   1296675 non-null  uint8  \n",
            " 14  category_shopping_net    1296675 non-null  uint8  \n",
            " 15  category_shopping_pos    1296675 non-null  uint8  \n",
            " 16  category_travel          1296675 non-null  uint8  \n",
            " 17  gender_1                 1296675 non-null  uint8  \n",
            " 18  age_20-30                1296675 non-null  uint8  \n",
            " 19  age_30-40                1296675 non-null  uint8  \n",
            " 20  age_40-50                1296675 non-null  uint8  \n",
            " 21  age_50-60                1296675 non-null  uint8  \n",
            " 22  age_60 - Above           1296675 non-null  uint8  \n",
            " 23  hour_1                   1296675 non-null  uint8  \n",
            " 24  hour_2                   1296675 non-null  uint8  \n",
            " 25  hour_3                   1296675 non-null  uint8  \n",
            " 26  hour_4                   1296675 non-null  uint8  \n",
            " 27  hour_5                   1296675 non-null  uint8  \n",
            " 28  hour_6                   1296675 non-null  uint8  \n",
            " 29  hour_7                   1296675 non-null  uint8  \n",
            " 30  hour_8                   1296675 non-null  uint8  \n",
            " 31  hour_9                   1296675 non-null  uint8  \n",
            " 32  hour_10                  1296675 non-null  uint8  \n",
            " 33  hour_11                  1296675 non-null  uint8  \n",
            " 34  hour_12                  1296675 non-null  uint8  \n",
            " 35  hour_13                  1296675 non-null  uint8  \n",
            " 36  hour_14                  1296675 non-null  uint8  \n",
            " 37  hour_15                  1296675 non-null  uint8  \n",
            " 38  hour_16                  1296675 non-null  uint8  \n",
            " 39  hour_17                  1296675 non-null  uint8  \n",
            " 40  hour_18                  1296675 non-null  uint8  \n",
            " 41  hour_19                  1296675 non-null  uint8  \n",
            " 42  hour_20                  1296675 non-null  uint8  \n",
            " 43  hour_21                  1296675 non-null  uint8  \n",
            " 44  hour_22                  1296675 non-null  uint8  \n",
            " 45  hour_23                  1296675 non-null  uint8  \n",
            " 46  week_Monday              1296675 non-null  uint8  \n",
            " 47  week_Saturday            1296675 non-null  uint8  \n",
            " 48  week_Sunday              1296675 non-null  uint8  \n",
            " 49  week_Thursday            1296675 non-null  uint8  \n",
            " 50  week_Tuesday             1296675 non-null  uint8  \n",
            " 51  week_Wednesday           1296675 non-null  uint8  \n",
            "dtypes: float64(3), int64(1), uint8(48)\n",
            "memory usage: 141.1 MB\n"
          ]
        }
      ]
    },
    {
      "cell_type": "markdown",
      "source": [
        "**Data Preparation**"
      ],
      "metadata": {
        "id": "81OLB9SHenTA"
      }
    },
    {
      "cell_type": "markdown",
      "source": [
        "**Splitting the dataset**"
      ],
      "metadata": {
        "id": "uy3TwKOKfGo-"
      }
    },
    {
      "cell_type": "code",
      "source": [
        "from sklearn.preprocessing import StandardScaler"
      ],
      "metadata": {
        "id": "N83kLaQSeQnp"
      },
      "execution_count": 58,
      "outputs": []
    },
    {
      "cell_type": "code",
      "source": [
        "#Putting feature and response variable to X and y\n",
        "X_train = df1.drop(\"is_fraud\", axis = 1)\n",
        "y_train = df1['is_fraud']\n",
        "\n",
        "X_test = df2.drop(\"is_fraud\", axis = 1)\n",
        "y_test = df2['is_fraud']"
      ],
      "metadata": {
        "id": "YT71nEwWevll"
      },
      "execution_count": 59,
      "outputs": []
    },
    {
      "cell_type": "code",
      "source": [
        "X_train.shape"
      ],
      "metadata": {
        "id": "KwmHUHX6sRhj",
        "colab": {
          "base_uri": "https://localhost:8080/"
        },
        "outputId": "4231021d-10ee-465c-95d7-af14a01d2cb9"
      },
      "execution_count": 60,
      "outputs": [
        {
          "output_type": "execute_result",
          "data": {
            "text/plain": [
              "(1296675, 51)"
            ]
          },
          "metadata": {},
          "execution_count": 60
        }
      ]
    },
    {
      "cell_type": "code",
      "source": [
        "X_test.shape"
      ],
      "metadata": {
        "id": "U9HvuWFTsbVh",
        "colab": {
          "base_uri": "https://localhost:8080/"
        },
        "outputId": "2b3fc096-bee8-4f33-99d6-d26d3fd78376"
      },
      "execution_count": 61,
      "outputs": [
        {
          "output_type": "execute_result",
          "data": {
            "text/plain": [
              "(555719, 51)"
            ]
          },
          "metadata": {},
          "execution_count": 61
        }
      ]
    },
    {
      "cell_type": "code",
      "source": [
        "scaled_vars = ['amt','hist_trans_avg_amt_60d','hist_trans_60d']\n",
        "\n",
        "scaler = StandardScaler()\n",
        "X_train[scaled_vars] = scaler.fit_transform(X_train[scaled_vars])\n",
        "X_test[scaled_vars] = scaler.transform(X_test[scaled_vars])"
      ],
      "metadata": {
        "id": "_rETBcrVfao4"
      },
      "execution_count": 62,
      "outputs": []
    },
    {
      "cell_type": "code",
      "source": [
        "# plotting the histogram to visualise the skewness\n",
        "plt.figure(figsize=(25,30))\n",
        "i=0\n",
        "for col in scaled_vars:\n",
        "    i += 1\n",
        "    plt.subplot(8,5, i)\n",
        "    sns.distplot(X_train[col])\n",
        "plt.show()"
      ],
      "metadata": {
        "id": "ckSBcG5kfduu",
        "colab": {
          "base_uri": "https://localhost:8080/",
          "height": 236
        },
        "outputId": "9be7c1a3-ff92-4637-cbb5-8ae6656631dc"
      },
      "execution_count": 63,
      "outputs": [
        {
          "output_type": "display_data",
          "data": {
            "text/plain": [
              "<Figure size 1800x2160 with 3 Axes>"
            ],
            "image/png": "[encoded data removed]"
          },
          "metadata": {
            "needs_background": "light"
          }
        }
      ]
    },
    {
      "cell_type": "markdown",
      "source": [
        "**Fixing the skewness**"
      ],
      "metadata": {
        "id": "Nq8CVv0vgsUc"
      }
    },
    {
      "cell_type": "code",
      "source": [
        "# Handling the skewness of the distribution\n",
        "\n",
        "# Importing PowerTransformer\n",
        "from sklearn.preprocessing import PowerTransformer\n",
        "\n",
        "# Instantiate the powertransformer\n",
        "pt = PowerTransformer(copy=False)\n",
        "\n",
        "# Fit and transform the PT on training data\n",
        "X_train[scaled_vars] = pt.fit_transform(X_train[scaled_vars])\n",
        "\n",
        "# Transform the test set\n",
        "X_test[scaled_vars] = pt.transform(X_test[scaled_vars])"
      ],
      "metadata": {
        "id": "ZPYS70zLgd17"
      },
      "execution_count": 64,
      "outputs": []
    },
    {
      "cell_type": "code",
      "source": [
        "# plotting the histogram to see the skewness\n",
        "plt.figure(figsize=(25,30))\n",
        "i=0\n",
        "for col in scaled_vars:\n",
        "    i += 1\n",
        "    plt.subplot(8,5, i)\n",
        "    sns.distplot(X_train[col])\n",
        "plt.show()"
      ],
      "metadata": {
        "id": "gOklEwnsgzaG",
        "colab": {
          "base_uri": "https://localhost:8080/",
          "height": 236
        },
        "outputId": "905124d9-b905-4fd4-d417-8e4a9f39a52d"
      },
      "execution_count": 65,
      "outputs": [
        {
          "output_type": "display_data",
          "data": {
            "text/plain": [
              "<Figure size 1800x2160 with 3 Axes>"
            ],
            "image/png": "[encoded data removed]"
          },
          "metadata": {
            "needs_background": "light"
          }
        }
      ]
    },
    {
      "cell_type": "markdown",
      "source": [
        "**Model Building using Logistic Regression**"
      ],
      "metadata": {
        "id": "13WlgXRZzGkR"
      }
    },
    {
      "cell_type": "code",
      "source": [
        ""
      ],
      "metadata": {
        "id": "ebjpbWRehCtU"
      },
      "execution_count": 65,
      "outputs": []
    },
    {
      "cell_type": "code",
      "source": [
        "log_model = LogisticRegression()\n",
        "log_model.fit(X_train, y_train) "
      ],
      "metadata": {
        "id": "-GOjdKishiHh",
        "colab": {
          "base_uri": "https://localhost:8080/"
        },
        "outputId": "3b74ddfa-3704-4054-d0fd-58e6e25b3f04"
      },
      "execution_count": 66,
      "outputs": [
        {
          "output_type": "execute_result",
          "data": {
            "text/plain": [
              "LogisticRegression()"
            ]
          },
          "metadata": {},
          "execution_count": 66
        }
      ]
    },
    {
      "cell_type": "markdown",
      "source": [
        "**Balancing the data**"
      ],
      "metadata": {
        "id": "jgs5Oyaf0rCm"
      }
    },
    {
      "cell_type": "code",
      "source": [
        "# Importing over_sampling\n",
        "from imblearn import over_sampling\n",
        "\n",
        "# Instantiating ADASYN\n",
        "res = over_sampling.ADASYN(random_state=0)\n",
        "\n",
        "# Fitting ADASYN to the train set\n",
        "X_train_adasyn, y_train_adasyn = res.fit_resample(X_train, y_train)"
      ],
      "metadata": {
        "id": "F2625n_JlVl6"
      },
      "execution_count": 67,
      "outputs": []
    },
    {
      "cell_type": "code",
      "source": [
        "print('Before ADASYN oversampling X_train shape=',X_train.shape)\n",
        "print('After ADASYN oversampling X_train shape=',X_train_adasyn.shape)"
      ],
      "metadata": {
        "id": "MihabFKWvQG-",
        "colab": {
          "base_uri": "https://localhost:8080/"
        },
        "outputId": "f0e56e28-066f-430c-c6bc-52dac7eab1c2"
      },
      "execution_count": 68,
      "outputs": [
        {
          "output_type": "stream",
          "name": "stdout",
          "text": [
            "Before ADASYN oversampling X_train shape= (1296675, 51)\n",
            "After ADASYN oversampling X_train shape= (2577994, 51)\n"
          ]
        }
      ]
    },
    {
      "cell_type": "code",
      "source": [
        "params = {\"C\": [0.01, 0.1, 1, 10, 100, 1000]}"
      ],
      "metadata": {
        "id": "AMn8gTrDIRPZ"
      },
      "execution_count": 69,
      "outputs": []
    },
    {
      "cell_type": "code",
      "source": [
        "# Call RandomizedSearchCV()\n",
        "model_cv = RandomizedSearchCV(estimator = LogisticRegression(),\n",
        "                        param_distributions = params, \n",
        "                        scoring= 'roc_auc', \n",
        "                        cv = 5, \n",
        "                        verbose = 1,\n",
        "                        return_train_score=True) "
      ],
      "metadata": {
        "id": "IMjxcs0SIZfC"
      },
      "execution_count": 70,
      "outputs": []
    },
    {
      "cell_type": "code",
      "source": [
        "#fitting the model\n",
        "model_cv.fit(X_train_adasyn, y_train_adasyn)"
      ],
      "metadata": {
        "id": "uy65DszKIRe4",
        "colab": {
          "base_uri": "https://localhost:8080/"
        },
        "outputId": "602223b0-e8ee-457f-d583-3fbb03491935"
      },
      "execution_count": 71,
      "outputs": [
        {
          "output_type": "stream",
          "name": "stdout",
          "text": [
            "Fitting 5 folds for each of 6 candidates, totalling 30 fits\n"
          ]
        },
        {
          "output_type": "execute_result",
          "data": {
            "text/plain": [
              "RandomizedSearchCV(cv=5, estimator=LogisticRegression(),\n",
              "                   param_distributions={'C': [0.01, 0.1, 1, 10, 100, 1000]},\n",
              "                   return_train_score=True, scoring='roc_auc', verbose=1)"
            ]
          },
          "metadata": {},
          "execution_count": 71
        }
      ]
    },
    {
      "cell_type": "code",
      "source": [
        "#print the evaluation result by choosing a evaluation metric\n",
        "print('Best ROC AUC score: ', model_cv.best_score_)\n",
        "#print the optimum value of hyperparameters\n",
        "print('Best hyperparameters: ', model_cv.best_params_)"
      ],
      "metadata": {
        "id": "4PtnKRxgIdRt",
        "colab": {
          "base_uri": "https://localhost:8080/"
        },
        "outputId": "f4fd0fae-8ead-4c08-a25a-601453de61c6"
      },
      "execution_count": 72,
      "outputs": [
        {
          "output_type": "stream",
          "name": "stdout",
          "text": [
            "Best ROC AUC score:  0.9654496190327702\n",
            "Best hyperparameters:  {'C': 1}\n"
          ]
        }
      ]
    },
    {
      "cell_type": "code",
      "source": [
        "#cross validation results\n",
        "cv_results = pd.DataFrame(model_cv.cv_results_)\n",
        "cv_results"
      ],
      "metadata": {
        "id": "k93YePJBLdJC",
        "colab": {
          "base_uri": "https://localhost:8080/",
          "height": 388
        },
        "outputId": "b5670717-d815-4101-8148-a800365ec4c2"
      },
      "execution_count": 73,
      "outputs": [
        {
          "output_type": "execute_result",
          "data": {
            "text/plain": [
              "   mean_fit_time  std_fit_time  mean_score_time  std_score_time param_C  \\\n",
              "0      37.924954      1.850092         0.322173        0.005639    0.01   \n",
              "1      43.662705      1.646502         0.323867        0.008573     0.1   \n",
              "2      44.159816      2.319014         0.374017        0.080666       1   \n",
              "3      47.947025      3.509411         0.347269        0.015846      10   \n",
              "4      44.765823      3.359846         0.342886        0.010061     100   \n",
              "5      44.978311      3.348436         0.342230        0.004271    1000   \n",
              "\n",
              "        params  split0_test_score  split1_test_score  split2_test_score  \\\n",
              "0  {'C': 0.01}           0.966193           0.961670           0.966666   \n",
              "1   {'C': 0.1}           0.966009           0.962142           0.966804   \n",
              "2     {'C': 1}           0.965969           0.962176           0.966798   \n",
              "3    {'C': 10}           0.965964           0.962180           0.966797   \n",
              "4   {'C': 100}           0.965964           0.962180           0.966797   \n",
              "5  {'C': 1000}           0.965964           0.962180           0.966796   \n",
              "\n",
              "   split3_test_score  split4_test_score  mean_test_score  std_test_score  \\\n",
              "0           0.966458           0.965334         0.965264        0.001854   \n",
              "1           0.966795           0.965490         0.965448        0.001726   \n",
              "2           0.966817           0.965488         0.965450        0.001713   \n",
              "3           0.966819           0.965487         0.965450        0.001712   \n",
              "4           0.966820           0.965487         0.965450        0.001712   \n",
              "5           0.966819           0.965487         0.965449        0.001712   \n",
              "\n",
              "   rank_test_score  split0_train_score  split1_train_score  \\\n",
              "0                6            0.966148            0.966758   \n",
              "1                5            0.966343            0.966937   \n",
              "2                1            0.966348            0.966939   \n",
              "3                2            0.966348            0.966939   \n",
              "4                3            0.966348            0.966939   \n",
              "5                4            0.966348            0.966939   \n",
              "\n",
              "   split2_train_score  split3_train_score  split4_train_score  \\\n",
              "0            0.965385            0.965574            0.965799   \n",
              "1            0.965561            0.965756            0.965980   \n",
              "2            0.965563            0.965759            0.965982   \n",
              "3            0.965563            0.965759            0.965982   \n",
              "4            0.965563            0.965759            0.965982   \n",
              "5            0.965563            0.965759            0.965982   \n",
              "\n",
              "   mean_train_score  std_train_score  \n",
              "0          0.965933         0.000485  \n",
              "1          0.966115         0.000486  \n",
              "2          0.966118         0.000486  \n",
              "3          0.966118         0.000486  \n",
              "4          0.966118         0.000486  \n",
              "5          0.966118         0.000486  "
            ],
            "text/html": [
              "\n",
              "  <div id=\"df-23629cf3-0e89-4c1c-b15d-5642640baa6c\">\n",
              "    <div class=\"colab-df-container\">\n",
              "      <div>\n",
              "<style scoped>\n",
              "    .dataframe tbody tr th:only-of-type {\n",
              "        vertical-align: middle;\n",
              "    }\n",
              "\n",
              "    .dataframe tbody tr th {\n",
              "        vertical-align: top;\n",
              "    }\n",
              "\n",
              "    .dataframe thead th {\n",
              "        text-align: right;\n",
              "    }\n",
              "</style>\n",
              "<table border=\"1\" class=\"dataframe\">\n",
              "  <thead>\n",
              "    <tr style=\"text-align: right;\">\n",
              "      <th></th>\n",
              "      <th>mean_fit_time</th>\n",
              "      <th>std_fit_time</th>\n",
              "      <th>mean_score_time</th>\n",
              "      <th>std_score_time</th>\n",
              "      <th>param_C</th>\n",
              "      <th>params</th>\n",
              "      <th>split0_test_score</th>\n",
              "      <th>split1_test_score</th>\n",
              "      <th>split2_test_score</th>\n",
              "      <th>split3_test_score</th>\n",
              "      <th>split4_test_score</th>\n",
              "      <th>mean_test_score</th>\n",
              "      <th>std_test_score</th>\n",
              "      <th>rank_test_score</th>\n",
              "      <th>split0_train_score</th>\n",
              "      <th>split1_train_score</th>\n",
              "      <th>split2_train_score</th>\n",
              "      <th>split3_train_score</th>\n",
              "      <th>split4_train_score</th>\n",
              "      <th>mean_train_score</th>\n",
              "      <th>std_train_score</th>\n",
              "    </tr>\n",
              "  </thead>\n",
              "  <tbody>\n",
              "    <tr>\n",
              "      <th>0</th>\n",
              "      <td>37.924954</td>\n",
              "      <td>1.850092</td>\n",
              "      <td>0.322173</td>\n",
              "      <td>0.005639</td>\n",
              "      <td>0.01</td>\n",
              "      <td>{'C': 0.01}</td>\n",
              "      <td>0.966193</td>\n",
              "      <td>0.961670</td>\n",
              "      <td>0.966666</td>\n",
              "      <td>0.966458</td>\n",
              "      <td>0.965334</td>\n",
              "      <td>0.965264</td>\n",
              "      <td>0.001854</td>\n",
              "      <td>6</td>\n",
              "      <td>0.966148</td>\n",
              "      <td>0.966758</td>\n",
              "      <td>0.965385</td>\n",
              "      <td>0.965574</td>\n",
              "      <td>0.965799</td>\n",
              "      <td>0.965933</td>\n",
              "      <td>0.000485</td>\n",
              "    </tr>\n",
              "    <tr>\n",
              "      <th>1</th>\n",
              "      <td>43.662705</td>\n",
              "      <td>1.646502</td>\n",
              "      <td>0.323867</td>\n",
              "      <td>0.008573</td>\n",
              "      <td>0.1</td>\n",
              "      <td>{'C': 0.1}</td>\n",
              "      <td>0.966009</td>\n",
              "      <td>0.962142</td>\n",
              "      <td>0.966804</td>\n",
              "      <td>0.966795</td>\n",
              "      <td>0.965490</td>\n",
              "      <td>0.965448</td>\n",
              "      <td>0.001726</td>\n",
              "      <td>5</td>\n",
              "      <td>0.966343</td>\n",
              "      <td>0.966937</td>\n",
              "      <td>0.965561</td>\n",
              "      <td>0.965756</td>\n",
              "      <td>0.965980</td>\n",
              "      <td>0.966115</td>\n",
              "      <td>0.000486</td>\n",
              "    </tr>\n",
              "    <tr>\n",
              "      <th>2</th>\n",
              "      <td>44.159816</td>\n",
              "      <td>2.319014</td>\n",
              "      <td>0.374017</td>\n",
              "      <td>0.080666</td>\n",
              "      <td>1</td>\n",
              "      <td>{'C': 1}</td>\n",
              "      <td>0.965969</td>\n",
              "      <td>0.962176</td>\n",
              "      <td>0.966798</td>\n",
              "      <td>0.966817</td>\n",
              "      <td>0.965488</td>\n",
              "      <td>0.965450</td>\n",
              "      <td>0.001713</td>\n",
              "      <td>1</td>\n",
              "      <td>0.966348</td>\n",
              "      <td>0.966939</td>\n",
              "      <td>0.965563</td>\n",
              "      <td>0.965759</td>\n",
              "      <td>0.965982</td>\n",
              "      <td>0.966118</td>\n",
              "      <td>0.000486</td>\n",
              "    </tr>\n",
              "    <tr>\n",
              "      <th>3</th>\n",
              "      <td>47.947025</td>\n",
              "      <td>3.509411</td>\n",
              "      <td>0.347269</td>\n",
              "      <td>0.015846</td>\n",
              "      <td>10</td>\n",
              "      <td>{'C': 10}</td>\n",
              "      <td>0.965964</td>\n",
              "      <td>0.962180</td>\n",
              "      <td>0.966797</td>\n",
              "      <td>0.966819</td>\n",
              "      <td>0.965487</td>\n",
              "      <td>0.965450</td>\n",
              "      <td>0.001712</td>\n",
              "      <td>2</td>\n",
              "      <td>0.966348</td>\n",
              "      <td>0.966939</td>\n",
              "      <td>0.965563</td>\n",
              "      <td>0.965759</td>\n",
              "      <td>0.965982</td>\n",
              "      <td>0.966118</td>\n",
              "      <td>0.000486</td>\n",
              "    </tr>\n",
              "    <tr>\n",
              "      <th>4</th>\n",
              "      <td>44.765823</td>\n",
              "      <td>3.359846</td>\n",
              "      <td>0.342886</td>\n",
              "      <td>0.010061</td>\n",
              "      <td>100</td>\n",
              "      <td>{'C': 100}</td>\n",
              "      <td>0.965964</td>\n",
              "      <td>0.962180</td>\n",
              "      <td>0.966797</td>\n",
              "      <td>0.966820</td>\n",
              "      <td>0.965487</td>\n",
              "      <td>0.965450</td>\n",
              "      <td>0.001712</td>\n",
              "      <td>3</td>\n",
              "      <td>0.966348</td>\n",
              "      <td>0.966939</td>\n",
              "      <td>0.965563</td>\n",
              "      <td>0.965759</td>\n",
              "      <td>0.965982</td>\n",
              "      <td>0.966118</td>\n",
              "      <td>0.000486</td>\n",
              "    </tr>\n",
              "    <tr>\n",
              "      <th>5</th>\n",
              "      <td>44.978311</td>\n",
              "      <td>3.348436</td>\n",
              "      <td>0.342230</td>\n",
              "      <td>0.004271</td>\n",
              "      <td>1000</td>\n",
              "      <td>{'C': 1000}</td>\n",
              "      <td>0.965964</td>\n",
              "      <td>0.962180</td>\n",
              "      <td>0.966796</td>\n",
              "      <td>0.966819</td>\n",
              "      <td>0.965487</td>\n",
              "      <td>0.965449</td>\n",
              "      <td>0.001712</td>\n",
              "      <td>4</td>\n",
              "      <td>0.966348</td>\n",
              "      <td>0.966939</td>\n",
              "      <td>0.965563</td>\n",
              "      <td>0.965759</td>\n",
              "      <td>0.965982</td>\n",
              "      <td>0.966118</td>\n",
              "      <td>0.000486</td>\n",
              "    </tr>\n",
              "  </tbody>\n",
              "</table>\n",
              "</div>\n",
              "      <button class=\"colab-df-convert\" onclick=\"convertToInteractive('df-23629cf3-0e89-4c1c-b15d-5642640baa6c')\"\n",
              "              title=\"Convert this dataframe to an interactive table.\"\n",
              "              style=\"display:none;\">\n",
              "        \n",
              "  <svg xmlns=\"http://www.w3.org/2000/svg\" height=\"24px\"viewBox=\"0 0 24 24\"\n",
              "       width=\"24px\">\n",
              "    <path d=\"M0 0h24v24H0V0z\" fill=\"none\"/>\n",
              "    <path d=\"M18.56 5.44l.94 2.06.94-2.06 2.06-.94-2.06-.94-.94-2.06-.94 2.06-2.06.94zm-11 1L8.5 8.5l.94-2.06 2.06-.94-2.06-.94L8.5 2.5l-.94 2.06-2.06.94zm10 10l.94 2.06.94-2.06 2.06-.94-2.06-.94-.94-2.06-.94 2.06-2.06.94z\"/><path d=\"M17.41 7.96l-1.37-1.37c-.4-.4-.92-.59-1.43-.59-.52 0-1.04.2-1.43.59L10.3 9.45l-7.72 7.72c-.78.78-.78 2.05 0 2.83L4 21.41c.39.39.9.59 1.41.59.51 0 1.02-.2 1.41-.59l7.78-7.78 2.81-2.81c.8-.78.8-2.07 0-2.86zM5.41 20L4 18.59l7.72-7.72 1.47 1.35L5.41 20z\"/>\n",
              "  </svg>\n",
              "      </button>\n",
              "      \n",
              "  <style>\n",
              "    .colab-df-container {\n",
              "      display:flex;\n",
              "      flex-wrap:wrap;\n",
              "      gap: 12px;\n",
              "    }\n",
              "\n",
              "    .colab-df-convert {\n",
              "      background-color: #E8F0FE;\n",
              "      border: none;\n",
              "      border-radius: 50%;\n",
              "      cursor: pointer;\n",
              "      display: none;\n",
              "      fill: #1967D2;\n",
              "      height: 32px;\n",
              "      padding: 0 0 0 0;\n",
              "      width: 32px;\n",
              "    }\n",
              "\n",
              "    .colab-df-convert:hover {\n",
              "      background-color: #E2EBFA;\n",
              "      box-shadow: 0px 1px 2px rgba(60, 64, 67, 0.3), 0px 1px 3px 1px rgba(60, 64, 67, 0.15);\n",
              "      fill: #174EA6;\n",
              "    }\n",
              "\n",
              "    [theme=dark] .colab-df-convert {\n",
              "      background-color: #3B4455;\n",
              "      fill: #D2E3FC;\n",
              "    }\n",
              "\n",
              "    [theme=dark] .colab-df-convert:hover {\n",
              "      background-color: #434B5C;\n",
              "      box-shadow: 0px 1px 3px 1px rgba(0, 0, 0, 0.15);\n",
              "      filter: drop-shadow(0px 1px 2px rgba(0, 0, 0, 0.3));\n",
              "      fill: #FFFFFF;\n",
              "    }\n",
              "  </style>\n",
              "\n",
              "      <script>\n",
              "        const buttonEl =\n",
              "          document.querySelector('#df-23629cf3-0e89-4c1c-b15d-5642640baa6c button.colab-df-convert');\n",
              "        buttonEl.style.display =\n",
              "          google.colab.kernel.accessAllowed ? 'block' : 'none';\n",
              "\n",
              "        async function convertToInteractive(key) {\n",
              "          const element = document.querySelector('#df-23629cf3-0e89-4c1c-b15d-5642640baa6c');\n",
              "          const dataTable =\n",
              "            await google.colab.kernel.invokeFunction('convertToInteractive',\n",
              "                                                     [key], {});\n",
              "          if (!dataTable) return;\n",
              "\n",
              "          const docLinkHtml = 'Like what you see? Visit the ' +\n",
              "            '<a target=\"_blank\" href=https://colab.research.google.com/notebooks/data_table.ipynb>data table notebook</a>'\n",
              "            + ' to learn more about interactive tables.';\n",
              "          element.innerHTML = '';\n",
              "          dataTable['output_type'] = 'display_data';\n",
              "          await google.colab.output.renderOutput(dataTable, element);\n",
              "          const docLink = document.createElement('div');\n",
              "          docLink.innerHTML = docLinkHtml;\n",
              "          element.appendChild(docLink);\n",
              "        }\n",
              "      </script>\n",
              "    </div>\n",
              "  </div>\n",
              "  "
            ]
          },
          "metadata": {},
          "execution_count": 73
        }
      ]
    },
    {
      "cell_type": "code",
      "source": [
        "#Logistic regression with optimal value\n",
        "# Instantiating the model\n",
        "logreg_adasyn_model = LogisticRegression(C=1000)\n",
        "\n",
        "#fitting the model \n",
        "logreg_adasyn_model.fit(X_train_adasyn, y_train_adasyn)"
      ],
      "metadata": {
        "id": "UPjRYXXjwVah",
        "colab": {
          "base_uri": "https://localhost:8080/"
        },
        "outputId": "2b65eac5-d6ef-46e3-8059-2499af5db17b"
      },
      "execution_count": 74,
      "outputs": [
        {
          "output_type": "execute_result",
          "data": {
            "text/plain": [
              "LogisticRegression(C=1000)"
            ]
          },
          "metadata": {},
          "execution_count": 74
        }
      ]
    },
    {
      "cell_type": "code",
      "source": [
        ""
      ],
      "metadata": {
        "id": "vM0K3laA2D9F"
      },
      "execution_count": 74,
      "outputs": []
    },
    {
      "cell_type": "markdown",
      "source": [
        "**Evaluating on train data**"
      ],
      "metadata": {
        "id": "Byar0CdZ5e0b"
      }
    },
    {
      "cell_type": "code",
      "source": [
        "# Evaluating on train data\n",
        "y_train_pred = logreg_adasyn_model.predict(X_train_adasyn)\n",
        "\n",
        "print(f\"F1 Score: {round(metrics.f1_score(y_train_adasyn, y_train_pred)*100,2)}%\") \n",
        "print(metrics.classification_report(y_train_adasyn, y_train_pred))"
      ],
      "metadata": {
        "id": "wLlCkPJ5yRwT",
        "colab": {
          "base_uri": "https://localhost:8080/"
        },
        "outputId": "69673664-e200-4bca-dc08-43f0c3c2ce11"
      },
      "execution_count": 75,
      "outputs": [
        {
          "output_type": "stream",
          "name": "stdout",
          "text": [
            "F1 Score: 91.32%\n",
            "              precision    recall  f1-score   support\n",
            "\n",
            "           0       0.93      0.89      0.91   1289169\n",
            "           1       0.89      0.93      0.91   1288825\n",
            "\n",
            "    accuracy                           0.91   2577994\n",
            "   macro avg       0.91      0.91      0.91   2577994\n",
            "weighted avg       0.91      0.91      0.91   2577994\n",
            "\n"
          ]
        }
      ]
    },
    {
      "cell_type": "code",
      "source": [
        "# Confusion matrix\n",
        "confusion = metrics.confusion_matrix(y_train_adasyn, y_train_pred)\n",
        "print(confusion)"
      ],
      "metadata": {
        "id": "0Vk8PBBfyVST",
        "colab": {
          "base_uri": "https://localhost:8080/"
        },
        "outputId": "19c4c9b3-08f0-4f38-cca8-ae5f1f9a52c2"
      },
      "execution_count": 77,
      "outputs": [
        {
          "output_type": "stream",
          "name": "stdout",
          "text": [
            "[[1146762  142407]\n",
            " [  86256 1202569]]\n"
          ]
        }
      ]
    },
    {
      "cell_type": "markdown",
      "source": [
        "**Plotting the ROC curve**"
      ],
      "metadata": {
        "id": "N3bKGeZjDLwt"
      }
    },
    {
      "cell_type": "code",
      "source": [
        "# ROC function\n",
        "def draw_roc( actual, probs ):\n",
        "    fpr, tpr, thresholds = metrics.roc_curve( actual, probs,\n",
        "                                              drop_intermediate = False )\n",
        "    auc_score = metrics.roc_auc_score( actual, probs )\n",
        "    plt.figure(figsize=(5, 5))\n",
        "    plt.plot( fpr, tpr, label='ROC curve (area = %0.2f)' % auc_score )\n",
        "    plt.plot([0, 1], [0, 1], 'k--')\n",
        "    plt.xlim([0.0, 1.0])\n",
        "    plt.ylim([0.0, 1.05])\n",
        "    plt.xlabel('False Positive Rate or [1 - True Negative Rate]')\n",
        "    plt.ylabel('True Positive Rate')\n",
        "    plt.title('Receiver operating characteristic example')\n",
        "    plt.legend(loc=\"lower right\")\n",
        "    plt.show()\n",
        "\n",
        "    return None"
      ],
      "metadata": {
        "id": "EY4zgfy4DKMS"
      },
      "execution_count": 78,
      "outputs": []
    },
    {
      "cell_type": "code",
      "source": [
        "# Predicted probability\n",
        "y_train_pred_proba = logreg_adasyn_model.predict_proba(X_train_adasyn)[:,1]"
      ],
      "metadata": {
        "id": "BCRAVaK9DiRE"
      },
      "execution_count": 79,
      "outputs": []
    },
    {
      "cell_type": "code",
      "source": [
        "# Plot the ROC curve\n",
        "draw_roc(y_train_adasyn, y_train_pred_proba)"
      ],
      "metadata": {
        "id": "y4Cr86SKCfxO",
        "colab": {
          "base_uri": "https://localhost:8080/",
          "height": 350
        },
        "outputId": "24a66219-fc53-433f-edc0-737cc5c5192f"
      },
      "execution_count": 80,
      "outputs": [
        {
          "output_type": "display_data",
          "data": {
            "text/plain": [
              "<Figure size 360x360 with 1 Axes>"
            ],
            "image/png": "[encoded data removed]"
          },
          "metadata": {
            "needs_background": "light"
          }
        }
      ]
    },
    {
      "cell_type": "code",
      "source": [
        "print('Logreg model train AUC =', metrics.roc_auc_score(y_train_adasyn, y_train_pred_proba))\n",
        "fpr, tpr, thresholds = metrics.roc_curve(y_train_adasyn, y_train_pred_proba )"
      ],
      "metadata": {
        "id": "__g0US337NnO",
        "colab": {
          "base_uri": "https://localhost:8080/"
        },
        "outputId": "cb3a703a-93e8-4e56-ca18-c54b12056cbb"
      },
      "execution_count": 81,
      "outputs": [
        {
          "output_type": "stream",
          "name": "stdout",
          "text": [
            "Logreg model train AUC = 0.9659805295517119\n"
          ]
        }
      ]
    },
    {
      "cell_type": "markdown",
      "source": [
        "**Evaluating on test data**"
      ],
      "metadata": {
        "id": "J0g3dWM6MMrC"
      }
    },
    {
      "cell_type": "code",
      "source": [
        "# Evaluating on test data\n",
        "y_pred = logreg_adasyn_model.predict(X_test)\n"
      ],
      "metadata": {
        "id": "So_V4hB0y4M0"
      },
      "execution_count": 82,
      "outputs": []
    },
    {
      "cell_type": "code",
      "source": [
        "print(f\"F1 Score: {round(metrics.f1_score(y_test, y_pred)*100,2)}%\") \n",
        "print(metrics.classification_report(y_test, y_pred))"
      ],
      "metadata": {
        "id": "3YcD7oQX0hX1",
        "colab": {
          "base_uri": "https://localhost:8080/"
        },
        "outputId": "a247a216-6457-45f9-f922-4ec74cb3df56"
      },
      "execution_count": 84,
      "outputs": [
        {
          "output_type": "stream",
          "name": "stdout",
          "text": [
            "F1 Score: 3.13%\n",
            "              precision    recall  f1-score   support\n",
            "\n",
            "           0       1.00      0.93      0.96    553574\n",
            "           1       0.02      0.29      0.03      2145\n",
            "\n",
            "    accuracy                           0.93    555719\n",
            "   macro avg       0.51      0.61      0.50    555719\n",
            "weighted avg       0.99      0.93      0.96    555719\n",
            "\n"
          ]
        }
      ]
    },
    {
      "cell_type": "code",
      "source": [
        "#confusion matrix\n",
        "confusion = metrics.confusion_matrix(y_test, y_pred)\n",
        "print(confusion)"
      ],
      "metadata": {
        "colab": {
          "base_uri": "https://localhost:8080/"
        },
        "id": "R79yY2TJlh6K",
        "outputId": "9f8f186e-71f0-4a67-a905-8e397911a11d"
      },
      "execution_count": 87,
      "outputs": [
        {
          "output_type": "stream",
          "name": "stdout",
          "text": [
            "[[517092  36482]\n",
            " [  1531    614]]\n"
          ]
        }
      ]
    },
    {
      "cell_type": "code",
      "source": [
        "# Predicted probability\n",
        "y_test_pred_proba = logreg_adasyn_model.predict_proba(X_test)[:,1]"
      ],
      "metadata": {
        "id": "BTgLHFLlB5uI"
      },
      "execution_count": 88,
      "outputs": []
    },
    {
      "cell_type": "code",
      "source": [
        "# Plotting the ROC curve\n",
        "draw_roc(y_test, y_test_pred_proba)"
      ],
      "metadata": {
        "id": "3OlCnt0lBYOD",
        "colab": {
          "base_uri": "https://localhost:8080/",
          "height": 350
        },
        "outputId": "7db2b3ad-b381-4582-bc3b-e6ba6ee5e213"
      },
      "execution_count": 89,
      "outputs": [
        {
          "output_type": "display_data",
          "data": {
            "text/plain": [
              "<Figure size 360x360 with 1 Axes>"
            ],
            "image/png": "[encoded data removed]"
          },
          "metadata": {
            "needs_background": "light"
          }
        }
      ]
    },
    {
      "cell_type": "markdown",
      "source": [
        "**Model summary**\n",
        "\n",
        "**Train set**\n",
        "\n",
        "AUC-ROC: 0.97\n",
        "\n",
        "**Test set**\n",
        "\n",
        "AUC-ROC: 0.73"
      ],
      "metadata": {
        "id": "LRYRyion2nx9"
      }
    },
    {
      "cell_type": "markdown",
      "source": [
        "**Model Building using Decision Tree**\n",
        "\n"
      ],
      "metadata": {
        "id": "rQcm2bSx3ENt"
      }
    },
    {
      "cell_type": "code",
      "source": [
        "params = {\n",
        "    'max_depth': range(5, 15, 5),\n",
        "    'min_samples_leaf': range(50, 150, 50),\n",
        "    'min_samples_split': range(50, 150, 50),\n",
        "}"
      ],
      "metadata": {
        "id": "ZtSvXhqG2fTj"
      },
      "execution_count": 90,
      "outputs": []
    },
    {
      "cell_type": "code",
      "source": [
        "# Instantiate the grid search model\n",
        "dtree = DecisionTreeClassifier()"
      ],
      "metadata": {
        "id": "aC7aUg1P6BO1"
      },
      "execution_count": 91,
      "outputs": []
    },
    {
      "cell_type": "code",
      "source": [
        "model_cv = RandomizedSearchCV(estimator = dtree, \n",
        "                           param_distributions = params, \n",
        "                           scoring= 'roc_auc',\n",
        "                           cv = 5, \n",
        "                           n_jobs=-1,\n",
        "                           verbose = 1)"
      ],
      "metadata": {
        "id": "Kvd40F3X5gcL"
      },
      "execution_count": 92,
      "outputs": []
    },
    {
      "cell_type": "code",
      "source": [
        "# Fitting the model\n",
        "model_cv.fit(X_train_adasyn,y_train_adasyn)"
      ],
      "metadata": {
        "id": "ydbxwW1l5rHZ",
        "colab": {
          "base_uri": "https://localhost:8080/"
        },
        "outputId": "164e5660-6e77-45f5-e3c0-078db534fc26"
      },
      "execution_count": 93,
      "outputs": [
        {
          "output_type": "stream",
          "name": "stdout",
          "text": [
            "Fitting 5 folds for each of 8 candidates, totalling 40 fits\n"
          ]
        },
        {
          "output_type": "execute_result",
          "data": {
            "text/plain": [
              "RandomizedSearchCV(cv=5, estimator=DecisionTreeClassifier(), n_jobs=-1,\n",
              "                   param_distributions={'max_depth': range(5, 15, 5),\n",
              "                                        'min_samples_leaf': range(50, 150, 50),\n",
              "                                        'min_samples_split': range(50, 150, 50)},\n",
              "                   scoring='roc_auc', verbose=1)"
            ]
          },
          "metadata": {},
          "execution_count": 93
        }
      ]
    },
    {
      "cell_type": "code",
      "source": [
        "#printing the optimal roc score\n",
        "print('Best ROC AUC score: ', model_cv.best_score_)\n",
        "#printing the optimum value of hyperparameters\n",
        "print('Best hyperparameters: ', model_cv.best_estimator_)"
      ],
      "metadata": {
        "id": "5j3smiW97-N3",
        "colab": {
          "base_uri": "https://localhost:8080/"
        },
        "outputId": "ecb85c1a-bf71-4004-b721-d4c16bcac72e"
      },
      "execution_count": 94,
      "outputs": [
        {
          "output_type": "stream",
          "name": "stdout",
          "text": [
            "Best ROC AUC score:  0.980891877409686\n",
            "Best hyperparameters:  DecisionTreeClassifier(max_depth=10, min_samples_leaf=50, min_samples_split=100)\n"
          ]
        }
      ]
    },
    {
      "cell_type": "code",
      "source": [
        "# Model with optimal hyperparameters\n",
        "dt_adasyn_model = DecisionTreeClassifier(criterion = \"gini\", \n",
        "                                  random_state = 0,\n",
        "                                  max_depth=10, \n",
        "                                  min_samples_leaf=50,\n",
        "                                  min_samples_split=100)\n",
        "\n",
        "dt_adasyn_model.fit(X_train_adasyn, y_train_adasyn)"
      ],
      "metadata": {
        "id": "kBCT0ryG-XWp",
        "colab": {
          "base_uri": "https://localhost:8080/"
        },
        "outputId": "fc20ccc4-c31a-4c52-9d00-91b648e1df8d"
      },
      "execution_count": 95,
      "outputs": [
        {
          "output_type": "execute_result",
          "data": {
            "text/plain": [
              "DecisionTreeClassifier(max_depth=10, min_samples_leaf=50, min_samples_split=100,\n",
              "                       random_state=0)"
            ]
          },
          "metadata": {},
          "execution_count": 95
        }
      ]
    },
    {
      "cell_type": "markdown",
      "source": [
        "**Evaluating on train data**"
      ],
      "metadata": {
        "id": "g0DIoPav-hQi"
      }
    },
    {
      "cell_type": "code",
      "source": [
        "# Evaluating the model on the train dataset\n",
        "y_train_pred = dt_adasyn_model.predict(X_train_adasyn)\n",
        "\n",
        "print(f\"F1 Score: {round(metrics.f1_score(y_train_adasyn, y_train_pred)*100,2)}%\") \n",
        "print(metrics.classification_report(y_train_adasyn, y_train_pred))"
      ],
      "metadata": {
        "id": "xWyVWPq1-ku0",
        "colab": {
          "base_uri": "https://localhost:8080/"
        },
        "outputId": "9611326e-6a28-4ee0-bf70-8b2f1c1b3dc7"
      },
      "execution_count": 96,
      "outputs": [
        {
          "output_type": "stream",
          "name": "stdout",
          "text": [
            "F1 Score: 95.18%\n",
            "              precision    recall  f1-score   support\n",
            "\n",
            "           0       0.96      0.94      0.95   1289169\n",
            "           1       0.94      0.96      0.95   1288825\n",
            "\n",
            "    accuracy                           0.95   2577994\n",
            "   macro avg       0.95      0.95      0.95   2577994\n",
            "weighted avg       0.95      0.95      0.95   2577994\n",
            "\n"
          ]
        }
      ]
    },
    {
      "cell_type": "code",
      "source": [
        "# Confusion matrix\n",
        "confusion = metrics.confusion_matrix(y_train_adasyn, y_train_pred)\n",
        "print(confusion)"
      ],
      "metadata": {
        "colab": {
          "base_uri": "https://localhost:8080/"
        },
        "id": "LqjY54kW9SHP",
        "outputId": "0f1421b4-ef4f-4c92-ce4e-2f99da2ea4bc"
      },
      "execution_count": 98,
      "outputs": [
        {
          "output_type": "stream",
          "name": "stdout",
          "text": [
            "[[1209653   79516]\n",
            " [  46257 1242568]]\n"
          ]
        }
      ]
    },
    {
      "cell_type": "code",
      "source": [
        "# Predicted probability\n",
        "y_train_pred_proba = dt_adasyn_model.predict_proba(X_train_adasyn)[:,1]"
      ],
      "metadata": {
        "id": "tIYiIuxlEaG9"
      },
      "execution_count": 99,
      "outputs": []
    },
    {
      "cell_type": "code",
      "source": [
        "# Plot the ROC curve\n",
        "draw_roc(y_train_adasyn, y_train_pred_proba)"
      ],
      "metadata": {
        "id": "Q5USxoHnEfVH",
        "colab": {
          "base_uri": "https://localhost:8080/",
          "height": 350
        },
        "outputId": "5f2c2c4a-baf0-4013-9763-9f6f8c4e2d11"
      },
      "execution_count": 100,
      "outputs": [
        {
          "output_type": "display_data",
          "data": {
            "text/plain": [
              "<Figure size 360x360 with 1 Axes>"
            ],
            "image/png": "[encoded data removed]"
          },
          "metadata": {
            "needs_background": "light"
          }
        }
      ]
    },
    {
      "cell_type": "markdown",
      "source": [
        "**Evaluating on test data**"
      ],
      "metadata": {
        "id": "TP8GGFRq-xPv"
      }
    },
    {
      "cell_type": "code",
      "source": [
        "# Evaluating model on the test data\n",
        "y_test_pred = dt_adasyn_model.predict(X_test)\n",
        "\n",
        "\n",
        "print(f\"F1 Score: {round(metrics.f1_score(y_test, y_test_pred)*100,2)}%\") \n",
        "print(metrics.classification_report(y_test, y_test_pred))"
      ],
      "metadata": {
        "id": "1cZAO3iF-vVR",
        "colab": {
          "base_uri": "https://localhost:8080/"
        },
        "outputId": "b2d8e3f5-037a-416a-99c3-7c743bcbb351"
      },
      "execution_count": 101,
      "outputs": [
        {
          "output_type": "stream",
          "name": "stdout",
          "text": [
            "F1 Score: 9.92%\n",
            "              precision    recall  f1-score   support\n",
            "\n",
            "           0       1.00      0.93      0.97    553574\n",
            "           1       0.05      0.93      0.10      2145\n",
            "\n",
            "    accuracy                           0.93    555719\n",
            "   macro avg       0.53      0.93      0.53    555719\n",
            "weighted avg       1.00      0.93      0.96    555719\n",
            "\n"
          ]
        }
      ]
    },
    {
      "cell_type": "code",
      "source": [
        "# Confusion matrix\n",
        "confusion = metrics.confusion_matrix(y_test, y_test_pred)\n",
        "print(confusion)"
      ],
      "metadata": {
        "colab": {
          "base_uri": "https://localhost:8080/"
        },
        "id": "tXS85at4ls0I",
        "outputId": "e22ac5a0-bbb6-4491-fd8a-ac4a31c1048a"
      },
      "execution_count": 102,
      "outputs": [
        {
          "output_type": "stream",
          "name": "stdout",
          "text": [
            "[[517419  36155]\n",
            " [   147   1998]]\n"
          ]
        }
      ]
    },
    {
      "cell_type": "code",
      "source": [
        "# Predicted probability\n",
        "y_test_pred_proba = dt_adasyn_model.predict_proba(X_test)[:,1]"
      ],
      "metadata": {
        "id": "rrOV-pAgEmxE"
      },
      "execution_count": 103,
      "outputs": []
    },
    {
      "cell_type": "code",
      "source": [
        "# Plot the ROC curve\n",
        "draw_roc(y_test, y_test_pred_proba)"
      ],
      "metadata": {
        "id": "7e6K13POEnCt",
        "colab": {
          "base_uri": "https://localhost:8080/",
          "height": 350
        },
        "outputId": "fbaabb30-2e63-44a2-f87c-3d26bfda72fd"
      },
      "execution_count": 104,
      "outputs": [
        {
          "output_type": "display_data",
          "data": {
            "text/plain": [
              "<Figure size 360x360 with 1 Axes>"
            ],
            "image/png": "[encoded data removed]"
          },
          "metadata": {
            "needs_background": "light"
          }
        }
      ]
    },
    {
      "cell_type": "markdown",
      "source": [
        "**Model summary**\n",
        "\n",
        "**Train set**\n",
        "\n",
        "AUC-ROC: 0.99\n",
        "\n",
        "**Test set**\n",
        "\n",
        "AUC-ROC: 0.97\n"
      ],
      "metadata": {
        "id": "kNo7r6c0-9SQ"
      }
    },
    {
      "cell_type": "markdown",
      "source": [
        "**Model Building using XGBoost**\n",
        "\n"
      ],
      "metadata": {
        "id": "mdsCb792AvMk"
      }
    },
    {
      "cell_type": "code",
      "source": [
        "param_grid = {'learning_rate': [0.2, 0.6], \n",
        "             'subsample': [0.3, 0.6, 0.9]}  "
      ],
      "metadata": {
        "id": "DDSknwW8-oiO"
      },
      "execution_count": 105,
      "outputs": []
    },
    {
      "cell_type": "code",
      "source": [
        "# Instantiate the grid search model\n",
        "xgb_model = XGBClassifier(max_depth=2, n_estimators=200)"
      ],
      "metadata": {
        "id": "32Ywxna_RQZC"
      },
      "execution_count": 106,
      "outputs": []
    },
    {
      "cell_type": "code",
      "source": [
        "# set up RandomizedSearchCV()\n",
        "model_cv = RandomizedSearchCV(estimator = xgb_model, \n",
        "                        param_distributions = param_grid, \n",
        "                        scoring= 'roc_auc', \n",
        "                        cv = 5, \n",
        "                        verbose = 1,\n",
        "                        return_train_score=True) "
      ],
      "metadata": {
        "id": "wZBjHDtvRQkw"
      },
      "execution_count": 107,
      "outputs": []
    },
    {
      "cell_type": "code",
      "source": [
        "#fitting the model\n",
        "model_cv.fit(X_train_adasyn, y_train_adasyn)"
      ],
      "metadata": {
        "id": "D-NkutSiCSPU",
        "colab": {
          "base_uri": "https://localhost:8080/"
        },
        "outputId": "953f683f-9fcd-4d32-fcc9-e0aa3ba63554"
      },
      "execution_count": null,
      "outputs": [
        {
          "output_type": "stream",
          "name": "stdout",
          "text": [
            "Fitting 5 folds for each of 6 candidates, totalling 30 fits\n"
          ]
        }
      ]
    },
    {
      "cell_type": "code",
      "source": [
        "#printing the optimal roc score\n",
        "print('Best ROC AUC score: ', model_cv.best_score_)\n",
        "#printing the optimum value of hyperparameters\n",
        "print('Best hyperparameters: ', model_cv.best_estimator_)"
      ],
      "metadata": {
        "id": "HvFgx6ZeCSWh"
      },
      "execution_count": null,
      "outputs": []
    },
    {
      "cell_type": "code",
      "source": [
        "params = {'learning_rate': 0.6,\n",
        "          'max_depth': 2, \n",
        "          'n_estimators':200,\n",
        "          'subsample':0.9,\n",
        "          'objective':'binary:logistic'}"
      ],
      "metadata": {
        "id": "mpnxXjWOCSdc"
      },
      "execution_count": null,
      "outputs": []
    },
    {
      "cell_type": "code",
      "source": [
        "#model with optimal hyperparameters\n",
        "xgb_adasyn_model = XGBClassifier(params = params)"
      ],
      "metadata": {
        "id": "c7pqqgUcL5QT"
      },
      "execution_count": null,
      "outputs": []
    },
    {
      "cell_type": "code",
      "source": [
        "xgb_adasyn_model.fit(X_train_adasyn,y_train_adasyn)"
      ],
      "metadata": {
        "id": "OHolnmLKL5Yp"
      },
      "execution_count": null,
      "outputs": []
    },
    {
      "cell_type": "markdown",
      "source": [
        "**Evaluating on train data**"
      ],
      "metadata": {
        "id": "j7sgb8cnMpsU"
      }
    },
    {
      "cell_type": "code",
      "source": [
        "#predicting on the train set\n",
        "y_train_pred = xgb_adasyn_model.predict(X_train_adasyn)\n",
        "\n",
        "#printing the scores\n",
        "print(f\"F1 Score: {round(metrics.f1_score(y_train_adasyn, y_train_pred)*100,2)}%\") \n",
        "print(metrics.classification_report(y_train_adasyn, y_train_pred))"
      ],
      "metadata": {
        "id": "m8g90AT7MWIL"
      },
      "execution_count": null,
      "outputs": []
    },
    {
      "cell_type": "code",
      "source": [
        "#confusion matrix\n",
        "confusion = metrics.confusion_matrix(y_train_adasyn, y_train_pred)\n",
        "print(confusion)"
      ],
      "metadata": {
        "id": "GpzTjUc49az9"
      },
      "execution_count": null,
      "outputs": []
    },
    {
      "cell_type": "code",
      "source": [
        "#predicted probability\n",
        "y_train_pred_proba = xgb_adasyn_model.predict_proba(X_train_adasyn)[:,1]\n"
      ],
      "metadata": {
        "id": "ai_Jp-bpMWPN"
      },
      "execution_count": null,
      "outputs": []
    },
    {
      "cell_type": "code",
      "source": [
        "# Plot the ROC curve\n",
        "draw_roc(y_train_adasyn, y_train_pred_proba)"
      ],
      "metadata": {
        "id": "dLNqJbkeMWY7"
      },
      "execution_count": null,
      "outputs": []
    },
    {
      "cell_type": "code",
      "source": [
        "print('Train auc =', metrics.roc_auc_score(y_train_adasyn, y_train_pred_proba))\n",
        "fpr, tpr, thresholds = metrics.roc_curve(y_train_adasyn, y_train_pred_proba )"
      ],
      "metadata": {
        "id": "Wrcdj0T2MWle"
      },
      "execution_count": null,
      "outputs": []
    },
    {
      "cell_type": "markdown",
      "source": [
        "**Evaluating on test data**"
      ],
      "metadata": {
        "id": "RGkOceTYNHNk"
      }
    },
    {
      "cell_type": "code",
      "source": [
        "y_test_pred = xgb_adasyn_model.predict(X_test)"
      ],
      "metadata": {
        "id": "ag353ryiNDlu"
      },
      "execution_count": null,
      "outputs": []
    },
    {
      "cell_type": "code",
      "source": [
        "print(f\"F1 Score: {round(metrics.f1_score(y_test, y_test_pred)*100,2)}%\") \n",
        "print(metrics.classification_report(y_test, y_test_pred))"
      ],
      "metadata": {
        "id": "QzfheE_yNDuJ"
      },
      "execution_count": null,
      "outputs": []
    },
    {
      "cell_type": "code",
      "source": [
        "# Confusion matrix\n",
        "confusion = metrics.confusion_matrix(y_test, y_test_pred)\n",
        "print(confusion)"
      ],
      "metadata": {
        "id": "3Dlp9QGN02oc"
      },
      "execution_count": null,
      "outputs": []
    },
    {
      "cell_type": "code",
      "source": [
        "# Predicted probability\n",
        "y_test_pred_proba = xgb_adasyn_model.predict_proba(X_test)[:,1]\n"
      ],
      "metadata": {
        "id": "gfbkXqNDND_I"
      },
      "execution_count": null,
      "outputs": []
    },
    {
      "cell_type": "code",
      "source": [
        "# Plot the ROC curve\n",
        "draw_roc(y_test, y_test_pred_proba)"
      ],
      "metadata": {
        "id": "tiw28j9nNZ2Z"
      },
      "execution_count": null,
      "outputs": []
    },
    {
      "cell_type": "markdown",
      "source": [
        "**Model summary**\n",
        "\n",
        "**Train set**\n",
        "\n",
        "AUC-ROC: 0.99\n",
        "\n",
        "**Test set**\n",
        "\n",
        "AUC-ROC: 0.98"
      ],
      "metadata": {
        "id": "kadpt7TVNhsw"
      }
    },
    {
      "cell_type": "markdown",
      "source": [
        "**Cost Benefit Anaysis**"
      ],
      "metadata": {
        "id": "gLjdW-BaTqid"
      }
    },
    {
      "cell_type": "code",
      "source": [
        "#creating the Subset of non- Predicted Train Dataset\n",
        "df_train_subset = df_train[['trans_date_trans_time','trans_year_month','cc_num','amt','trans_num','is_fraud']]\n",
        "df_train_subset.head()"
      ],
      "metadata": {
        "id": "5x_wEmR1RQvD"
      },
      "execution_count": null,
      "outputs": []
    },
    {
      "cell_type": "code",
      "source": [
        "#creating dataframe of y_train_pred\n",
        "df_train_pred = pd.DataFrame(y_train_pred)\n",
        "df_train_pred.head()"
      ],
      "metadata": {
        "id": "Ov0EcownRc5V"
      },
      "execution_count": null,
      "outputs": []
    },
    {
      "cell_type": "code",
      "source": [
        "#merging the two dataframes\n",
        "df_train_final = pd.concat([df_train_subset, df_train_pred],axis=1)\n",
        "df_train_final.head()"
      ],
      "metadata": {
        "id": "XLI_YTlrRjjg"
      },
      "execution_count": null,
      "outputs": []
    },
    {
      "cell_type": "code",
      "source": [
        "#renaming the column\n",
        "df_train_final= df_train_final.rename(columns={ 0 : 'is_fraud_pred'})\n",
        "df_train_final.head()"
      ],
      "metadata": {
        "id": "jbLYjUz5Rry0"
      },
      "execution_count": null,
      "outputs": []
    },
    {
      "cell_type": "code",
      "source": [
        "df_train_final.groupby('is_fraud')['is_fraud'].count()"
      ],
      "metadata": {
        "id": "-RXyeJ2ARyqC"
      },
      "execution_count": null,
      "outputs": []
    },
    {
      "cell_type": "code",
      "source": [
        "df_train_final.groupby('is_fraud_pred')['is_fraud_pred'].count()"
      ],
      "metadata": {
        "id": "KVVRgqWDSDwr"
      },
      "execution_count": null,
      "outputs": []
    },
    {
      "cell_type": "code",
      "source": [
        "#subset of df_test\n",
        "df_test_subset = df_test[['trans_date_trans_time','trans_year_month','cc_num','amt','trans_num','is_fraud']]\n",
        "df_test_subset.head()"
      ],
      "metadata": {
        "id": "2NNPO3S9SHNC"
      },
      "execution_count": null,
      "outputs": []
    },
    {
      "cell_type": "code",
      "source": [
        "#creating dataframe of y_test_pred\n",
        "\n",
        "df_test_pred = pd.DataFrame(y_test_pred)\n",
        "df_test_pred.head()"
      ],
      "metadata": {
        "id": "W_NAGYcCSKea"
      },
      "execution_count": null,
      "outputs": []
    },
    {
      "cell_type": "code",
      "source": [
        "#merging the two dataframes\n",
        "df_test_final = pd.concat([df_test_subset, df_test_pred],axis=1)\n",
        "df_test_final.head()"
      ],
      "metadata": {
        "id": "Vs2Y-Ot_SNGL"
      },
      "execution_count": null,
      "outputs": []
    },
    {
      "cell_type": "code",
      "source": [
        "#renaming the column\n",
        "df_test_final= df_test_final.rename(columns={ 0 : 'is_fraud_pred'})\n",
        "df_test_final.head()"
      ],
      "metadata": {
        "id": "6Ms2K_kbSQJv"
      },
      "execution_count": null,
      "outputs": []
    },
    {
      "cell_type": "code",
      "source": [
        "df_test_final.groupby('is_fraud')['is_fraud'].count()"
      ],
      "metadata": {
        "id": "nIdGrJBQSUPg"
      },
      "execution_count": null,
      "outputs": []
    },
    {
      "cell_type": "code",
      "source": [
        "df_test_final.groupby('is_fraud_pred')['is_fraud_pred'].count()"
      ],
      "metadata": {
        "id": "2FQ8ZlG6SWmm"
      },
      "execution_count": null,
      "outputs": []
    },
    {
      "cell_type": "code",
      "source": [
        "#merging both train and test dataset for cost benefit analysis\n",
        "\n",
        "df_merged = pd.concat([df_train_final, df_test_final],axis=0)\n",
        "df_merged.head()"
      ],
      "metadata": {
        "id": "z7DfHMCfSZ3R"
      },
      "execution_count": null,
      "outputs": []
    },
    {
      "cell_type": "code",
      "source": [
        "#Number of transactions and number of customers seen per month \n",
        "\n",
        "trans_df= df_merged.groupby(df_merged['trans_year_month'])[['trans_num','cc_num']].nunique().reset_index()\n",
        "trans_df.columns = ['year_month','Number of Transactions','Number of customers']\n",
        "trans_df"
      ],
      "metadata": {
        "id": "Pwq2q-s7Sd3A"
      },
      "execution_count": null,
      "outputs": []
    },
    {
      "cell_type": "code",
      "source": [
        "#Number of fraud transctions and fraud customers seen per month\n",
        "\n",
        "fraud_trans_df = df_merged[df_merged['is_fraud']==1]\n",
        "\n",
        "fraud_trans_df = fraud_trans_df.groupby(fraud_trans_df['trans_year_month'])[['trans_num','cc_num']].nunique().reset_index()\n",
        "fraud_trans_df.columns = ['year_month','Number of fraud Transactions','Number of fraud customers']\n",
        "fraud_trans_df"
      ],
      "metadata": {
        "id": "OVyAAMy8SqCg"
      },
      "execution_count": null,
      "outputs": []
    },
    {
      "cell_type": "markdown",
      "source": [
        "**Part I: Analyse the dataset and find the following figures**\n",
        "\n",
        "\n",
        "*   Average number of transactions per month\n",
        "*   Average number of fraudulent transactions per month\n",
        "*   Average amount per fraudulent transaction\n",
        "\n",
        "\n",
        " \n",
        "\n",
        "\n",
        "\n"
      ],
      "metadata": {
        "id": "eTbURFQqbFiM"
      }
    },
    {
      "cell_type": "code",
      "source": [
        ""
      ],
      "metadata": {
        "id": "kXzugNZlStTV"
      },
      "execution_count": null,
      "outputs": []
    },
    {
      "cell_type": "code",
      "source": [
        "#Average Number of transactions by year_month\n",
        "a = round(trans_df['Number of Transactions'].mean(),2)\n",
        "print(round(a,2))"
      ],
      "metadata": {
        "id": "g8yXqN2nSyuY"
      },
      "execution_count": null,
      "outputs": []
    },
    {
      "cell_type": "code",
      "source": [
        "#Average number of fraudulent transactions per year_month(b)\n",
        "b = round(fraud_trans_df['Number of fraud Transactions'].mean(),2)\n",
        "print(round(b,2))"
      ],
      "metadata": {
        "id": "Cx_PfZmDSz2t"
      },
      "execution_count": null,
      "outputs": []
    },
    {
      "cell_type": "code",
      "source": [
        "# Average amount per fraud transaction(c)\n",
        "c = round(df_merged[df_merged['is_fraud']==1].amt.mean(),2)\n",
        "print(round(c,2))"
      ],
      "metadata": {
        "id": "Qdmwtl1fS2hc"
      },
      "execution_count": null,
      "outputs": []
    },
    {
      "cell_type": "markdown",
      "source": [
        "**Part II: Compare the cost incurred per month by the bank before and after the model deployment**\n",
        "\n",
        "Cost incurred per month before the model was deployed = Average amount per fraudulent transaction * Average number of fraudulent transactions per month\n",
        "\n",
        "Cost incurred per month after the model is built and deployed: Let TF be the average number of transactions per month detected as fraudulent by the model and let the cost of providing customer executive support per fraudulent transaction detected by the model = $1.5\n",
        "\n",
        "Total cost of providing customer support per month for fraudulent transactions detected by the model = 1.5 * TF. Let FN be the average number of transactions per month that are fraudulent but not detected by the model\n",
        "\n",
        "Cost incurred due to these fraudulent transactions left undetected by the model = Average amount per fraudulent transaction * FN\n",
        "\n",
        "Therefore, the cost incurred per month after the model is built and deployed = 1.5*TF + Average amount per fraudulent transaction * FN\n",
        "\n",
        "Final savings = Cost incurred before - Cost incurred after."
      ],
      "metadata": {
        "id": "JloBubaUbmcp"
      }
    },
    {
      "cell_type": "code",
      "source": [
        "#Cost incurred per month before the model was deployed (b*c)\n",
        "#fraud_trans_df['Number of fraud Transactions'].mean()*df_merged[df_merged['is_fraud']==1].amt.mean()\n",
        "print(round(b*c,2))"
      ],
      "metadata": {
        "id": "_W8SZP8OS95g"
      },
      "execution_count": null,
      "outputs": []
    },
    {
      "cell_type": "code",
      "source": [
        "# Average number of transactions per month detected as fraudulent by the model (TF)\n",
        "TF = round(df_merged[df_merged['is_fraud_pred']==1].trans_num.count()/24,2)\n",
        "print(TF)\n"
      ],
      "metadata": {
        "id": "l20PI91OS-oC"
      },
      "execution_count": null,
      "outputs": []
    },
    {
      "cell_type": "code",
      "source": [
        "# Cost of providing customer executive support per fraudulent transaction detected by the model = $1.5\n",
        "# Total cost of providing customer support per month for fraudulent transactions detected by the model (TF*$1.5)\n",
        "# df_merged[df_merged['is_fraud_pred']==1].trans_num.count()/24*1.5\n",
        "customer_support_cost = round(TF*1.5,2)\n",
        "print(customer_support_cost)"
      ],
      "metadata": {
        "id": "68s0lWLATBRD"
      },
      "execution_count": null,
      "outputs": []
    },
    {
      "cell_type": "code",
      "source": [
        "# Average number of transactions per month that are fraudulent but not detected by the model (FN)\n",
        "undetected_frauds = df_merged.loc[(df_merged.is_fraud_pred==0) & (df_merged.is_fraud==1)]\n",
        "FN = round(undetected_frauds.trans_num.count()/24,2)\n",
        "print(FN)"
      ],
      "metadata": {
        "id": "6hchpm6qTEwj"
      },
      "execution_count": null,
      "outputs": []
    },
    {
      "cell_type": "code",
      "source": [
        "#cost incurred due to fraudulent transactions left undetected by the model (FN*c)\n",
        "\n",
        "#undetected_frauds.trans_num.count()/24 * df_merged[df_merged['is_fraud']==1].amt.mean()\n",
        "undetected_fraud_cost = round(FN*c,2)\n",
        "print(undetected_fraud_cost)"
      ],
      "metadata": {
        "id": "yGfRf-vfTHOG"
      },
      "execution_count": null,
      "outputs": []
    },
    {
      "cell_type": "code",
      "source": [
        "# Cost incurred per month after the model is built and deployed \n",
        "#model_cost = round(df_merged[df_merged['is_fraud_pred']==1].trans_num.count()/24*1.5 + undetected_frauds.trans_num.count()/24 * df_merged[df_merged['is_fraud']==1].amt.mean() ,2)\n",
        "model_cost = round(customer_support_cost + undetected_fraud_cost ,2)\n",
        "print(model_cost)"
      ],
      "metadata": {
        "id": "3dGC5h2kTJ6F"
      },
      "execution_count": null,
      "outputs": []
    },
    {
      "cell_type": "code",
      "source": [
        "# Final savings = Cost incurred before - Cost incurred after\n",
        "#fraud_transactions_df['Number of fraud Transactions'].mean()*df_merged[df_merged['is_fraud']==1].amt.mean() - df_merged[df_merged['is_fraud_pred']==1].trans_num.count()/24*1.5 + undetected_frauds.trans_num.count()/24 * df_merged[df_merged['is_fraud']==1].amt.mean()\n",
        "total_savings = round((b*c),2) - model_cost\n",
        "print(round(total_savings,2))"
      ],
      "metadata": {
        "id": "2vJtXJHXTMq5"
      },
      "execution_count": null,
      "outputs": []
    },
    {
      "cell_type": "code",
      "source": [
        "print(\"The total savings for the bank would be the difference of costs incurred after and before the model deployment : $\",total_savings )"
      ],
      "metadata": {
        "id": "7bHK-JePTPJX"
      },
      "execution_count": null,
      "outputs": []
    },
    {
      "cell_type": "code",
      "source": [
        ""
      ],
      "metadata": {
        "id": "p-u-AoZ9TUFQ"
      },
      "execution_count": null,
      "outputs": []
    }
  ]
}